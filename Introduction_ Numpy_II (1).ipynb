{
 "cells": [
  {
   "cell_type": "markdown",
   "metadata": {},
   "source": [
    "<h3> Introduction to Numpy </h3>\n",
    "In this section we will learn about numpy package that helps in working with arrays.\n",
    "<h3> References </h3>\n",
    "Python for Data Analysis, 2nd Edition <br>\n",
    "<a href=\"https://docs.scipy.org/doc/numpy-dev/user/quickstart.html\"> Numpy Tutorial </a><br>\n"
   ]
  },
  {
   "cell_type": "markdown",
   "metadata": {
    "collapsed": true
   },
   "source": [
    "#### Histograms"
   ]
  },
  {
   "cell_type": "code",
   "execution_count": 1,
   "metadata": {},
   "outputs": [],
   "source": [
    "import numpy as np\n",
    "import matplotlib.pyplot as plt"
   ]
  },
  {
   "cell_type": "markdown",
   "metadata": {},
   "source": [
    "### What is historgram?"
   ]
  },
  {
   "cell_type": "code",
   "execution_count": 21,
   "metadata": {},
   "outputs": [
    {
     "name": "stdout",
     "output_type": "stream",
     "text": [
      "[1, 2, 2, 3, 1, 5, 3, 4, 3, 1, 4, 3, 5, 5, 2, 3, 4, 4, 4, 1]\n"
     ]
    }
   ],
   "source": [
    "sa = np.array( [1, 2, 3, 4, 5] )\n",
    "data = [ np.random.choice(sa) for _ in range(1000) ]\n",
    "print (data[0:20])"
   ]
  },
  {
   "cell_type": "code",
   "execution_count": 22,
   "metadata": {},
   "outputs": [
    {
     "data": {
      "text/plain": [
       "array([195, 215, 193, 222, 175], dtype=int64)"
      ]
     },
     "execution_count": 22,
     "metadata": {},
     "output_type": "execute_result"
    }
   ],
   "source": [
    "# hist[i] number of samples in bins[i]\n",
    "# number of samples in bin 0 is  defined by binedges[0]<= values of data < bins_edges[1]\n",
    "binedges = np.array( [1, 2, 3, 4, 5, 6] )\n",
    "hist, _ = np.histogram(data, bins=binedges)\n",
    "hist"
   ]
  },
  {
   "cell_type": "code",
   "execution_count": 23,
   "metadata": {},
   "outputs": [
    {
     "data": {
      "image/png": "[encoded data removed]",
      "text/plain": [
       "<Figure size 432x288 with 1 Axes>"
      ]
     },
     "metadata": {},
     "output_type": "display_data"
    }
   ],
   "source": [
    "plt.hist(data, bins=binedges)\n",
    "plt.show()"
   ]
  },
  {
   "cell_type": "code",
   "execution_count": 24,
   "metadata": {},
   "outputs": [
    {
     "data": {
      "text/plain": [
       "195"
      ]
     },
     "execution_count": 24,
     "metadata": {},
     "output_type": "execute_result"
    }
   ],
   "source": [
    "data.count(1)"
   ]
  },
  {
   "cell_type": "code",
   "execution_count": 25,
   "metadata": {},
   "outputs": [],
   "source": [
    "hist, _ = np.histogram(data, bins=binedges, density=True)"
   ]
  },
  {
   "cell_type": "code",
   "execution_count": 26,
   "metadata": {},
   "outputs": [
    {
     "data": {
      "text/plain": [
       "1.0"
      ]
     },
     "execution_count": 26,
     "metadata": {},
     "output_type": "execute_result"
    }
   ],
   "source": [
    "np.sum(hist)"
   ]
  },
  {
   "cell_type": "markdown",
   "metadata": {},
   "source": [
    "density : bool, optional\n",
    "\n",
    "If False, the result will contain the number of samples in each bin. If True, the result is the value of the probability density function at the bin, normalized such that the integral over the range is 1. Note that the sum of the histogram values will not be equal to 1 unless bins of unity width are chosen; it is not a probability mass function."
   ]
  },
  {
   "cell_type": "code",
   "execution_count": 27,
   "metadata": {},
   "outputs": [
    {
     "data": {
      "image/png": "[encoded data removed]",
      "text/plain": [
       "<Figure size 432x288 with 1 Axes>"
      ]
     },
     "metadata": {},
     "output_type": "display_data"
    }
   ],
   "source": [
    "plt.hist(data, density=True, bins=binedges)\n",
    "plt.show()"
   ]
  },
  {
   "cell_type": "code",
   "execution_count": 28,
   "metadata": {},
   "outputs": [],
   "source": [
    "np.diff?"
   ]
  },
  {
   "cell_type": "code",
   "execution_count": 29,
   "metadata": {},
   "outputs": [
    {
     "name": "stdout",
     "output_type": "stream",
     "text": [
      "[1 1 1 1 1]\n"
     ]
    }
   ],
   "source": [
    "w = np.diff(binedges, n=1)\n",
    "print (w)"
   ]
  },
  {
   "cell_type": "code",
   "execution_count": 30,
   "metadata": {},
   "outputs": [
    {
     "data": {
      "text/plain": [
       "1.0"
      ]
     },
     "execution_count": 30,
     "metadata": {},
     "output_type": "execute_result"
    }
   ],
   "source": [
    "isum = w * hist\n",
    "np.sum(isum)"
   ]
  },
  {
   "cell_type": "markdown",
   "metadata": {},
   "source": [
    "Exercise 1: Create 1000 random integer data in the range 0 to 9 with uniform distribution using numpy function np.random.randint(). Create a histogram using pre-specified binedges = [0, 2, 4, 6, 8, 10]. Plot the historgram. \n",
    "For density = True option in the numpy funtion historgram() show that the histogram values in the bins are normalzied so that the integral over the range is 1. "
   ]
  },
  {
   "cell_type": "code",
   "execution_count": 5,
   "metadata": {},
   "outputs": [
    {
     "data": {
      "image/png": "[encoded data removed]",
      "text/plain": [
       "<Figure size 432x288 with 1 Axes>"
      ]
     },
     "metadata": {
      "needs_background": "light"
     },
     "output_type": "display_data"
    },
    {
     "name": "stdout",
     "output_type": "stream",
     "text": [
      "[2 2 2 2 2]\n"
     ]
    },
    {
     "data": {
      "text/plain": [
       "1.0"
      ]
     },
     "execution_count": 5,
     "metadata": {},
     "output_type": "execute_result"
    }
   ],
   "source": [
    "import numpy as np\n",
    "import matplotlib.pyplot as plt\n",
    "data=np.random.randint(0,10,1000)\n",
    "data\n",
    "binedges = np.array( [0, 2, 4, 6, 8, 10] )\n",
    "hist, _ = np.histogram(data, bins=binedges, density=True)\n",
    "plt.hist(data, density=True, bins=binedges)\n",
    "plt.show()\n",
    "w = np.diff(binedges, n=1)\n",
    "print (w)\n",
    "isum = w * hist\n",
    "np.sum(isum)"
   ]
  },
  {
   "cell_type": "code",
   "execution_count": 33,
   "metadata": {},
   "outputs": [
    {
     "name": "stdout",
     "output_type": "stream",
     "text": [
      "[2 2 2 2 2]\n"
     ]
    },
    {
     "data": {
      "text/plain": [
       "1.0"
      ]
     },
     "execution_count": 33,
     "metadata": {},
     "output_type": "execute_result"
    }
   ],
   "source": [
    "data = np.random.randint(0,10, 1000)\n",
    "binedges = np.array([0, 2, 4, 6, 8, 10])\n",
    "hist, _ = np.histogram(data, bins=binedges, density=True)\n",
    "w = np.diff(binedges, n=1)\n",
    "print (w)\n",
    "isum = w * hist\n",
    "np.sum(isum)"
   ]
  },
  {
   "cell_type": "code",
   "execution_count": 34,
   "metadata": {},
   "outputs": [
    {
     "name": "stdout",
     "output_type": "stream",
     "text": [
      "1.9927216821922649\n",
      "0.46897887859806947\n"
     ]
    }
   ],
   "source": [
    "rng = np.random.RandomState(10)  # deterministic random data\n",
    "mu, sigma = 2, 0.5\n",
    "v = rng.normal(mu,sigma,1000)\n",
    "print (np.mean(v))\n",
    "print (np.std(v))"
   ]
  },
  {
   "cell_type": "code",
   "execution_count": 36,
   "metadata": {},
   "outputs": [
    {
     "name": "stdout",
     "output_type": "stream",
     "text": [
      "[  4   8  52 122 203 260 191 113  28  19]\n",
      "[0.39779933 0.69201491 0.98623049 1.28044608 1.57466166 1.86887724\n",
      " 2.16309282 2.45730841 2.75152399 3.04573957 3.33995515]\n"
     ]
    }
   ],
   "source": [
    "hist, bin_edges = np.histogram(v, bins=10, density=False)\n",
    "print (hist)\n",
    "print (bin_edges)"
   ]
  },
  {
   "cell_type": "code",
   "execution_count": 37,
   "metadata": {},
   "outputs": [
    {
     "data": {
      "image/png": "[encoded data removed]",
      "text/plain": [
       "<Figure size 432x288 with 1 Axes>"
      ]
     },
     "metadata": {},
     "output_type": "display_data"
    }
   ],
   "source": [
    "plt.hist(v, bins=bin_edges)\n",
    "plt.show()"
   ]
  },
  {
   "cell_type": "code",
   "execution_count": 38,
   "metadata": {},
   "outputs": [
    {
     "name": "stdout",
     "output_type": "stream",
     "text": [
      "4 0.3977993278351848 0.6920149104506321\n",
      "1000\n"
     ]
    }
   ],
   "source": [
    "# hist[i] number of samples in bins[i]\n",
    "# number of samples in bin 0 is  defined by bin_edges[0]<= values of v < bins_edges[1]\n",
    "print (hist[0], bin_edges[0], bin_edges[1]) \n",
    "print (hist.sum())"
   ]
  },
  {
   "cell_type": "code",
   "execution_count": 39,
   "metadata": {},
   "outputs": [
    {
     "name": "stdout",
     "output_type": "stream",
     "text": [
      "[0.01359547 0.02719095 0.17674115 0.41466193 0.68997025 0.88370574\n",
      " 0.64918383 0.38407211 0.09516831 0.0645785 ]\n"
     ]
    }
   ],
   "source": [
    "histT, bin_edges = np.histogram(v, bins=10, density=True) \n",
    "# here hist[i] is the pdf value at bin i and is normalized such that integral over the range is 1\n",
    "print (histT)"
   ]
  },
  {
   "cell_type": "code",
   "execution_count": 40,
   "metadata": {},
   "outputs": [
    {
     "name": "stdout",
     "output_type": "stream",
     "text": [
      "3.3988682418192786\n",
      "[0.29421558 0.29421558 0.29421558 0.29421558 0.29421558 0.29421558\n",
      " 0.29421558 0.29421558 0.29421558 0.29421558]\n"
     ]
    },
    {
     "data": {
      "text/plain": [
       "1.0"
      ]
     },
     "execution_count": 40,
     "metadata": {},
     "output_type": "execute_result"
    }
   ],
   "source": [
    "print (histT.sum())\n",
    "print (np.diff(bin_edges))\n",
    "np.sum(histT * np.diff(bin_edges))"
   ]
  },
  {
   "cell_type": "code",
   "execution_count": 43,
   "metadata": {},
   "outputs": [
    {
     "data": {
      "image/png": "[encoded data removed]",
      "text/plain": [
       "<Figure size 432x288 with 1 Axes>"
      ]
     },
     "metadata": {},
     "output_type": "display_data"
    }
   ],
   "source": [
    "from scipy.stats import norm  # for plotting pdf\n",
    "plt.hist(v, density=True, bins=bin_edges)\n",
    "xmin, xmax = plt.xlim()\n",
    "x = np.linspace(xmin, xmax, 100)\n",
    "p = norm.pdf(x, mu, sigma)\n",
    "plt.plot(x, p, 'r', linewidth=2)\n",
    "plt.show()"
   ]
  },
  {
   "cell_type": "code",
   "execution_count": 44,
   "metadata": {},
   "outputs": [
    {
     "data": {
      "image/png": "[encoded data removed]",
      "text/plain": [
       "<Figure size 432x288 with 1 Axes>"
      ]
     },
     "metadata": {},
     "output_type": "display_data"
    }
   ],
   "source": [
    "plt.hist(v, density=True, bins=bin_edges)\n",
    "xmin, xmax = plt.xlim()\n",
    "x = np.linspace(xmin, xmax, 100)\n",
    "p = norm.pdf(x, np.mean(v), np.std(v))\n",
    "plt.plot(x, p, 'r', linewidth=2)\n",
    "plt.show()"
   ]
  },
  {
   "cell_type": "markdown",
   "metadata": {},
   "source": [
    "Exercise 2: This exercise is based on a real data of  sale of individual residential property in Ames, Iowa. To complete this exercise, please read the property sale data from a csv file <a href = \"resources/train_house.csv\"> property sale data</a>  into a 2d numpy array. For this you need to download the csv file and save it on your local folder. You can then use the following command to read the csv file into a 2d array:\n",
    "\n",
    "house_data = np.genfromtxt('resources/train_house.csv', skip_header=1,delimiter=',')\n",
    "\n",
    "Also, open the file in excel or notepad to see the header information. For this exercise there are three columns of our interest: 1stFlrSF (first floor sq ft), 2ndFlrSF (second floor sq ft), and  SalePrice.  Extract these columns from 2d numpy array house_data using numpy indexing. You need to compute the price per sqft (sale price/total sq ft) for each house. Compute the historgram and plot the price per sqft data using various number of bins=10,20,30,40, and 50. Based on the computed mean and standard deviation of the data, plot the normal pdf to show the fit along with  each plot (as shown above).  \n"
   ]
  },
  {
   "cell_type": "code",
   "execution_count": 56,
   "metadata": {},
   "outputs": [
    {
     "data": {
      "image/png": "[encoded data removed]",
      "text/plain": [
       "<Figure size 432x288 with 1 Axes>"
      ]
     },
     "metadata": {
      "needs_background": "light"
     },
     "output_type": "display_data"
    }
   ],
   "source": [
    "import numpy as np\n",
    "import pandas as pd\n",
    "from scipy.stats import norm \n",
    "house_data = np.genfromtxt('resources/train_house.csv', skip_header=1,delimiter=',')\n",
    "np.shape(house_data)\n",
    "x=house_data[:,43]\n",
    "y=house_data[:,44]\n",
    "z=house_data[:,80]\n",
    "ActPrice = z / (x +y)\n",
    "\n",
    "# #x=1stFlrSF,y=2ndFlrSF,z=SalePrice.,ppft=pricepersqft.\n",
    "histT, bin_edges = np.histogram(ActPrice, bins = 40, density=True)\n",
    "plt.hist(ActPrice, normed = True, bins = bin_edges)\n",
    "xmin, xmax = plt.xlim()\n",
    "x = np.linspace(xmin, xmax, 100)\n",
    "p = norm.pdf(x, np.mean(ActPrice), np.std(ActPrice))\n",
    "plt.plot(x, p, 'r',linewidth =2)\n",
    "plt.show()\n"
   ]
  },
  {
   "cell_type": "markdown",
   "metadata": {},
   "source": [
    "# Health Data\n",
    "http://www.healthdata.org/results/data-visualizations \n",
    "\n",
    "https://vizhub.healthdata.org/subnational/usa\n",
    "\n",
    "http://ghdx.healthdata.org/record/united-states-diabetes-prevalence-county-1999-2012\n",
    "\n",
    "Download the zip file, and open the excel file. Go to the control sheet, and delete first row and the third row. Next save the sheet as CSV file 'US_County_Diabetes_Control_Rate_1999_2012_full.csv'. "
   ]
  },
  {
   "cell_type": "markdown",
   "metadata": {},
   "source": [
    "Exercise 3: Open the csv file and read the data into a 2d numpy array. There are two columns of our interest: \"Prevalence, 1999, Both Sexes\", and \"Prevalence, 2012, Both Sexes\". Extract the two columns from the 2d numpy array. Plot historgrams for 1999 and 2012 data using 40 bins. Based on the computed mean and standard deviation of the data, plot the normal pdf to show the fit along with  each historgram plot. Comment on the differences between the two historgrams and the corresponding fits with the normal distribution.  "
   ]
  },
  {
   "cell_type": "code",
   "execution_count": null,
   "metadata": {},
   "outputs": [],
   "source": [
    "#Hint \n",
    "Use the following command to \n",
    "ctrl_rate_data = np.genfromtxt('resources/US_County_Diabetes_Control_Rate_1999_2012_full.csv', skip_header=1, delimiter=',')\n",
    "# View the shape of the 2d array\n",
    "np.shape(ctrl_rate_data)\n",
    "# View the file in excel to identify the column number \n",
    "# Extract the two columns using numpy indexing. For example, to extract column#5\n",
    "data5 = ctrl_rate_data[:,5]\n",
    "# Make sure you have extracted the right column by displaying some values and comparing it what you observe in\n",
    "# excel file, for example\n",
    "data5[0:10]\n",
    "# Next plot histograms as indicated in the exercise."
   ]
  },
  {
   "cell_type": "code",
   "execution_count": 74,
   "metadata": {
    "scrolled": false
   },
   "outputs": [
    {
     "data": {
      "image/png": "[encoded data removed]",
      "text/plain": [
       "<Figure size 432x288 with 1 Axes>"
      ]
     },
     "metadata": {
      "needs_background": "light"
     },
     "output_type": "display_data"
    }
   ],
   "source": [
    "ctrl_rate_data = np.genfromtxt('resources/US_County_Diabetes_Control_Rate_1999_2012_full.csv', skip_header=1, delimiter=',')\n",
    "np.shape(ctrl_rate_data)\n",
    "ctrl_rate_data[0:10]\n",
    "Prevalence2012=ctrl_rate_data[:,43]\n",
    "Prevalence1999=ctrl_rate_data[:,2]\n",
    "mu=np.mean(Prevalence1999)\n",
    "sigma=np.std(Prevalence1999)\n",
    "plt.hist(Prevalence1999, density=True, bins=40)\n",
    "xmin, xmax = plt.xlim()\n",
    "x = np.linspace(xmin, xmax, 100)\n",
    "p = norm.pdf(x, mu,sigma)\n",
    "plt.plot(x, p, 'r', linewidth=2)\n",
    "plt.show()\n"
   ]
  },
  {
   "cell_type": "code",
   "execution_count": 76,
   "metadata": {},
   "outputs": [
    {
     "data": {
      "image/png": "[encoded data removed]",
      "text/plain": [
       "<Figure size 432x288 with 1 Axes>"
      ]
     },
     "metadata": {
      "needs_background": "light"
     },
     "output_type": "display_data"
    }
   ],
   "source": [
    "Prevalence2012=ctrl_rate_data[:,43]\n",
    "mean=np.mean(Prevalence2012)\n",
    "std=np.std(Prevalence2012)\n",
    "plt.hist(Prevalence2012, density=True, bins=40)\n",
    "xmin, xmax = plt.xlim()\n",
    "x = np.linspace(xmin, xmax, 100)\n",
    "p = norm.pdf(x, mean,std)\n",
    "plt.plot(x, p, 'r', linewidth=2)\n",
    "plt.show()\n"
   ]
  },
  {
   "cell_type": "markdown",
   "metadata": {},
   "source": [
    "### Working with Sparse Matrices\n",
    "http://www.scipy-lectures.org/advanced/scipy_sparse/storage_schemes.html\n",
    "\n",
    "A matrix that has number of entries as zeroes is referred to as sparse and there are several storage schemes that take advantage of the sparsenenss and only store non-zeroes entries. \n",
    "\n",
    "Example sparse matrix: Netflix Rank Matrix of size 500K Users X  20K Movies (A row in this matrix is sparsely populated)\n",
    "\n",
    "For computational efficiency it becomes necessary to work with sparse storage structure of large sparse matrices. \n",
    "\n",
    "### Example Sparse Matrix Storage Formats\n",
    "\n",
    "####  Coordinate Format (COO)\n",
    "-  also known as the ‘ijv’ or ‘triplet’ format\n",
    "-  three NumPy arrays: row, col, data\n",
    "-  data[i] is value at (row[i], col[i]) position\n"
   ]
  },
  {
   "cell_type": "code",
   "execution_count": 2,
   "metadata": {},
   "outputs": [],
   "source": [
    "import numpy as np\n",
    "import scipy.sparse as sps"
   ]
  },
  {
   "cell_type": "code",
   "execution_count": 3,
   "metadata": {},
   "outputs": [
    {
     "data": {
      "text/plain": [
       "matrix([[4, 0, 9, 0],\n",
       "        [0, 7, 0, 0],\n",
       "        [0, 0, 0, 0],\n",
       "        [0, 0, 0, 5]])"
      ]
     },
     "execution_count": 3,
     "metadata": {},
     "output_type": "execute_result"
    }
   ],
   "source": [
    "#create using (data, ij) tuple:\n",
    "row = np.array([0, 3, 1, 0])\n",
    "col = np.array([0, 3, 1, 2])\n",
    "data = np.array([4, 5, 7, 9])\n",
    "mtx = sps.coo_matrix((data, (row, col)), shape=(4, 4))\n",
    "mtx     \n",
    "mtx.todense()\n"
   ]
  },
  {
   "cell_type": "code",
   "execution_count": 4,
   "metadata": {},
   "outputs": [
    {
     "data": {
      "text/plain": [
       "matrix([[3, 0, 1, 0],\n",
       "        [0, 2, 0, 0],\n",
       "        [0, 0, 0, 0],\n",
       "        [0, 0, 0, 1]])"
      ]
     },
     "execution_count": 4,
     "metadata": {},
     "output_type": "execute_result"
    }
   ],
   "source": [
    "#duplicates entries are summed together:\n",
    "row = np.array([0, 0, 1, 3, 1, 0, 0])\n",
    "col = np.array([0, 2, 1, 3, 1, 0, 0])\n",
    "data = np.array([1, 1, 1, 1, 1, 1, 1])\n",
    "mtx = sps.coo_matrix((data, (row, col)), shape=(4, 4))\n",
    "mtx.todense()\n"
   ]
  },
  {
   "cell_type": "markdown",
   "metadata": {},
   "source": [
    "#### Compressed Sparse Row Format (CSR)\n",
    "- three NumPy arrays: indices, indptr, data\n",
    "- indices is array of column indices\n",
    "- data is array of corresponding nonzero values\n",
    "- indptr points to row starts in indices and data\n"
   ]
  },
  {
   "cell_type": "code",
   "execution_count": 5,
   "metadata": {},
   "outputs": [
    {
     "data": {
      "text/plain": [
       "matrix([[1, 0, 2],\n",
       "        [0, 0, 3],\n",
       "        [4, 5, 6]])"
      ]
     },
     "execution_count": 5,
     "metadata": {},
     "output_type": "execute_result"
    }
   ],
   "source": [
    "data = np.array([1, 2, 3, 4, 5, 6])\n",
    "indices = np.array([0, 2, 2, 0, 1, 2])\n",
    "indptr = np.array([0, 2, 3, 6])\n",
    "mtx = sps.csr_matrix((data, indices, indptr), shape=(3, 3))\n",
    "mtx.todense()"
   ]
  },
  {
   "cell_type": "code",
   "execution_count": 6,
   "metadata": {},
   "outputs": [],
   "source": [
    "from scipy.sparse import lil_matrix\n",
    "from scipy.sparse.linalg import spsolve\n",
    "from numpy.linalg import solve, norm\n",
    "from numpy.random import rand\n",
    "import matplotlib.pylab as plt"
   ]
  },
  {
   "cell_type": "code",
   "execution_count": 7,
   "metadata": {},
   "outputs": [],
   "source": [
    "A = lil_matrix((1000, 1000))\n",
    "A[0, :100] = rand(100)\n",
    "A[1, 100:200] = A[0, :100]\n",
    "A.setdiag(rand(1000))\n"
   ]
  },
  {
   "cell_type": "code",
   "execution_count": 8,
   "metadata": {},
   "outputs": [
    {
     "data": {
      "image/png": "[encoded data removed]",
      "text/plain": [
       "<Figure size 432x288 with 1 Axes>"
      ]
     },
     "metadata": {
      "needs_background": "light"
     },
     "output_type": "display_data"
    }
   ],
   "source": [
    "# Now convert it to CSR format\n",
    "B = A.tocsr()    \n",
    "plt.spy(B)\n",
    "plt.show()"
   ]
  },
  {
   "cell_type": "code",
   "execution_count": 9,
   "metadata": {},
   "outputs": [
    {
     "data": {
      "image/png": "[encoded data removed]",
      "text/plain": [
       "<Figure size 432x288 with 1 Axes>"
      ]
     },
     "metadata": {
      "needs_background": "light"
     },
     "output_type": "display_data"
    }
   ],
   "source": [
    "BS = B[0:20, 0:20]    \n",
    "plt.spy(BS)\n",
    "plt.show()"
   ]
  },
  {
   "cell_type": "code",
   "execution_count": 10,
   "metadata": {},
   "outputs": [
    {
     "data": {
      "image/png": "[encoded data removed]",
      "text/plain": [
       "<Figure size 432x288 with 1 Axes>"
      ]
     },
     "metadata": {
      "needs_background": "light"
     },
     "output_type": "display_data"
    }
   ],
   "source": [
    "BS = B[0:2, 90:110]    \n",
    "plt.spy(BS)\n",
    "plt.show()"
   ]
  },
  {
   "cell_type": "code",
   "execution_count": null,
   "metadata": {},
   "outputs": [],
   "source": [
    "# Create RHS and solve A x = b for x:\n",
    "b = rand(1000)\n",
    "# for performance reason convert to CSR format\n",
    "csrA = A.tocsr()\n",
    "x = spsolve(csrA, b)"
   ]
  },
  {
   "cell_type": "code",
   "execution_count": null,
   "metadata": {},
   "outputs": [],
   "source": [
    "# Convert it to a dense matrix and solve, and check that the result is the same:\n",
    "x_ = solve(A.toarray(), b)"
   ]
  },
  {
   "cell_type": "code",
   "execution_count": null,
   "metadata": {},
   "outputs": [],
   "source": [
    "err = norm(x-x_)\n",
    "err < 1e-10\n"
   ]
  },
  {
   "cell_type": "markdown",
   "metadata": {},
   "source": [
    "Exercise 4: Create a sparse movie rank matrix for 200 users and 200 movies. For each user assign a random score of 1 to 5 for 3 to 5 randomly selected movies. Use spy() to visualize the randomly created matrix.\n"
   ]
  },
  {
   "cell_type": "code",
   "execution_count": null,
   "metadata": {},
   "outputs": [],
   "source": [
    "np.full?"
   ]
  },
  {
   "cell_type": "code",
   "execution_count": null,
   "metadata": {},
   "outputs": [],
   "source": [
    "#HINT: First create the sparsity structure of the movie rank matrix.\n",
    "# Next assign a score for each non-zero. \n",
    "# The code fragment below show how to generate sparsity structure in coo format for a row (user) of the movie rank matrix.\n",
    "# For this we will use numpy functions: \n",
    "# np.random.choice(), np.random.randint(), np.full(). \n",
    "# for example to generate number of randomly selected movies for a user (row)\n",
    "number_of_movies_for_user = np.random.randint(3,6)\n",
    "print(number_of_movies_for_user)\n",
    "# Randomly select movies seen by a user by generating the indices in the range 0 to total_num_movies-1 using\n",
    "# Random_choice function. total_num_movies = 200\n",
    "total_num_movies = 200\n",
    "movies_seen_by_user = np.random.choice(total_num_movies, number_of_movies_for_user, replace=False)\n",
    "print (movies_seen_by_user)\n",
    "# We now have column indices (movies_seen_by_user) for a row of movie rank matrix. For coo format we also need row indices.\n",
    "# The row inidices for a user is determined by the row number. For example, for user corresponding to row#5, we can\n",
    "# generate row indices by\n",
    "row_indices = np.full(number_of_movies_for_user, 5)\n",
    "print (row_indices)\n",
    "# You need to repeate this for every user to construct the sparsity structure of the full  matrix. Next you have to assign\n",
    "# random score in the data array. The size of the data array is total number of column inidices for all users."
   ]
  },
  {
   "cell_type": "code",
   "execution_count": 23,
   "metadata": {},
   "outputs": [
    {
     "name": "stdout",
     "output_type": "stream",
     "text": [
      "781\n",
      "[2 1 0 1 1 4 1 2 4 0 5 0 2 4 4 5 4 3 2 1 3 2 3 0 3 4 5 4 5 5 5 5 5 4 1 1 2\n",
      " 4 4 5 0 4 4 4 4 1 5 5 2 4 1 4 4 2 1 1 3 3 3 3 3 0 4 1 0 1 5 4 1 4 2 2 4 2\n",
      " 2 5 0 2 1 2 4 3 2 0 4 2 1 2 5 2 3 1 3 0 0 0 0 3 4 5 3 5 3 5 5 1 3 2 1 4 1\n",
      " 1 4 0 3 0 1 3 0 0 5 5 1 0 4 1 2 0 0 1 4 3 3 2 3 0 5 3 3 1 5 2 5 3 4 1 0 2\n",
      " 1 0 4 1 2 0 5 0 2 0 3 4 1 4 2 1 3 0 2 0 3 4 2 1 2 4 0 2 4 0 5 1 5 0 5 4 3\n",
      " 2 1 5 5 0 1 0 0 4 4 2 3 0 5 3 2 0 2 0 3 3 1 5 5 5 3 3 2 2 0 1 0 2 0 3 5 1\n",
      " 5 4 4 1 5 1 2 0 4 5 1 5 5 5 1 1 3 2 2 5 4 1 2 1 5 4 4 4 0 5 2 1 4 3 2 5 1\n",
      " 5 4 1 5 5 2 0 0 3 3 0 4 5 0 0 1 5 5 2 0 5 2 0 2 3 4 1 2 3 1 0 5 2 0 3 2 1\n",
      " 5 2 0 5 1 1 1 1 5 5 3 0 0 5 2 0 0 4 2 4 2 2 1 0 1 5 3 5 4 0 4 2 0 2 4 4 5\n",
      " 3 3 4 2 3 4 0 0 5 1 1 2 3 3 0 3 5 3 3 0 5 5 0 2 5 3 5 1 4 5 3 4 0 5 2 5 4\n",
      " 1 3 1 2 1 3 1 0 0 5 2 1 3 0 0 0 5 1 3 2 1 2 1 5 5 2 3 3 3 1 5 0 0 3 4 2 3\n",
      " 5 3 3 5 3 4 4 4 2 1 2 5 4 3 1 0 3 3 0 5 4 5 0 1 5 1 3 1 0 4 0 3 2 0 5 1 5\n",
      " 2 5 0 5 5 3 2 5 0 4 2 5 2 3 3 1 0 5 4 1 0 3 3 2 1 2 3 5 2 0 0 1 1 4 0 4 2\n",
      " 0 0 5 3 1 0 3 5 2 1 3 2 5 4 4 5 0 5 4 1 5 2 4 5 5 4 4 1 3 4 0 4 1 0 0 2 5\n",
      " 5 0 5 4 1 0 1 3 4 1 1 2 5 2 4 1 5 1 4 2 4 4 5 2 4 3 5 4 3 5 1 1 1 1 3 4 5\n",
      " 0 3 3 5 3 1 2 0 2 0 0 3 1 3 2 0 2 3 0 5 3 3 1 1 3 2 5 1 2 0 3 4 2 1 2 4 1\n",
      " 5 2 4 0 3 1 4 2 0 1 4 4 4 2 0 1 1 2 4 1 4 4 4 1 5 1 3 3 4 1 1 3 0 5 3 2 5\n",
      " 0 5 3 4 3 2 4 2 5 2 4 5 2 0 4 3 4 0 3 0 0 0 4 3 1 3 5 4 3 2 4 4 4 2 3 3 2\n",
      " 4 0 1 0 2 1 3 4 1 4 5 4 3 2 5 1 2 4 2 2 4 0 4 5 3 3 1 5 5 0 3 3 4 2 1 5 3\n",
      " 5 1 2 5 2 1 4 1 1 4 2 2 0 1 0 4 2 2 5 0 4 4 2 3 3 2 2 4 0 0 1 0 5 2 3 5 4\n",
      " 4 5 2 5 5 2 3 1 2 0 5 2 2 2 4 2 0 5 2 3 1 0 0 4 2 3 0 5 5 5 1 3 5 3 4 2 4\n",
      " 4 3 0 0]\n"
     ]
    },
    {
     "data": {
      "image/png": "[encoded data removed]",
      "text/plain": [
       "<Figure size 432x288 with 1 Axes>"
      ]
     },
     "metadata": {
      "needs_background": "light"
     },
     "output_type": "display_data"
    }
   ],
   "source": [
    "import numpy as np\n",
    "import matplotlib.pylab as plt\n",
    "import scipy.sparse as sps\n",
    "movies=200\n",
    "users=200\n",
    "col = np.empty(0, int)\n",
    "row = np.empty(0, int)\n",
    "for row_ind in range (users):\n",
    "    selectedmovies=np.random.randint(3,6)\n",
    "    tcol=np.random.choice(movies,selectedmovies, replace=False)#to fill the number of movies watched by a user in the column.\n",
    "    col=np.append(col,tcol)\n",
    "    trow=np.full(selectedmovies,row_ind)\n",
    "    row=np.append(row,trow)\n",
    "nonzeroes=len(col)\n",
    "print(nonzeroes)\n",
    "score=np.random.randint(6,size=nonzeroes)\n",
    "print(score)\n",
    "A = sps.coo_matrix((score,(row,col)),shape=(users,movies))#constructing matrix using the package.\n",
    "\n",
    "plt.spy(A, markersize = 1)\n",
    "plt.draw()\n",
    "plt.show()\n"
   ]
  },
  {
   "cell_type": "code",
   "execution_count": null,
   "metadata": {},
   "outputs": [],
   "source": [
    " "
   ]
  }
 ],
 "metadata": {
  "kernelspec": {
   "display_name": "Python 3",
   "language": "python",
   "name": "python3"
  },
  "language_info": {
   "codemirror_mode": {
    "name": "ipython",
    "version": 3
   },
   "file_extension": ".py",
   "mimetype": "text/x-python",
   "name": "python",
   "nbconvert_exporter": "python",
   "pygments_lexer": "ipython3",
   "version": "3.7.1"
  }
 },
 "nbformat": 4,
 "nbformat_minor": 2
}
