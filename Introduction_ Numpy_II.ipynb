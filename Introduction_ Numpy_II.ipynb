{
 "cells": [
  {
   "cell_type": "markdown",
   "metadata": {},
   "source": [
    "<h3> Introduction to Numpy </h3>\n",
    "In this section we will learn about numpy package that helps in working with arrays.\n",
    "<h3> References </h3>\n",
    "Python for Data Analysis, 2nd Edition <br>\n",
    "<a href=\"https://docs.scipy.org/doc/numpy-dev/user/quickstart.html\"> Numpy Tutorial </a><br>\n"
   ]
  },
  {
   "cell_type": "markdown",
   "metadata": {
    "collapsed": true
   },
   "source": [
    "#### Histograms"
   ]
  },
  {
   "cell_type": "code",
   "execution_count": 1,
   "metadata": {
    "collapsed": true
   },
   "outputs": [],
   "source": [
    "import numpy as np\n",
    "import matplotlib.pyplot as plt"
   ]
  },
  {
   "cell_type": "markdown",
   "metadata": {},
   "source": [
    "### What is historgram?"
   ]
  },
  {
   "cell_type": "code",
   "execution_count": 27,
   "metadata": {
    "collapsed": true
   },
   "outputs": [],
   "source": [
    "sa = np.array( [1, 2, 3, 4, 5] )\n",
    "data = [ np.random.choice(sa) for _ in range(1000) ]\n",
    "#print (data)"
   ]
  },
  {
   "cell_type": "code",
   "execution_count": 17,
   "metadata": {
    "collapsed": true
   },
   "outputs": [],
   "source": [
    "# hist[i] number of samples in bins[i]\n",
    "# number of samples in bin 0 is  defined by binedges[0]<= values of v < bins_edges[1]\n",
    "binedges = np.array( [1, 2, 3, 4, 5, 6] )\n",
    "hist, _ = np.histogram(data, bins=binedges)"
   ]
  },
  {
   "cell_type": "code",
   "execution_count": 18,
   "metadata": {},
   "outputs": [
    {
     "name": "stdout",
     "output_type": "stream",
     "text": [
      "[196 228 204 186 186]\n"
     ]
    }
   ],
   "source": [
    "print(hist)"
   ]
  },
  {
   "cell_type": "code",
   "execution_count": 9,
   "metadata": {},
   "outputs": [
    {
     "data": {
      "image/png": "[encoded data removed]",
      "text/plain": [
       "<matplotlib.figure.Figure at 0x263b24e7080>"
      ]
     },
     "metadata": {},
     "output_type": "display_data"
    }
   ],
   "source": [
    "plt.hist(data, bins=binedges)\n",
    "plt.show()"
   ]
  },
  {
   "cell_type": "code",
   "execution_count": 16,
   "metadata": {},
   "outputs": [
    {
     "data": {
      "text/plain": [
       "228"
      ]
     },
     "execution_count": 16,
     "metadata": {},
     "output_type": "execute_result"
    }
   ],
   "source": [
    "data.count(2)"
   ]
  },
  {
   "cell_type": "code",
   "execution_count": 19,
   "metadata": {
    "collapsed": true
   },
   "outputs": [],
   "source": [
    "hist, _ = np.histogram(data, bins=binedges, density=True)"
   ]
  },
  {
   "cell_type": "code",
   "execution_count": 20,
   "metadata": {},
   "outputs": [
    {
     "data": {
      "text/plain": [
       "array([ 0.196,  0.228,  0.204,  0.186,  0.186])"
      ]
     },
     "execution_count": 20,
     "metadata": {},
     "output_type": "execute_result"
    }
   ],
   "source": [
    "hist"
   ]
  },
  {
   "cell_type": "markdown",
   "metadata": {},
   "source": [
    "density : bool, optional\n",
    "\n",
    "If False, the result will contain the number of samples in each bin. If True, the result is the value of the probability density function at the bin, normalized such that the integral over the range is 1. Note that the sum of the histogram values will not be equal to 1 unless bins of unity width are chosen; it is not a probability mass function."
   ]
  },
  {
   "cell_type": "code",
   "execution_count": 21,
   "metadata": {},
   "outputs": [
    {
     "data": {
      "image/png": "[encoded data removed]",
      "text/plain": [
       "<matplotlib.figure.Figure at 0x263b339ef98>"
      ]
     },
     "metadata": {},
     "output_type": "display_data"
    }
   ],
   "source": [
    "plt.hist(data, normed = True, bins=binedges)\n",
    "plt.show()"
   ]
  },
  {
   "cell_type": "code",
   "execution_count": 22,
   "metadata": {},
   "outputs": [
    {
     "name": "stdout",
     "output_type": "stream",
     "text": [
      "[1 1 1 1 1]\n"
     ]
    }
   ],
   "source": [
    "w = np.diff(binedges)\n",
    "print(w)"
   ]
  },
  {
   "cell_type": "code",
   "execution_count": 23,
   "metadata": {},
   "outputs": [
    {
     "data": {
      "text/plain": [
       "1.0"
      ]
     },
     "execution_count": 23,
     "metadata": {},
     "output_type": "execute_result"
    }
   ],
   "source": [
    "isum = w * hist\n",
    "np.sum(isum)"
   ]
  },
  {
   "cell_type": "markdown",
   "metadata": {},
   "source": [
    "Exercise 1: Create 1000 random integer data in the range 0 to 9 with uniform distribution using numpy function np.random.randint(). Create a histogram using pre-specified binedges = [0, 2, 4, 6, 8, 10]. Plot the historgram. \n",
    "For density = True option in the numpy funtion historgram() show that the histogram values in the bins are normalzied so that the integral over the range is 1. "
   ]
  },
  {
   "cell_type": "code",
   "execution_count": 32,
   "metadata": {
    "scrolled": true
   },
   "outputs": [
    {
     "data": {
      "image/png": "[encoded data removed]",
      "text/plain": [
       "<matplotlib.figure.Figure at 0x263b3462470>"
      ]
     },
     "metadata": {},
     "output_type": "display_data"
    },
    {
     "data": {
      "text/plain": [
       "1.0"
      ]
     },
     "execution_count": 32,
     "metadata": {},
     "output_type": "execute_result"
    }
   ],
   "source": [
    "tada = np.random.randint(0,10,1000)\n",
    "nibedges = np.array([0, 2, 4, 6, 8, 10])\n",
    "hist, _ = np.histogram(tada, bins = nibedges, density = True)\n",
    "plt.hist(tada, bins = nibedges)\n",
    "plt.show()\n",
    "w = np.diff(nibedges)\n",
    "isum = w * chart\n",
    "np.sum(isum)"
   ]
  },
  {
   "cell_type": "code",
   "execution_count": 36,
   "metadata": {},
   "outputs": [
    {
     "name": "stdout",
     "output_type": "stream",
     "text": [
      "1.99272168219\n",
      "0.468978878598\n",
      "[  4   8  52 122 203 260 191 113  28  19]\n",
      "[ 0.39779933  0.69201491  0.98623049  1.28044608  1.57466166  1.86887724\n",
      "  2.16309282  2.45730841  2.75152399  3.04573957  3.33995515]\n"
     ]
    }
   ],
   "source": [
    "rng = np.random.RandomState(10)  # deterministic random data\n",
    "mu, sigma = 2, 0.5\n",
    "v = rng.normal(mu,sigma,1000)\n",
    "print (np.mean(v))\n",
    "print (np.std(v))\n",
    "hist, bin_edges = np.histogram(v, bins=10, density=False)\n",
    "print (hist)\n",
    "print (bin_edges)"
   ]
  },
  {
   "cell_type": "code",
   "execution_count": 34,
   "metadata": {},
   "outputs": [
    {
     "data": {
      "image/png": "[encoded data removed]",
      "text/plain": [
       "<matplotlib.figure.Figure at 0x263b2f54550>"
      ]
     },
     "metadata": {},
     "output_type": "display_data"
    }
   ],
   "source": [
    "plt.hist(v, bins=bin_edges)\n",
    "plt.show()"
   ]
  },
  {
   "cell_type": "code",
   "execution_count": 37,
   "metadata": {},
   "outputs": [
    {
     "name": "stdout",
     "output_type": "stream",
     "text": [
      "4 0.397799327835 0.692014910451\n",
      "1000\n"
     ]
    }
   ],
   "source": [
    "# hist[i] number of samples in bins[i]\n",
    "# number of samples in bin 0 is  defined by bin_edges[0]<= values of v < bins_edges[1]\n",
    "print (hist[0], bin_edges[0], bin_edges[1]) \n",
    "print (hist.sum())"
   ]
  },
  {
   "cell_type": "code",
   "execution_count": 38,
   "metadata": {},
   "outputs": [
    {
     "name": "stdout",
     "output_type": "stream",
     "text": [
      "[ 0.01359547  0.02719095  0.17674115  0.41466193  0.68997025  0.88370574\n",
      "  0.64918383  0.38407211  0.09516831  0.0645785 ]\n",
      "3.39886824182\n",
      "[ 0.29421558  0.29421558  0.29421558  0.29421558  0.29421558  0.29421558\n",
      "  0.29421558  0.29421558  0.29421558  0.29421558]\n"
     ]
    },
    {
     "data": {
      "text/plain": [
       "1.0"
      ]
     },
     "execution_count": 38,
     "metadata": {},
     "output_type": "execute_result"
    }
   ],
   "source": [
    "histT, bin_edges = np.histogram(v, bins=10, density=True) \n",
    "# here hist[i] is the pdf value at bin i and is normalized such that integral over the range is 1\n",
    "print (histT)\n",
    "print (histT.sum())\n",
    "print (np.diff(bin_edges))\n",
    "np.sum(histT * np.diff(bin_edges))"
   ]
  },
  {
   "cell_type": "code",
   "execution_count": 39,
   "metadata": {
    "scrolled": true
   },
   "outputs": [
    {
     "data": {
      "image/png": "[encoded data removed]",
      "text/plain": [
       "<matplotlib.figure.Figure at 0x263b38bcb70>"
      ]
     },
     "metadata": {},
     "output_type": "display_data"
    }
   ],
   "source": [
    "import matplotlib.mlab as mlab   # for plotting pdf\n",
    "plt.hist(v, normed=True, bins=bin_edges)\n",
    "xmin, xmax = plt.xlim()\n",
    "x = np.linspace(xmin, xmax, 100)\n",
    "p = mlab.normpdf(x, mu, sigma)\n",
    "plt.plot(x, p, 'r', linewidth=2)\n",
    "plt.show()"
   ]
  },
  {
   "cell_type": "code",
   "execution_count": 40,
   "metadata": {},
   "outputs": [
    {
     "data": {
      "image/png": "[encoded data removed]",
      "text/plain": [
       "<matplotlib.figure.Figure at 0x263b333dc18>"
      ]
     },
     "metadata": {},
     "output_type": "display_data"
    }
   ],
   "source": [
    "plt.hist(v, normed=True, bins=bin_edges)\n",
    "xmin, xmax = plt.xlim()\n",
    "x = np.linspace(xmin, xmax, 100)\n",
    "p = mlab.normpdf(x, np.mean(v), np.std(v))\n",
    "plt.plot(x, p, 'r', linewidth=2)\n",
    "plt.show()"
   ]
  },
  {
   "cell_type": "code",
   "execution_count": 44,
   "metadata": {},
   "outputs": [
    {
     "name": "stdout",
     "output_type": "stream",
     "text": [
      "1.0\n",
      "[ 0.29421558  0.29421558  0.29421558  0.29421558  0.29421558  0.29421558\n",
      "  0.29421558  0.29421558  0.29421558  0.29421558]\n",
      "[ 0.004  0.008  0.052  0.122  0.203  0.26   0.191  0.113  0.028  0.019]\n",
      "[ 0.004  0.008  0.052  0.122  0.203  0.26   0.191  0.113  0.028  0.019]\n"
     ]
    }
   ],
   "source": [
    "histTP = histT * np.diff(bin_edges)\n",
    "print (histTP.sum()) #total area for the histogram plot\n",
    "print (np.diff(bin_edges))\n",
    "print (histTP)\n",
    "print (hist/1000)"
   ]
  },
  {
   "cell_type": "markdown",
   "metadata": {},
   "source": [
    "Exercise 2: This exercise is based on a real data of  sale of individual residential property in Ames, Iowa. To complete this exercise, please read the property sale data from a csv file <a href = \"resources/train_house.csv\"> property sale data</a>  into a 2d numpy array. For this you need to download the csv file and save it on your local folder. You can then use the following command to read the csv file into a 2d array:\n",
    "\n",
    "house_data = np.genfromtxt('resources/train_house.csv', skip_header=1,delimiter=',')\n",
    "\n",
    "Also, open the file in excel or notepad to see the header information. For this exercise there are three columns of our interest: 1stFlrSF (first floor sq ft), 2ndFlrSF (second floor sq ft), and  SalePrice.  Extract these columns from 2d numpy array house_data using numpy indexing. You need to compute the price per sqft (sale price/total sq ft) for each house. Compute the historgram and plot the price per sqft data using various number of bins=10,20,30,40, and 50. Based on the computed mean and standard deviation of the data, plot the normal pdf to show the fit along with  each plot (as shown above).  \n"
   ]
  },
  {
   "cell_type": "code",
   "execution_count": 8,
   "metadata": {},
   "outputs": [
    {
     "name": "stdout",
     "output_type": "stream",
     "text": [
      "[121.92982456 143.81933439 125.1399776   81.53756552 113.73976342\n",
      " 104.99265786 181.22786305  95.6937799   73.22435175 109.5636026 ]\n"
     ]
    },
    {
     "data": {
      "image/png": "[encoded data removed]",
      "text/plain": [
       "<Figure size 432x288 with 1 Axes>"
      ]
     },
     "metadata": {
      "needs_background": "light"
     },
     "output_type": "display_data"
    }
   ],
   "source": [
    "import numpy as np\n",
    "import matplotlib.pyplot as plt\n",
    "from scipy.stats import norm\n",
    "house_data = np.genfromtxt('resources/train_house.csv', skip_header=1,delimiter=',')\n",
    "np.shape(house_data)\n",
    "ffsq = house_data[:, 43]\n",
    "sssq = house_data[:, 44]\n",
    "price = house_data[:, 80]\n",
    "ActPrice = price / (ffsq + sssq)\n",
    "ActPrice\n",
    "print(ActPrice[0:10])\n",
    "import matplotlib.mlab as mlab\n",
    "histT, bin_edges = np.histogram(ActPrice, bins = 40, density=True)\n",
    "plt.hist(ActPrice, normed = True, bins = bin_edges)\n",
    "xmin, xmax = plt.xlim()\n",
    "x = np.linspace(xmin, xmax, 100)\n",
    "p = norm.pdf(x, np.mean(ActPrice), np.std(ActPrice))\n",
    "plt.plot(x, p, 'g', linewidth =2)\n",
    "plt.show()"
   ]
  },
  {
   "cell_type": "markdown",
   "metadata": {},
   "source": [
    "### Health Data\n",
    "http://www.healthdata.org/results/data-visualizations \n",
    "\n",
    "https://vizhub.healthdata.org/subnational/usa\n",
    "\n",
    "http://ghdx.healthdata.org/record/united-states-diabetes-prevalence-county-1999-2012\n",
    "\n",
    "Download the zip file, and open the excel file. Go to the control sheet, and delete first row and the third row. Next save the sheet as CSV file 'US_County_Diabetes_Control_Rate_1999_2012_full.csv'. "
   ]
  },
  {
   "cell_type": "markdown",
   "metadata": {},
   "source": [
    "Exercise 3: For this exercise there are two columns of our interest: \"Prevalence, 1999, Both Sexes\", and \"Prevalence, 2012, Both Sexes\". xtract these columns from 2d numpy array house_data using numpy indexing. Plot historgrams for 1999 and 2012 data using 40 bins. Based on the computed mean and standard deviation of the data, plot the normal pdf to show the fit along with  each historgram plot. Comment on the differences between the two historgrams and the corresponding fits with the normal distribution.  "
   ]
  },
  {
   "cell_type": "code",
   "execution_count": 67,
   "metadata": {},
   "outputs": [
    {
     "data": {
      "image/png": "[encoded data removed]",
      "text/plain": [
       "<matplotlib.figure.Figure at 0x263b2e95c88>"
      ]
     },
     "metadata": {},
     "output_type": "display_data"
    }
   ],
   "source": [
    "the_data = np.genfromtxt('US_County_Diabetes_Control_Rate_1999_2012_full.csv',skip_header=1,delimiter=',')\n",
    "np.shape(the_data)\n",
    "prev99 = the_data[:,2]\n",
    "prev12 = the_data[:,41]\n",
    "mu = np.mean(prev99)\n",
    "sigma = np.std(prev99)\n",
    "plt.hist(prev99, normed = True, bins=40)\n",
    "xmin, xmax = plt.xlim()\n",
    "x = np.linspace(xmin, xmax, 100)\n",
    "p = mlab.normpdf(x, mu, sigma)\n",
    "plt.plot(x, p, 'r', linewidth=2)\n",
    "plt.show()\n",
    "\n"
   ]
  },
  {
   "cell_type": "code",
   "execution_count": 68,
   "metadata": {},
   "outputs": [
    {
     "data": {
      "image/png": "[encoded data removed]",
      "text/plain": [
       "<matplotlib.figure.Figure at 0x263b51c4940>"
      ]
     },
     "metadata": {},
     "output_type": "display_data"
    }
   ],
   "source": [
    "mu = np.mean(prev12)\n",
    "sigma = np.std(prev12)\n",
    "plt.hist(prev12, normed = True, bins = 40)\n",
    "xmin, xmax = plt.xlim()\n",
    "x = np.linspace(xmin, xmax, 100)\n",
    "p = mlab.normpdf(x, mu, sigma)\n",
    "plt.plot(x, p, 'r', linewidth=2)\n",
    "plt.show()"
   ]
  },
  {
   "cell_type": "markdown",
   "metadata": {},
   "source": [
    "### Working with Sparse Matrices\n",
    "http://www.scipy-lectures.org/advanced/scipy_sparse/storage_schemes.html\n",
    "\n",
    "A matrix that has number of entries as zeroes is referred to as sparse and there are several storage schemes that take advantage of the sparsenenss and only store non-zeroes entries. \n",
    "\n",
    "Example sparse matrix: Netflix Rank Matrix of size 500K Users X  20K Movies (A row in this matrix is sparsely populated)\n",
    "\n",
    "For computational efficiency it becomes necessary to work with sparse storage structure of large sparse matrices. \n",
    "\n",
    "### Example Sparse Matrix Storage Formats\n",
    "\n",
    "####  Coordinate Format (COO)\n",
    "-  also known as the ‘ijv’ or ‘triplet’ format\n",
    "-  three NumPy arrays: row, col, data\n",
    "-  data[i] is value at (row[i], col[i]) position\n"
   ]
  },
  {
   "cell_type": "code",
   "execution_count": 69,
   "metadata": {
    "collapsed": true
   },
   "outputs": [],
   "source": [
    "import numpy as np\n",
    "import scipy.sparse as sps"
   ]
  },
  {
   "cell_type": "code",
   "execution_count": 71,
   "metadata": {},
   "outputs": [
    {
     "data": {
      "text/plain": [
       "matrix([[1, 0, 0, 0],\n",
       "        [0, 1, 0, 0],\n",
       "        [0, 0, 1, 0],\n",
       "        [0, 0, 0, 1]])"
      ]
     },
     "execution_count": 71,
     "metadata": {},
     "output_type": "execute_result"
    }
   ],
   "source": [
    "#create using (data, ij) tuple:\n",
    "row = np.array([0, 3, 1, 2])\n",
    "col = np.array([0, 3, 1, 2])\n",
    "data = np.array([1, 1, 1, 1])\n",
    "mtx = sps.coo_matrix((data, (row, col)), shape=(4, 4))\n",
    "mtx     \n",
    "mtx.todense()\n"
   ]
  },
  {
   "cell_type": "code",
   "execution_count": 72,
   "metadata": {},
   "outputs": [
    {
     "data": {
      "text/plain": [
       "matrix([[3, 0, 1, 0],\n",
       "        [0, 2, 0, 0],\n",
       "        [0, 0, 0, 0],\n",
       "        [0, 0, 0, 1]])"
      ]
     },
     "execution_count": 72,
     "metadata": {},
     "output_type": "execute_result"
    }
   ],
   "source": [
    "#duplicates entries are summed together:\n",
    "row = np.array([0, 0, 1, 3, 1, 0, 0])\n",
    "col = np.array([0, 2, 1, 3, 1, 0, 0])\n",
    "data = np.array([1, 1, 1, 1, 1, 1, 1])\n",
    "mtx = sps.coo_matrix((data, (row, col)), shape=(4, 4))\n",
    "mtx.todense()\n"
   ]
  },
  {
   "cell_type": "markdown",
   "metadata": {},
   "source": [
    "#### Compressed Sparse Row Format (CSR)\n",
    "- three NumPy arrays: indices, indptr, data\n",
    "- indices is array of column indices\n",
    "- data is array of corresponding nonzero values\n",
    "- indptr points to row starts in indices and data\n"
   ]
  },
  {
   "cell_type": "code",
   "execution_count": 73,
   "metadata": {},
   "outputs": [
    {
     "data": {
      "text/plain": [
       "matrix([[1, 0, 2],\n",
       "        [0, 0, 3],\n",
       "        [4, 5, 6]])"
      ]
     },
     "execution_count": 73,
     "metadata": {},
     "output_type": "execute_result"
    }
   ],
   "source": [
    "data = np.array([1, 2, 3, 4, 5, 6])\n",
    "indices = np.array([0, 2, 2, 0, 1, 2])#column index\n",
    "indptr = np.array([0, 2, 3, 6])#where each row starts in a matrix\n",
    "mtx = sps.csr_matrix((data, indices, indptr), shape=(3, 3))\n",
    "mtx.todense()"
   ]
  },
  {
   "cell_type": "code",
   "execution_count": 74,
   "metadata": {
    "collapsed": true
   },
   "outputs": [],
   "source": [
    "from scipy.sparse import lil_matrix\n",
    "from scipy.sparse.linalg import spsolve\n",
    "from numpy.linalg import solve, norm\n",
    "from numpy.random import rand\n",
    "import matplotlib.pylab as plt"
   ]
  },
  {
   "cell_type": "code",
   "execution_count": 75,
   "metadata": {
    "collapsed": true
   },
   "outputs": [],
   "source": [
    "A = lil_matrix((1000, 1000))\n",
    "A[0, :100] = rand(100)\n",
    "A[1, 100:200] = A[0, :100]\n",
    "A.setdiag(rand(1000))\n"
   ]
  },
  {
   "cell_type": "code",
   "execution_count": 76,
   "metadata": {},
   "outputs": [
    {
     "data": {
      "image/png": "[encoded data removed]",
      "text/plain": [
       "<matplotlib.figure.Figure at 0x263b41952e8>"
      ]
     },
     "metadata": {},
     "output_type": "display_data"
    }
   ],
   "source": [
    "# Now convert it to CSR format\n",
    "A = A.tocsr()    \n",
    "plt.spy(A)\n",
    "plt.show()"
   ]
  },
  {
   "cell_type": "code",
   "execution_count": 77,
   "metadata": {
    "collapsed": true
   },
   "outputs": [],
   "source": [
    "# Create RHS and solve A x = b for x:\n",
    "b = rand(1000)\n",
    "x = spsolve(A, b)"
   ]
  },
  {
   "cell_type": "code",
   "execution_count": 78,
   "metadata": {
    "collapsed": true
   },
   "outputs": [],
   "source": [
    "# Convert it to a dense matrix and solve, and check that the result is the same:\n",
    "x_ = solve(A.toarray(), b)"
   ]
  },
  {
   "cell_type": "code",
   "execution_count": 79,
   "metadata": {},
   "outputs": [
    {
     "data": {
      "text/plain": [
       "True"
      ]
     },
     "execution_count": 79,
     "metadata": {},
     "output_type": "execute_result"
    }
   ],
   "source": [
    "err = norm(x-x_)\n",
    "err < 1e-10\n"
   ]
  },
  {
   "cell_type": "markdown",
   "metadata": {},
   "source": [
    "Exercise 4: Create a sparse movie rank matrix for 200 users and 200 movies. For each user assign a random score of 1 to 5 for 3 to 5 randomly selected movies. Use spy() to visualize the randomly created matrix.\n",
    "imHINT: Create three numpy arrays 'ijv' for coo format using numpy functions such as: np.random.choice(), np.random.randint(), np.full(). You may want to setup a loop over number of users for populating row and column index arrays. "
   ]
  },
  {
   "cell_type": "code",
   "execution_count": 92,
   "metadata": {},
   "outputs": [
    {
     "data": {
      "image/png": "[encoded data removed]",
      "text/plain": [
       "<matplotlib.figure.Figure at 0x263b3c0f240>"
      ]
     },
     "metadata": {},
     "output_type": "display_data"
    }
   ],
   "source": [
    "import numpy as np\n",
    "import matplotlib.pylab as plt\n",
    "import scipy.sparse as sps\n",
    "movies = 200\n",
    "users = 200\n",
    "max_score_plus_1 = 6\n",
    "LL = 3\n",
    "UL = 6\n",
    "col = np.empty(0, int)\n",
    "row = np.empty(0, int)\n",
    "for row_ind in range(users):\n",
    "    smovies = np.random.randint(LL, UL)\n",
    "    tcol = np.random.choice(movies, smovies, replace = False)\n",
    "    col = np.append(col, tcol)\n",
    "    trow = np.full(smovies, row_ind)\n",
    "    row = np.append(row, trow)\n",
    "    \n",
    "nonz = len(col)\n",
    "score = np.random.randint(max_score_plus_1, size = nonz)\n",
    "mtx = sps.coo_matrix((score, (row, col)), shape =(users, movies))\n",
    "mtx = mtx.tocsr()\n",
    "plt.spy(mtx, markersize = 1)\n",
    "plt.draw()\n",
    "plt.show()"
   ]
  }
 ],
 "metadata": {
  "kernelspec": {
   "display_name": "Python 3",
   "language": "python",
   "name": "python3"
  },
  "language_info": {
   "codemirror_mode": {
    "name": "ipython",
    "version": 3
   },
   "file_extension": ".py",
   "mimetype": "text/x-python",
   "name": "python",
   "nbconvert_exporter": "python",
   "pygments_lexer": "ipython3",
   "version": "3.7.1"
  }
 },
 "nbformat": 4,
 "nbformat_minor": 2
}
