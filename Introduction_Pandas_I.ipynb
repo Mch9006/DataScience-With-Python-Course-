{
 "cells": [
  {
   "cell_type": "markdown",
   "metadata": {},
   "source": [
    "## Introduction to Pandas\n",
    "\n",
    "Python for Data Analysis, 2nd Edition\n",
    "Data Wrangling with Pandas, NumPy, and IPython\n",
    "By William McKinney\n",
    "Publisher: O'Reilly Media\n",
    "Release Date: October 2017\n",
    "Pages: 522\n",
    "http://proquest.safaribooksonline.com/book/programming/python/9781491957653/\n",
    "\n",
    "https://pandas.pydata.org/pandas-docs/stable/dsintro.html\n"
   ]
  },
  {
   "cell_type": "markdown",
   "metadata": {
    "collapsed": true
   },
   "source": [
    "<h3>Series</h3>\n",
    "\n",
    "A Series is a one-dimensional array-like object containing a sequence of values (of similar types to NumPy types) and an associated array of data labels, called its index. The simplest Series is formed from only an array of data:"
   ]
  },
  {
   "cell_type": "code",
   "execution_count": 4,
   "metadata": {},
   "outputs": [],
   "source": [
    "import pandas as pd\n",
    "import numpy as np"
   ]
  },
  {
   "cell_type": "code",
   "execution_count": 5,
   "metadata": {},
   "outputs": [
    {
     "name": "stdout",
     "output_type": "stream",
     "text": [
      "0    4\n",
      "1    7\n",
      "2   -5\n",
      "3    3\n",
      "dtype: int64\n"
     ]
    }
   ],
   "source": [
    "obj = pd.Series([4, 7, -5, 3]) # no index specified, default\n",
    "print (obj)"
   ]
  },
  {
   "cell_type": "code",
   "execution_count": 6,
   "metadata": {},
   "outputs": [
    {
     "name": "stdout",
     "output_type": "stream",
     "text": [
      "[ 4  7 -5  3]\n",
      "RangeIndex(start=0, stop=4, step=1)\n"
     ]
    }
   ],
   "source": [
    "print (obj.values)\n",
    "print (obj.index)"
   ]
  },
  {
   "cell_type": "code",
   "execution_count": 7,
   "metadata": {},
   "outputs": [
    {
     "name": "stdout",
     "output_type": "stream",
     "text": [
      "d    4\n",
      "b    7\n",
      "a   -5\n",
      "c    3\n",
      "dtype: int64\n"
     ]
    }
   ],
   "source": [
    "obj2 = pd.Series([4, 7, -5, 3], index=['d', 'b', 'a', 'c'])\n",
    "print (obj2)"
   ]
  },
  {
   "cell_type": "code",
   "execution_count": 8,
   "metadata": {},
   "outputs": [
    {
     "name": "stdout",
     "output_type": "stream",
     "text": [
      "[ 4  7 -5  3]\n",
      "Index(['d', 'b', 'a', 'c'], dtype='object')\n"
     ]
    }
   ],
   "source": [
    "print (obj2.values)\n",
    "print (obj2.index)"
   ]
  },
  {
   "cell_type": "code",
   "execution_count": 9,
   "metadata": {},
   "outputs": [
    {
     "name": "stdout",
     "output_type": "stream",
     "text": [
      "d    4\n",
      "b    7\n",
      "c    3\n",
      "dtype: int64\n"
     ]
    }
   ],
   "source": [
    "print (obj2[obj2 > 0])"
   ]
  },
  {
   "cell_type": "code",
   "execution_count": 10,
   "metadata": {},
   "outputs": [
    {
     "name": "stdout",
     "output_type": "stream",
     "text": [
      "d    4\n",
      "b    7\n",
      "dtype: int64\n",
      "d    4\n",
      "a   -5\n",
      "dtype: int64\n"
     ]
    }
   ],
   "source": [
    "print (obj2[0:2])\n",
    "print (obj2[::2])"
   ]
  },
  {
   "cell_type": "code",
   "execution_count": 11,
   "metadata": {},
   "outputs": [
    {
     "name": "stdout",
     "output_type": "stream",
     "text": [
      "a   -10.0\n",
      "b     NaN\n",
      "c     NaN\n",
      "d     8.0\n",
      "dtype: float64\n"
     ]
    }
   ],
   "source": [
    "print (obj2 + obj2[::2]) # note that obj2[::2] has missing values for b and c"
   ]
  },
  {
   "cell_type": "code",
   "execution_count": 12,
   "metadata": {},
   "outputs": [
    {
     "data": {
      "text/plain": [
       "Ohio      35000\n",
       "Texas     71000\n",
       "Oregon    16000\n",
       "Utah       5000\n",
       "dtype: int64"
      ]
     },
     "execution_count": 12,
     "metadata": {},
     "output_type": "execute_result"
    }
   ],
   "source": [
    "#Create a series from data contained in a Python dict.\n",
    "sdata = {'Ohio': 35000, 'Texas': 71000, 'Oregon': 16000, 'Utah': 5000}\n",
    "obj3 = pd.Series(sdata)\n",
    "obj3"
   ]
  },
  {
   "cell_type": "markdown",
   "metadata": {},
   "source": [
    "Exercise 1: Given two lists one containings keys and the other values, first create a dictionary and then create a Panda series using the created dictionary. Next show how to create an identical panda series directly from the two lists without converting to dictionary. Test your code on:\n",
    "\n",
    "List1: ['Ohio', 'Texas', 'Oregon', 'Utah']\n",
    "\n",
    "List2: [35000, 71000, 16000, 5000]\n",
    "\n",
    "Hint: Use zip for the first part, and for the second part see example in Cell 4"
   ]
  },
  {
   "cell_type": "code",
   "execution_count": 13,
   "metadata": {},
   "outputs": [
    {
     "name": "stdout",
     "output_type": "stream",
     "text": [
      "{'Ohio': 35000, 'Texas': 71000, 'Oregon': 16000, 'Utah': 5000}\n",
      "35000      Ohio\n",
      "71000     Texas\n",
      "16000    Oregon\n",
      "5000       Utah\n",
      "dtype: object\n"
     ]
    }
   ],
   "source": [
    "List1= ['Ohio', 'Texas', 'Oregon', 'Utah']\n",
    "\n",
    "List2= [35000, 71000, 16000, 5000]\n",
    "data=zip(List1,List2)\n",
    "diction=dict(data)\n",
    "print(diction)\n",
    "\n",
    "obj2 = pd.Series(['Ohio', 'Texas', 'Oregon', 'Utah'], index=[35000, 71000, 16000, 5000])\n",
    "print (obj2)"
   ]
  },
  {
   "cell_type": "markdown",
   "metadata": {},
   "source": [
    "### Time Series \n",
    "\n",
    "It is a series indexed by timestamp. Time series data is an important form of structured data in many different fields, such as finance, economics, ecology, neuroscience, and physics. \n",
    "\n"
   ]
  },
  {
   "cell_type": "code",
   "execution_count": 14,
   "metadata": {},
   "outputs": [],
   "source": [
    "from datetime import datetime\n",
    "import numpy as np"
   ]
  },
  {
   "cell_type": "code",
   "execution_count": 14,
   "metadata": {},
   "outputs": [],
   "source": [
    "datetime?"
   ]
  },
  {
   "cell_type": "code",
   "execution_count": 15,
   "metadata": {},
   "outputs": [
    {
     "data": {
      "text/plain": [
       "array([ 0.65902291,  0.64320336, -0.33331161,  1.15091282, -0.31415951,\n",
       "        0.22626941])"
      ]
     },
     "execution_count": 15,
     "metadata": {},
     "output_type": "execute_result"
    }
   ],
   "source": [
    "# create a time series of size 6 of random data\n",
    "values = np.random.randn(6)\n",
    "values"
   ]
  },
  {
   "cell_type": "code",
   "execution_count": 16,
   "metadata": {},
   "outputs": [
    {
     "data": {
      "text/plain": [
       "[datetime.datetime(2011, 1, 2, 0, 0),\n",
       " datetime.datetime(2011, 1, 5, 0, 0),\n",
       " datetime.datetime(2011, 1, 7, 0, 0),\n",
       " datetime.datetime(2011, 1, 8, 0, 0),\n",
       " datetime.datetime(2011, 1, 10, 0, 0),\n",
       " datetime.datetime(2011, 1, 12, 0, 0)]"
      ]
     },
     "execution_count": 16,
     "metadata": {},
     "output_type": "execute_result"
    }
   ],
   "source": [
    "dates = [datetime(2011, 1, 2), datetime(2011, 1, 5),\n",
    "            datetime(2011, 1, 7), datetime(2011, 1, 8),\n",
    "            datetime(2011, 1, 10), datetime(2011, 1, 12)]\n",
    "dates"
   ]
  },
  {
   "cell_type": "code",
   "execution_count": 17,
   "metadata": {},
   "outputs": [
    {
     "data": {
      "text/plain": [
       "2011-01-02    0.659023\n",
       "2011-01-05    0.643203\n",
       "2011-01-07   -0.333312\n",
       "2011-01-08    1.150913\n",
       "2011-01-10   -0.314160\n",
       "2011-01-12    0.226269\n",
       "dtype: float64"
      ]
     },
     "execution_count": 17,
     "metadata": {},
     "output_type": "execute_result"
    }
   ],
   "source": [
    "ts = pd.Series(values, index=dates)\n",
    "ts"
   ]
  },
  {
   "cell_type": "code",
   "execution_count": 18,
   "metadata": {},
   "outputs": [],
   "source": [
    "# Use of pandas date_range for generating time index\n",
    "pd.date_range?"
   ]
  },
  {
   "cell_type": "code",
   "execution_count": 19,
   "metadata": {},
   "outputs": [
    {
     "data": {
      "text/plain": [
       "DatetimeIndex(['2000-01-01', '2000-01-02', '2000-01-03', '2000-01-04',\n",
       "               '2000-01-05', '2000-01-06', '2000-01-07', '2000-01-08',\n",
       "               '2000-01-09', '2000-01-10'],\n",
       "              dtype='datetime64[ns]', freq='D')"
      ]
     },
     "execution_count": 19,
     "metadata": {},
     "output_type": "execute_result"
    }
   ],
   "source": [
    "dates = pd.date_range('1/1/2000', periods=10) # default frequency daily\n",
    "dates"
   ]
  },
  {
   "cell_type": "code",
   "execution_count": 20,
   "metadata": {},
   "outputs": [
    {
     "data": {
      "text/plain": [
       "array([-1.5467625 , -1.01485731,  1.55699653, -0.46670655,  0.78338475,\n",
       "        1.05616179,  0.64631292, -0.8085553 ,  0.2720545 , -0.32508086])"
      ]
     },
     "execution_count": 20,
     "metadata": {},
     "output_type": "execute_result"
    }
   ],
   "source": [
    "values = np.random.randn(10)\n",
    "values"
   ]
  },
  {
   "cell_type": "code",
   "execution_count": 21,
   "metadata": {
    "scrolled": false
   },
   "outputs": [
    {
     "name": "stdout",
     "output_type": "stream",
     "text": [
      "2000-01-01   -1.546763\n",
      "2000-01-02   -1.014857\n",
      "2000-01-03    1.556997\n",
      "2000-01-04   -0.466707\n",
      "2000-01-05    0.783385\n",
      "2000-01-06    1.056162\n",
      "2000-01-07    0.646313\n",
      "2000-01-08   -0.808555\n",
      "2000-01-09    0.272054\n",
      "2000-01-10   -0.325081\n",
      "Freq: D, dtype: float64\n"
     ]
    }
   ],
   "source": [
    "ts = pd.Series(values,index=dates) \n",
    "print (ts)"
   ]
  },
  {
   "cell_type": "code",
   "execution_count": 22,
   "metadata": {},
   "outputs": [
    {
     "name": "stdout",
     "output_type": "stream",
     "text": [
      "2000-01-01 00:00:00    1.673877\n",
      "2000-01-01 04:00:00    0.293622\n",
      "2000-01-01 08:00:00   -0.590537\n",
      "2000-01-01 12:00:00   -0.591132\n",
      "2000-01-01 16:00:00    1.375739\n",
      "2000-01-01 20:00:00   -0.974210\n",
      "2000-01-02 00:00:00   -0.258809\n",
      "2000-01-02 04:00:00   -0.691913\n",
      "2000-01-02 08:00:00   -2.201911\n",
      "2000-01-02 12:00:00    1.941715\n",
      "Freq: 4H, dtype: float64\n"
     ]
    }
   ],
   "source": [
    "ts = pd.Series(np.random.randn(10),index=pd.date_range('1/1/2000', periods=10, freq='4H')) \n",
    "print (ts)"
   ]
  },
  {
   "cell_type": "code",
   "execution_count": 23,
   "metadata": {},
   "outputs": [
    {
     "name": "stdout",
     "output_type": "stream",
     "text": [
      "2000-01-01 00:00:00    1.673877\n",
      "2000-01-01 04:00:00    0.293622\n",
      "2000-01-01 08:00:00   -0.590537\n",
      "2000-01-01 12:00:00   -0.591132\n",
      "Freq: 4H, dtype: float64\n"
     ]
    }
   ],
   "source": [
    "print (ts.truncate(after='2000-01-01 12:00:00'))"
   ]
  },
  {
   "cell_type": "code",
   "execution_count": 24,
   "metadata": {},
   "outputs": [
    {
     "name": "stdout",
     "output_type": "stream",
     "text": [
      "2001-01-31    0.747247\n",
      "2001-02-28    0.164980\n",
      "2001-03-31    0.278638\n",
      "2001-04-30    1.365572\n",
      "2001-05-31   -0.695129\n",
      "2001-06-30    0.196298\n",
      "2001-07-31   -0.217218\n",
      "2001-08-31    1.063180\n",
      "2001-09-30   -1.661802\n",
      "2001-10-31    0.476491\n",
      "2001-11-30    0.141803\n",
      "2001-12-31    0.228536\n",
      "Freq: M, dtype: float64\n"
     ]
    }
   ],
   "source": [
    "# index time series\n",
    "ts = pd.Series(np.random.randn(50),index=pd.date_range('1/1/2000', periods=50, freq='M')) \n",
    "print (ts['2001'])"
   ]
  },
  {
   "cell_type": "markdown",
   "metadata": {},
   "source": [
    "Exercise 2: Create a times series that has some random values for the following dates (similar to first example):\n",
    "dates = [datetime(2011, 1, 2), datetime(2011, 1, 5),\n",
    "            datetime(2012, 1, 7), datetime(2012, 1, 8),\n",
    "            datetime(2012, 1, 10), datetime(2012, 2, 12)]\n",
    "Selectively print the series for the year 2011. Next selectively print the series for January 2012."
   ]
  },
  {
   "cell_type": "code",
   "execution_count": 25,
   "metadata": {},
   "outputs": [
    {
     "name": "stdout",
     "output_type": "stream",
     "text": [
      "2011-01-02    0.635481\n",
      "2011-01-05    0.711496\n",
      "dtype: float64\n",
      "2012-01-07   -2.026049\n",
      "2012-01-08   -0.388416\n",
      "2012-01-10   -0.942777\n",
      "2012-01-12    1.565149\n",
      "dtype: float64\n"
     ]
    }
   ],
   "source": [
    "values = np.random.randn(6)\n",
    "values\n",
    "\n",
    "dates = [datetime(2011, 1, 2), datetime(2011, 1, 5),\n",
    "            datetime(2012, 1, 7), datetime(2012, 1, 8),\n",
    "            datetime(2012, 1, 10), datetime(2012, 1, 12)]\n",
    "dates\n",
    "ts = pd.Series(values, index=dates)\n",
    "ts\n",
    "print(ts['2011'])\n",
    "print(ts['2012'])"
   ]
  },
  {
   "cell_type": "markdown",
   "metadata": {},
   "source": [
    "###  Data Frame \n",
    "A DataFrame represents a rectangular table of data and contains an ordered collection of columns, each of which can be a different value type (numeric, string, boolean, etc.). The DataFrame has both a row and column index; it can be thought of as a dict of Series all sharing the same index. \n",
    "\n",
    "One way to create a DataFrame is from a dict of equal-length lists or NumPy arrays:\n"
   ]
  },
  {
   "cell_type": "code",
   "execution_count": 26,
   "metadata": {},
   "outputs": [
    {
     "data": {
      "text/html": [
       "<div>\n",
       "<style scoped>\n",
       "    .dataframe tbody tr th:only-of-type {\n",
       "        vertical-align: middle;\n",
       "    }\n",
       "\n",
       "    .dataframe tbody tr th {\n",
       "        vertical-align: top;\n",
       "    }\n",
       "\n",
       "    .dataframe thead th {\n",
       "        text-align: right;\n",
       "    }\n",
       "</style>\n",
       "<table border=\"1\" class=\"dataframe\">\n",
       "  <thead>\n",
       "    <tr style=\"text-align: right;\">\n",
       "      <th></th>\n",
       "      <th>state</th>\n",
       "      <th>year</th>\n",
       "      <th>pop</th>\n",
       "    </tr>\n",
       "  </thead>\n",
       "  <tbody>\n",
       "    <tr>\n",
       "      <th>0</th>\n",
       "      <td>Ohio</td>\n",
       "      <td>2000</td>\n",
       "      <td>1.5</td>\n",
       "    </tr>\n",
       "    <tr>\n",
       "      <th>1</th>\n",
       "      <td>Ohio</td>\n",
       "      <td>2001</td>\n",
       "      <td>1.7</td>\n",
       "    </tr>\n",
       "    <tr>\n",
       "      <th>2</th>\n",
       "      <td>Ohio</td>\n",
       "      <td>2002</td>\n",
       "      <td>3.6</td>\n",
       "    </tr>\n",
       "    <tr>\n",
       "      <th>3</th>\n",
       "      <td>Nevada</td>\n",
       "      <td>2001</td>\n",
       "      <td>2.4</td>\n",
       "    </tr>\n",
       "    <tr>\n",
       "      <th>4</th>\n",
       "      <td>Nevada</td>\n",
       "      <td>2002</td>\n",
       "      <td>2.9</td>\n",
       "    </tr>\n",
       "    <tr>\n",
       "      <th>5</th>\n",
       "      <td>Nevada</td>\n",
       "      <td>2003</td>\n",
       "      <td>3.2</td>\n",
       "    </tr>\n",
       "  </tbody>\n",
       "</table>\n",
       "</div>"
      ],
      "text/plain": [
       "    state  year  pop\n",
       "0    Ohio  2000  1.5\n",
       "1    Ohio  2001  1.7\n",
       "2    Ohio  2002  3.6\n",
       "3  Nevada  2001  2.4\n",
       "4  Nevada  2002  2.9\n",
       "5  Nevada  2003  3.2"
      ]
     },
     "execution_count": 26,
     "metadata": {},
     "output_type": "execute_result"
    }
   ],
   "source": [
    "data = {'state': ['Ohio', 'Ohio', 'Ohio', 'Nevada', 'Nevada', 'Nevada'],\n",
    "        'year': [2000, 2001, 2002, 2001, 2002, 2003],\n",
    "        'pop': [1.5, 1.7, 3.6, 2.4, 2.9, 3.2]}\n",
    "frame = pd.DataFrame(data)\n",
    "frame"
   ]
  },
  {
   "cell_type": "code",
   "execution_count": 44,
   "metadata": {},
   "outputs": [],
   "source": [
    "#access a row\n",
    "frame.loc?"
   ]
  },
  {
   "cell_type": "code",
   "execution_count": 27,
   "metadata": {},
   "outputs": [
    {
     "data": {
      "text/plain": [
       "state    Nevada\n",
       "year       2001\n",
       "pop         2.4\n",
       "Name: 3, dtype: object"
      ]
     },
     "execution_count": 27,
     "metadata": {},
     "output_type": "execute_result"
    }
   ],
   "source": [
    "frame.loc[3]"
   ]
  },
  {
   "cell_type": "code",
   "execution_count": 28,
   "metadata": {},
   "outputs": [
    {
     "data": {
      "text/plain": [
       "0      Ohio\n",
       "1      Ohio\n",
       "2      Ohio\n",
       "3    Nevada\n",
       "4    Nevada\n",
       "5    Nevada\n",
       "Name: state, dtype: object"
      ]
     },
     "execution_count": 28,
     "metadata": {},
     "output_type": "execute_result"
    }
   ],
   "source": [
    "# access a column\n",
    "frame['state']"
   ]
  },
  {
   "cell_type": "code",
   "execution_count": null,
   "metadata": {},
   "outputs": [],
   "source": [
    "# access a column\n",
    "frame.state"
   ]
  },
  {
   "cell_type": "code",
   "execution_count": 29,
   "metadata": {},
   "outputs": [
    {
     "data": {
      "text/html": [
       "<div>\n",
       "<style scoped>\n",
       "    .dataframe tbody tr th:only-of-type {\n",
       "        vertical-align: middle;\n",
       "    }\n",
       "\n",
       "    .dataframe tbody tr th {\n",
       "        vertical-align: top;\n",
       "    }\n",
       "\n",
       "    .dataframe thead th {\n",
       "        text-align: right;\n",
       "    }\n",
       "</style>\n",
       "<table border=\"1\" class=\"dataframe\">\n",
       "  <thead>\n",
       "    <tr style=\"text-align: right;\">\n",
       "      <th></th>\n",
       "      <th>us state</th>\n",
       "      <th>year</th>\n",
       "      <th>pop</th>\n",
       "    </tr>\n",
       "  </thead>\n",
       "  <tbody>\n",
       "    <tr>\n",
       "      <th>0</th>\n",
       "      <td>Ohio</td>\n",
       "      <td>2000</td>\n",
       "      <td>1.5</td>\n",
       "    </tr>\n",
       "    <tr>\n",
       "      <th>1</th>\n",
       "      <td>Ohio</td>\n",
       "      <td>2001</td>\n",
       "      <td>1.7</td>\n",
       "    </tr>\n",
       "    <tr>\n",
       "      <th>2</th>\n",
       "      <td>Ohio</td>\n",
       "      <td>2002</td>\n",
       "      <td>3.6</td>\n",
       "    </tr>\n",
       "    <tr>\n",
       "      <th>3</th>\n",
       "      <td>Nevada</td>\n",
       "      <td>2001</td>\n",
       "      <td>2.4</td>\n",
       "    </tr>\n",
       "    <tr>\n",
       "      <th>4</th>\n",
       "      <td>Nevada</td>\n",
       "      <td>2002</td>\n",
       "      <td>2.9</td>\n",
       "    </tr>\n",
       "    <tr>\n",
       "      <th>5</th>\n",
       "      <td>Nevada</td>\n",
       "      <td>2003</td>\n",
       "      <td>3.2</td>\n",
       "    </tr>\n",
       "  </tbody>\n",
       "</table>\n",
       "</div>"
      ],
      "text/plain": [
       "  us state  year  pop\n",
       "0     Ohio  2000  1.5\n",
       "1     Ohio  2001  1.7\n",
       "2     Ohio  2002  3.6\n",
       "3   Nevada  2001  2.4\n",
       "4   Nevada  2002  2.9\n",
       "5   Nevada  2003  3.2"
      ]
     },
     "execution_count": 29,
     "metadata": {},
     "output_type": "execute_result"
    }
   ],
   "source": [
    "data = {'us state': ['Ohio', 'Ohio', 'Ohio', 'Nevada', 'Nevada', 'Nevada'],\n",
    "        'year': [2000, 2001, 2002, 2001, 2002, 2003],\n",
    "        'pop': [1.5, 1.7, 3.6, 2.4, 2.9, 3.2]}\n",
    "frame = pd.DataFrame(data)\n",
    "frame"
   ]
  },
  {
   "cell_type": "code",
   "execution_count": 53,
   "metadata": {
    "scrolled": false
   },
   "outputs": [
    {
     "data": {
      "text/plain": [
       "0      Ohio\n",
       "1      Ohio\n",
       "2      Ohio\n",
       "3    Nevada\n",
       "4    Nevada\n",
       "5    Nevada\n",
       "Name: us state, dtype: object"
      ]
     },
     "execution_count": 53,
     "metadata": {},
     "output_type": "execute_result"
    }
   ],
   "source": [
    "frame['us state']"
   ]
  },
  {
   "cell_type": "code",
   "execution_count": 54,
   "metadata": {
    "scrolled": true
   },
   "outputs": [
    {
     "data": {
      "text/plain": [
       "0      Ohio\n",
       "1      Ohio\n",
       "2      Ohio\n",
       "3    Nevada\n",
       "4    Nevada\n",
       "5    Nevada\n",
       "Name: us state, dtype: object"
      ]
     },
     "execution_count": 54,
     "metadata": {},
     "output_type": "execute_result"
    }
   ],
   "source": [
    "frame['us state']"
   ]
  },
  {
   "cell_type": "code",
   "execution_count": 55,
   "metadata": {},
   "outputs": [],
   "source": [
    "data = {'state': ['Ohio', 'Ohio', 'Ohio', 'Nevada', 'Nevada', 'Nevada'],\n",
    "        'year': [2000, 2001, 2002, 2001, 2002, 2003],\n",
    "        'pop': [1.5, 1.7, 3.6, 2.4, 2.9, 3.2]}\n",
    "frame = pd.DataFrame(data)"
   ]
  },
  {
   "cell_type": "code",
   "execution_count": 56,
   "metadata": {},
   "outputs": [
    {
     "name": "stdout",
     "output_type": "stream",
     "text": [
      "Nevada\n"
     ]
    }
   ],
   "source": [
    "s=frame['state']\n",
    "print(s[3])"
   ]
  },
  {
   "cell_type": "code",
   "execution_count": 57,
   "metadata": {},
   "outputs": [
    {
     "data": {
      "text/html": [
       "<div>\n",
       "<style scoped>\n",
       "    .dataframe tbody tr th:only-of-type {\n",
       "        vertical-align: middle;\n",
       "    }\n",
       "\n",
       "    .dataframe tbody tr th {\n",
       "        vertical-align: top;\n",
       "    }\n",
       "\n",
       "    .dataframe thead th {\n",
       "        text-align: right;\n",
       "    }\n",
       "</style>\n",
       "<table border=\"1\" class=\"dataframe\">\n",
       "  <thead>\n",
       "    <tr style=\"text-align: right;\">\n",
       "      <th></th>\n",
       "      <th>pop</th>\n",
       "      <th>year</th>\n",
       "    </tr>\n",
       "  </thead>\n",
       "  <tbody>\n",
       "    <tr>\n",
       "      <th>0</th>\n",
       "      <td>1.5</td>\n",
       "      <td>2000</td>\n",
       "    </tr>\n",
       "    <tr>\n",
       "      <th>1</th>\n",
       "      <td>1.7</td>\n",
       "      <td>2001</td>\n",
       "    </tr>\n",
       "    <tr>\n",
       "      <th>2</th>\n",
       "      <td>3.6</td>\n",
       "      <td>2002</td>\n",
       "    </tr>\n",
       "    <tr>\n",
       "      <th>3</th>\n",
       "      <td>2.4</td>\n",
       "      <td>2001</td>\n",
       "    </tr>\n",
       "    <tr>\n",
       "      <th>4</th>\n",
       "      <td>2.9</td>\n",
       "      <td>2002</td>\n",
       "    </tr>\n",
       "    <tr>\n",
       "      <th>5</th>\n",
       "      <td>3.2</td>\n",
       "      <td>2003</td>\n",
       "    </tr>\n",
       "  </tbody>\n",
       "</table>\n",
       "</div>"
      ],
      "text/plain": [
       "   pop  year\n",
       "0  1.5  2000\n",
       "1  1.7  2001\n",
       "2  3.6  2002\n",
       "3  2.4  2001\n",
       "4  2.9  2002\n",
       "5  3.2  2003"
      ]
     },
     "execution_count": 57,
     "metadata": {},
     "output_type": "execute_result"
    }
   ],
   "source": [
    "# access selective columns\n",
    "frame[['pop', 'year']]"
   ]
  },
  {
   "cell_type": "code",
   "execution_count": 31,
   "metadata": {},
   "outputs": [],
   "source": [
    "frame2 = pd.DataFrame(frame)"
   ]
  },
  {
   "cell_type": "code",
   "execution_count": 32,
   "metadata": {},
   "outputs": [
    {
     "data": {
      "text/html": [
       "<div>\n",
       "<style scoped>\n",
       "    .dataframe tbody tr th:only-of-type {\n",
       "        vertical-align: middle;\n",
       "    }\n",
       "\n",
       "    .dataframe tbody tr th {\n",
       "        vertical-align: top;\n",
       "    }\n",
       "\n",
       "    .dataframe thead th {\n",
       "        text-align: right;\n",
       "    }\n",
       "</style>\n",
       "<table border=\"1\" class=\"dataframe\">\n",
       "  <thead>\n",
       "    <tr style=\"text-align: right;\">\n",
       "      <th></th>\n",
       "      <th>us state</th>\n",
       "      <th>year</th>\n",
       "      <th>pop</th>\n",
       "    </tr>\n",
       "  </thead>\n",
       "  <tbody>\n",
       "    <tr>\n",
       "      <th>0</th>\n",
       "      <td>Ohio</td>\n",
       "      <td>2000</td>\n",
       "      <td>1.5</td>\n",
       "    </tr>\n",
       "    <tr>\n",
       "      <th>1</th>\n",
       "      <td>Ohio</td>\n",
       "      <td>2001</td>\n",
       "      <td>1.7</td>\n",
       "    </tr>\n",
       "    <tr>\n",
       "      <th>2</th>\n",
       "      <td>Ohio</td>\n",
       "      <td>2002</td>\n",
       "      <td>3.6</td>\n",
       "    </tr>\n",
       "    <tr>\n",
       "      <th>3</th>\n",
       "      <td>Nevada</td>\n",
       "      <td>2001</td>\n",
       "      <td>2.4</td>\n",
       "    </tr>\n",
       "    <tr>\n",
       "      <th>4</th>\n",
       "      <td>pop</td>\n",
       "      <td>state</td>\n",
       "      <td>year</td>\n",
       "    </tr>\n",
       "    <tr>\n",
       "      <th>5</th>\n",
       "      <td>Nevada</td>\n",
       "      <td>2003</td>\n",
       "      <td>3.2</td>\n",
       "    </tr>\n",
       "  </tbody>\n",
       "</table>\n",
       "</div>"
      ],
      "text/plain": [
       "  us state   year   pop\n",
       "0     Ohio   2000   1.5\n",
       "1     Ohio   2001   1.7\n",
       "2     Ohio   2002   3.6\n",
       "3   Nevada   2001   2.4\n",
       "4      pop  state  year\n",
       "5   Nevada   2003   3.2"
      ]
     },
     "execution_count": 32,
     "metadata": {},
     "output_type": "execute_result"
    }
   ],
   "source": [
    "# replace row 4\n",
    "frame2.iloc[4] = dict(pop=1.2,state='Virginia',year=1999)\n",
    "frame2\n"
   ]
  },
  {
   "cell_type": "code",
   "execution_count": 33,
   "metadata": {},
   "outputs": [
    {
     "data": {
      "text/html": [
       "<div>\n",
       "<style scoped>\n",
       "    .dataframe tbody tr th:only-of-type {\n",
       "        vertical-align: middle;\n",
       "    }\n",
       "\n",
       "    .dataframe tbody tr th {\n",
       "        vertical-align: top;\n",
       "    }\n",
       "\n",
       "    .dataframe thead th {\n",
       "        text-align: right;\n",
       "    }\n",
       "</style>\n",
       "<table border=\"1\" class=\"dataframe\">\n",
       "  <thead>\n",
       "    <tr style=\"text-align: right;\">\n",
       "      <th></th>\n",
       "      <th>us state</th>\n",
       "      <th>year</th>\n",
       "      <th>pop</th>\n",
       "    </tr>\n",
       "  </thead>\n",
       "  <tbody>\n",
       "    <tr>\n",
       "      <th>0</th>\n",
       "      <td>Ohio</td>\n",
       "      <td>2000</td>\n",
       "      <td>1.5</td>\n",
       "    </tr>\n",
       "    <tr>\n",
       "      <th>1</th>\n",
       "      <td>Ohio</td>\n",
       "      <td>2001</td>\n",
       "      <td>1.7</td>\n",
       "    </tr>\n",
       "    <tr>\n",
       "      <th>2</th>\n",
       "      <td>Ohio</td>\n",
       "      <td>2002</td>\n",
       "      <td>3.6</td>\n",
       "    </tr>\n",
       "    <tr>\n",
       "      <th>3</th>\n",
       "      <td>Nevada</td>\n",
       "      <td>2001</td>\n",
       "      <td>2.4</td>\n",
       "    </tr>\n",
       "    <tr>\n",
       "      <th>4</th>\n",
       "      <td>NaN</td>\n",
       "      <td>1999</td>\n",
       "      <td>1.2</td>\n",
       "    </tr>\n",
       "    <tr>\n",
       "      <th>5</th>\n",
       "      <td>Nevada</td>\n",
       "      <td>2003</td>\n",
       "      <td>3.2</td>\n",
       "    </tr>\n",
       "  </tbody>\n",
       "</table>\n",
       "</div>"
      ],
      "text/plain": [
       "  us state  year  pop\n",
       "0     Ohio  2000  1.5\n",
       "1     Ohio  2001  1.7\n",
       "2     Ohio  2002  3.6\n",
       "3   Nevada  2001  2.4\n",
       "4      NaN  1999  1.2\n",
       "5   Nevada  2003  3.2"
      ]
     },
     "execution_count": 33,
     "metadata": {},
     "output_type": "execute_result"
    }
   ],
   "source": [
    "#need to create a series before assignment\n",
    "frame.iloc[4] =pd.Series(dict(pop=1.2,state='Virginia',year=1999))\n",
    "frame"
   ]
  },
  {
   "cell_type": "code",
   "execution_count": 34,
   "metadata": {
    "scrolled": true
   },
   "outputs": [
    {
     "data": {
      "text/html": [
       "<div>\n",
       "<style scoped>\n",
       "    .dataframe tbody tr th:only-of-type {\n",
       "        vertical-align: middle;\n",
       "    }\n",
       "\n",
       "    .dataframe tbody tr th {\n",
       "        vertical-align: top;\n",
       "    }\n",
       "\n",
       "    .dataframe thead th {\n",
       "        text-align: right;\n",
       "    }\n",
       "</style>\n",
       "<table border=\"1\" class=\"dataframe\">\n",
       "  <thead>\n",
       "    <tr style=\"text-align: right;\">\n",
       "      <th></th>\n",
       "      <th>us state</th>\n",
       "      <th>year</th>\n",
       "      <th>pop</th>\n",
       "    </tr>\n",
       "  </thead>\n",
       "  <tbody>\n",
       "    <tr>\n",
       "      <th>4</th>\n",
       "      <td>NaN</td>\n",
       "      <td>1999</td>\n",
       "      <td>1.2</td>\n",
       "    </tr>\n",
       "    <tr>\n",
       "      <th>5</th>\n",
       "      <td>Nevada</td>\n",
       "      <td>2003</td>\n",
       "      <td>3.2</td>\n",
       "    </tr>\n",
       "  </tbody>\n",
       "</table>\n",
       "</div>"
      ],
      "text/plain": [
       "  us state  year  pop\n",
       "4      NaN  1999  1.2\n",
       "5   Nevada  2003  3.2"
      ]
     },
     "execution_count": 34,
     "metadata": {},
     "output_type": "execute_result"
    }
   ],
   "source": [
    "# slicing\n",
    "frame[4:6]"
   ]
  },
  {
   "cell_type": "code",
   "execution_count": 35,
   "metadata": {},
   "outputs": [
    {
     "name": "stdout",
     "output_type": "stream",
     "text": [
      "  us state  year  pop\n",
      "5   Nevada  2003  3.2\n",
      "4      NaN  1999  1.2\n",
      "3   Nevada  2001  2.4\n",
      "2     Ohio  2002  3.6\n",
      "1     Ohio  2001  1.7\n",
      "0     Ohio  2000  1.5\n",
      "  us state  year  pop\n",
      "5   Nevada  2003  3.2\n",
      "4      NaN  1999  1.2\n",
      "3   Nevada  2001  2.4\n",
      "2     Ohio  2002  3.6\n",
      "1     Ohio  2001  1.7\n",
      "0     Ohio  2000  1.5\n"
     ]
    }
   ],
   "source": [
    "print(frame[::-1]) #implicitly frame[5::-1]\n",
    "print(frame[5::-1])"
   ]
  },
  {
   "cell_type": "code",
   "execution_count": null,
   "metadata": {},
   "outputs": [],
   "source": [
    " frame.iloc[[1, 4], [0, 2]]  # select a subset identified by the intersection of row# and col#"
   ]
  },
  {
   "cell_type": "code",
   "execution_count": 36,
   "metadata": {},
   "outputs": [
    {
     "data": {
      "text/html": [
       "<div>\n",
       "<style scoped>\n",
       "    .dataframe tbody tr th:only-of-type {\n",
       "        vertical-align: middle;\n",
       "    }\n",
       "\n",
       "    .dataframe tbody tr th {\n",
       "        vertical-align: top;\n",
       "    }\n",
       "\n",
       "    .dataframe thead th {\n",
       "        text-align: right;\n",
       "    }\n",
       "</style>\n",
       "<table border=\"1\" class=\"dataframe\">\n",
       "  <thead>\n",
       "    <tr style=\"text-align: right;\">\n",
       "      <th></th>\n",
       "      <th>us state</th>\n",
       "      <th>year</th>\n",
       "      <th>pop</th>\n",
       "    </tr>\n",
       "  </thead>\n",
       "  <tbody>\n",
       "    <tr>\n",
       "      <th>1</th>\n",
       "      <td>Ohio</td>\n",
       "      <td>2001</td>\n",
       "      <td>1.7</td>\n",
       "    </tr>\n",
       "    <tr>\n",
       "      <th>4</th>\n",
       "      <td>NaN</td>\n",
       "      <td>1999</td>\n",
       "      <td>1.2</td>\n",
       "    </tr>\n",
       "  </tbody>\n",
       "</table>\n",
       "</div>"
      ],
      "text/plain": [
       "  us state  year  pop\n",
       "1     Ohio  2001  1.7\n",
       "4      NaN  1999  1.2"
      ]
     },
     "execution_count": 36,
     "metadata": {},
     "output_type": "execute_result"
    }
   ],
   "source": [
    "frame.iloc[[1, 4], : ]"
   ]
  },
  {
   "cell_type": "code",
   "execution_count": 37,
   "metadata": {},
   "outputs": [
    {
     "data": {
      "text/plain": [
       "a    1.0\n",
       "b    2.0\n",
       "c    3.0\n",
       "dtype: float64"
      ]
     },
     "execution_count": 37,
     "metadata": {},
     "output_type": "execute_result"
    }
   ],
   "source": [
    "# create dataframe using series\n",
    "ts1 = pd.Series([1., 2., 3.], index=['a', 'b', 'c'])\n",
    "ts1"
   ]
  },
  {
   "cell_type": "code",
   "execution_count": 38,
   "metadata": {},
   "outputs": [
    {
     "data": {
      "text/plain": [
       "a    1.0\n",
       "b    2.0\n",
       "c    3.0\n",
       "d    4.0\n",
       "dtype: float64"
      ]
     },
     "execution_count": 38,
     "metadata": {},
     "output_type": "execute_result"
    }
   ],
   "source": [
    "ts2 = pd.Series([1., 2., 3., 4.], index=['a', 'b', 'c', 'd'])\n",
    "ts2"
   ]
  },
  {
   "cell_type": "code",
   "execution_count": null,
   "metadata": {
    "collapsed": true
   },
   "outputs": [],
   "source": []
  },
  {
   "cell_type": "code",
   "execution_count": 39,
   "metadata": {},
   "outputs": [
    {
     "data": {
      "text/html": [
       "<div>\n",
       "<style scoped>\n",
       "    .dataframe tbody tr th:only-of-type {\n",
       "        vertical-align: middle;\n",
       "    }\n",
       "\n",
       "    .dataframe tbody tr th {\n",
       "        vertical-align: top;\n",
       "    }\n",
       "\n",
       "    .dataframe thead th {\n",
       "        text-align: right;\n",
       "    }\n",
       "</style>\n",
       "<table border=\"1\" class=\"dataframe\">\n",
       "  <thead>\n",
       "    <tr style=\"text-align: right;\">\n",
       "      <th></th>\n",
       "      <th>one</th>\n",
       "      <th>two</th>\n",
       "    </tr>\n",
       "  </thead>\n",
       "  <tbody>\n",
       "    <tr>\n",
       "      <th>a</th>\n",
       "      <td>1.0</td>\n",
       "      <td>1.0</td>\n",
       "    </tr>\n",
       "    <tr>\n",
       "      <th>b</th>\n",
       "      <td>2.0</td>\n",
       "      <td>2.0</td>\n",
       "    </tr>\n",
       "    <tr>\n",
       "      <th>c</th>\n",
       "      <td>3.0</td>\n",
       "      <td>3.0</td>\n",
       "    </tr>\n",
       "    <tr>\n",
       "      <th>d</th>\n",
       "      <td>NaN</td>\n",
       "      <td>4.0</td>\n",
       "    </tr>\n",
       "  </tbody>\n",
       "</table>\n",
       "</div>"
      ],
      "text/plain": [
       "   one  two\n",
       "a  1.0  1.0\n",
       "b  2.0  2.0\n",
       "c  3.0  3.0\n",
       "d  NaN  4.0"
      ]
     },
     "execution_count": 39,
     "metadata": {},
     "output_type": "execute_result"
    }
   ],
   "source": [
    "d = {'one' : ts1, 'two' : ts2}\n",
    "df = pd.DataFrame(d)\n",
    "df"
   ]
  },
  {
   "cell_type": "markdown",
   "metadata": {},
   "source": [
    "What would happen if you would have used the following series for column 'one' while creating the dataframe d:\n",
    "\n",
    "'one' : pd.Series([0., 1., 2., 3.], index=['d','a', 'b', 'c'])\n"
   ]
  },
  {
   "cell_type": "code",
   "execution_count": 40,
   "metadata": {},
   "outputs": [
    {
     "data": {
      "text/html": [
       "<div>\n",
       "<style scoped>\n",
       "    .dataframe tbody tr th:only-of-type {\n",
       "        vertical-align: middle;\n",
       "    }\n",
       "\n",
       "    .dataframe tbody tr th {\n",
       "        vertical-align: top;\n",
       "    }\n",
       "\n",
       "    .dataframe thead th {\n",
       "        text-align: right;\n",
       "    }\n",
       "</style>\n",
       "<table border=\"1\" class=\"dataframe\">\n",
       "  <thead>\n",
       "    <tr style=\"text-align: right;\">\n",
       "      <th></th>\n",
       "      <th>one</th>\n",
       "      <th>two</th>\n",
       "    </tr>\n",
       "  </thead>\n",
       "  <tbody>\n",
       "    <tr>\n",
       "      <th>a</th>\n",
       "      <td>1.0</td>\n",
       "      <td>1.0</td>\n",
       "    </tr>\n",
       "    <tr>\n",
       "      <th>b</th>\n",
       "      <td>2.0</td>\n",
       "      <td>2.0</td>\n",
       "    </tr>\n",
       "    <tr>\n",
       "      <th>c</th>\n",
       "      <td>3.0</td>\n",
       "      <td>3.0</td>\n",
       "    </tr>\n",
       "    <tr>\n",
       "      <th>d</th>\n",
       "      <td>0.0</td>\n",
       "      <td>4.0</td>\n",
       "    </tr>\n",
       "  </tbody>\n",
       "</table>\n",
       "</div>"
      ],
      "text/plain": [
       "   one  two\n",
       "a  1.0  1.0\n",
       "b  2.0  2.0\n",
       "c  3.0  3.0\n",
       "d  0.0  4.0"
      ]
     },
     "execution_count": 40,
     "metadata": {},
     "output_type": "execute_result"
    }
   ],
   "source": [
    "d = {'one' : pd.Series([0., 1., 2., 3.], index=['d', 'a', 'b', 'c']), \n",
    "     'two' : pd.Series([1., 2., 3., 4.], index=['a', 'b', 'c', 'd'])}\n",
    "df = pd.DataFrame(d)\n",
    "df"
   ]
  },
  {
   "cell_type": "code",
   "execution_count": null,
   "metadata": {},
   "outputs": [],
   "source": [
    "# delete a column\n",
    "del df['two']\n",
    "df"
   ]
  },
  {
   "cell_type": "code",
   "execution_count": 41,
   "metadata": {},
   "outputs": [
    {
     "name": "stdout",
     "output_type": "stream",
     "text": [
      "   one  two\n",
      "a  1.0  1.0\n",
      "b  2.0  2.0\n",
      "c  3.0  3.0\n",
      "d  0.0  4.0\n"
     ]
    }
   ],
   "source": [
    "df1 = pd.DataFrame(d)\n",
    "df2 = df1\n",
    "print (df2)"
   ]
  },
  {
   "cell_type": "code",
   "execution_count": 42,
   "metadata": {},
   "outputs": [
    {
     "data": {
      "text/html": [
       "<div>\n",
       "<style scoped>\n",
       "    .dataframe tbody tr th:only-of-type {\n",
       "        vertical-align: middle;\n",
       "    }\n",
       "\n",
       "    .dataframe tbody tr th {\n",
       "        vertical-align: top;\n",
       "    }\n",
       "\n",
       "    .dataframe thead th {\n",
       "        text-align: right;\n",
       "    }\n",
       "</style>\n",
       "<table border=\"1\" class=\"dataframe\">\n",
       "  <thead>\n",
       "    <tr style=\"text-align: right;\">\n",
       "      <th></th>\n",
       "      <th>one</th>\n",
       "    </tr>\n",
       "  </thead>\n",
       "  <tbody>\n",
       "    <tr>\n",
       "      <th>a</th>\n",
       "      <td>1.0</td>\n",
       "    </tr>\n",
       "    <tr>\n",
       "      <th>b</th>\n",
       "      <td>2.0</td>\n",
       "    </tr>\n",
       "    <tr>\n",
       "      <th>c</th>\n",
       "      <td>3.0</td>\n",
       "    </tr>\n",
       "    <tr>\n",
       "      <th>d</th>\n",
       "      <td>0.0</td>\n",
       "    </tr>\n",
       "  </tbody>\n",
       "</table>\n",
       "</div>"
      ],
      "text/plain": [
       "   one\n",
       "a  1.0\n",
       "b  2.0\n",
       "c  3.0\n",
       "d  0.0"
      ]
     },
     "execution_count": 42,
     "metadata": {},
     "output_type": "execute_result"
    }
   ],
   "source": [
    "del df2['two']\n",
    "df1"
   ]
  },
  {
   "cell_type": "code",
   "execution_count": 43,
   "metadata": {},
   "outputs": [
    {
     "data": {
      "text/html": [
       "<div>\n",
       "<style scoped>\n",
       "    .dataframe tbody tr th:only-of-type {\n",
       "        vertical-align: middle;\n",
       "    }\n",
       "\n",
       "    .dataframe tbody tr th {\n",
       "        vertical-align: top;\n",
       "    }\n",
       "\n",
       "    .dataframe thead th {\n",
       "        text-align: right;\n",
       "    }\n",
       "</style>\n",
       "<table border=\"1\" class=\"dataframe\">\n",
       "  <thead>\n",
       "    <tr style=\"text-align: right;\">\n",
       "      <th></th>\n",
       "      <th>one</th>\n",
       "      <th>two</th>\n",
       "    </tr>\n",
       "  </thead>\n",
       "  <tbody>\n",
       "    <tr>\n",
       "      <th>a</th>\n",
       "      <td>1.0</td>\n",
       "      <td>1.0</td>\n",
       "    </tr>\n",
       "    <tr>\n",
       "      <th>b</th>\n",
       "      <td>2.0</td>\n",
       "      <td>2.0</td>\n",
       "    </tr>\n",
       "    <tr>\n",
       "      <th>c</th>\n",
       "      <td>3.0</td>\n",
       "      <td>3.0</td>\n",
       "    </tr>\n",
       "    <tr>\n",
       "      <th>d</th>\n",
       "      <td>0.0</td>\n",
       "      <td>4.0</td>\n",
       "    </tr>\n",
       "  </tbody>\n",
       "</table>\n",
       "</div>"
      ],
      "text/plain": [
       "   one  two\n",
       "a  1.0  1.0\n",
       "b  2.0  2.0\n",
       "c  3.0  3.0\n",
       "d  0.0  4.0"
      ]
     },
     "execution_count": 43,
     "metadata": {},
     "output_type": "execute_result"
    }
   ],
   "source": [
    "# for making copy\n",
    "df1 = pd.DataFrame(d)\n",
    "df2 = df1.copy()\n",
    "df2"
   ]
  },
  {
   "cell_type": "code",
   "execution_count": 44,
   "metadata": {},
   "outputs": [
    {
     "data": {
      "text/html": [
       "<div>\n",
       "<style scoped>\n",
       "    .dataframe tbody tr th:only-of-type {\n",
       "        vertical-align: middle;\n",
       "    }\n",
       "\n",
       "    .dataframe tbody tr th {\n",
       "        vertical-align: top;\n",
       "    }\n",
       "\n",
       "    .dataframe thead th {\n",
       "        text-align: right;\n",
       "    }\n",
       "</style>\n",
       "<table border=\"1\" class=\"dataframe\">\n",
       "  <thead>\n",
       "    <tr style=\"text-align: right;\">\n",
       "      <th></th>\n",
       "      <th>one</th>\n",
       "      <th>two</th>\n",
       "    </tr>\n",
       "  </thead>\n",
       "  <tbody>\n",
       "    <tr>\n",
       "      <th>a</th>\n",
       "      <td>1.0</td>\n",
       "      <td>1.0</td>\n",
       "    </tr>\n",
       "    <tr>\n",
       "      <th>b</th>\n",
       "      <td>2.0</td>\n",
       "      <td>2.0</td>\n",
       "    </tr>\n",
       "    <tr>\n",
       "      <th>c</th>\n",
       "      <td>3.0</td>\n",
       "      <td>3.0</td>\n",
       "    </tr>\n",
       "    <tr>\n",
       "      <th>d</th>\n",
       "      <td>0.0</td>\n",
       "      <td>4.0</td>\n",
       "    </tr>\n",
       "  </tbody>\n",
       "</table>\n",
       "</div>"
      ],
      "text/plain": [
       "   one  two\n",
       "a  1.0  1.0\n",
       "b  2.0  2.0\n",
       "c  3.0  3.0\n",
       "d  0.0  4.0"
      ]
     },
     "execution_count": 44,
     "metadata": {},
     "output_type": "execute_result"
    }
   ],
   "source": [
    "del df2['two']\n",
    "df1"
   ]
  },
  {
   "cell_type": "markdown",
   "metadata": {},
   "source": [
    "#### Assigning New Columns "
   ]
  },
  {
   "cell_type": "code",
   "execution_count": 16,
   "metadata": {},
   "outputs": [],
   "source": [
    "import seaborn as sns\n",
    "import pandas as pd\n",
    "import matplotlib.pyplot as plt"
   ]
  },
  {
   "cell_type": "code",
   "execution_count": 47,
   "metadata": {},
   "outputs": [
    {
     "name": "stdout",
     "output_type": "stream",
     "text": [
      "<class 'pandas.core.frame.DataFrame'>\n",
      "RangeIndex: 150 entries, 0 to 149\n",
      "Data columns (total 5 columns):\n",
      "sepal_length    150 non-null float64\n",
      "sepal_width     150 non-null float64\n",
      "petal_length    150 non-null float64\n",
      "petal_width     150 non-null float64\n",
      "species         150 non-null object\n",
      "dtypes: float64(4), object(1)\n",
      "memory usage: 5.9+ KB\n"
     ]
    }
   ],
   "source": [
    "iris_df = sns.load_dataset(\"iris\")\n",
    "iris_df.info()"
   ]
  },
  {
   "cell_type": "code",
   "execution_count": 48,
   "metadata": {},
   "outputs": [
    {
     "data": {
      "text/html": [
       "<div>\n",
       "<style scoped>\n",
       "    .dataframe tbody tr th:only-of-type {\n",
       "        vertical-align: middle;\n",
       "    }\n",
       "\n",
       "    .dataframe tbody tr th {\n",
       "        vertical-align: top;\n",
       "    }\n",
       "\n",
       "    .dataframe thead th {\n",
       "        text-align: right;\n",
       "    }\n",
       "</style>\n",
       "<table border=\"1\" class=\"dataframe\">\n",
       "  <thead>\n",
       "    <tr style=\"text-align: right;\">\n",
       "      <th></th>\n",
       "      <th>sepal_length</th>\n",
       "      <th>sepal_width</th>\n",
       "      <th>petal_length</th>\n",
       "      <th>petal_width</th>\n",
       "      <th>species</th>\n",
       "    </tr>\n",
       "  </thead>\n",
       "  <tbody>\n",
       "    <tr>\n",
       "      <th>0</th>\n",
       "      <td>5.1</td>\n",
       "      <td>3.5</td>\n",
       "      <td>1.4</td>\n",
       "      <td>0.2</td>\n",
       "      <td>setosa</td>\n",
       "    </tr>\n",
       "    <tr>\n",
       "      <th>1</th>\n",
       "      <td>4.9</td>\n",
       "      <td>3.0</td>\n",
       "      <td>1.4</td>\n",
       "      <td>0.2</td>\n",
       "      <td>setosa</td>\n",
       "    </tr>\n",
       "    <tr>\n",
       "      <th>2</th>\n",
       "      <td>4.7</td>\n",
       "      <td>3.2</td>\n",
       "      <td>1.3</td>\n",
       "      <td>0.2</td>\n",
       "      <td>setosa</td>\n",
       "    </tr>\n",
       "    <tr>\n",
       "      <th>3</th>\n",
       "      <td>4.6</td>\n",
       "      <td>3.1</td>\n",
       "      <td>1.5</td>\n",
       "      <td>0.2</td>\n",
       "      <td>setosa</td>\n",
       "    </tr>\n",
       "    <tr>\n",
       "      <th>4</th>\n",
       "      <td>5.0</td>\n",
       "      <td>3.6</td>\n",
       "      <td>1.4</td>\n",
       "      <td>0.2</td>\n",
       "      <td>setosa</td>\n",
       "    </tr>\n",
       "  </tbody>\n",
       "</table>\n",
       "</div>"
      ],
      "text/plain": [
       "   sepal_length  sepal_width  petal_length  petal_width species\n",
       "0           5.1          3.5           1.4          0.2  setosa\n",
       "1           4.9          3.0           1.4          0.2  setosa\n",
       "2           4.7          3.2           1.3          0.2  setosa\n",
       "3           4.6          3.1           1.5          0.2  setosa\n",
       "4           5.0          3.6           1.4          0.2  setosa"
      ]
     },
     "execution_count": 48,
     "metadata": {},
     "output_type": "execute_result"
    }
   ],
   "source": [
    "iris_df.head()"
   ]
  },
  {
   "cell_type": "code",
   "execution_count": 49,
   "metadata": {},
   "outputs": [
    {
     "data": {
      "text/html": [
       "<div>\n",
       "<style scoped>\n",
       "    .dataframe tbody tr th:only-of-type {\n",
       "        vertical-align: middle;\n",
       "    }\n",
       "\n",
       "    .dataframe tbody tr th {\n",
       "        vertical-align: top;\n",
       "    }\n",
       "\n",
       "    .dataframe thead th {\n",
       "        text-align: right;\n",
       "    }\n",
       "</style>\n",
       "<table border=\"1\" class=\"dataframe\">\n",
       "  <thead>\n",
       "    <tr style=\"text-align: right;\">\n",
       "      <th></th>\n",
       "      <th>sepal_length</th>\n",
       "      <th>sepal_width</th>\n",
       "      <th>petal_length</th>\n",
       "      <th>petal_width</th>\n",
       "      <th>species</th>\n",
       "      <th>sepal_ratio</th>\n",
       "    </tr>\n",
       "  </thead>\n",
       "  <tbody>\n",
       "    <tr>\n",
       "      <th>0</th>\n",
       "      <td>5.1</td>\n",
       "      <td>3.5</td>\n",
       "      <td>1.4</td>\n",
       "      <td>0.2</td>\n",
       "      <td>setosa</td>\n",
       "      <td>0.686275</td>\n",
       "    </tr>\n",
       "    <tr>\n",
       "      <th>1</th>\n",
       "      <td>4.9</td>\n",
       "      <td>3.0</td>\n",
       "      <td>1.4</td>\n",
       "      <td>0.2</td>\n",
       "      <td>setosa</td>\n",
       "      <td>0.612245</td>\n",
       "    </tr>\n",
       "    <tr>\n",
       "      <th>2</th>\n",
       "      <td>4.7</td>\n",
       "      <td>3.2</td>\n",
       "      <td>1.3</td>\n",
       "      <td>0.2</td>\n",
       "      <td>setosa</td>\n",
       "      <td>0.680851</td>\n",
       "    </tr>\n",
       "    <tr>\n",
       "      <th>3</th>\n",
       "      <td>4.6</td>\n",
       "      <td>3.1</td>\n",
       "      <td>1.5</td>\n",
       "      <td>0.2</td>\n",
       "      <td>setosa</td>\n",
       "      <td>0.673913</td>\n",
       "    </tr>\n",
       "    <tr>\n",
       "      <th>4</th>\n",
       "      <td>5.0</td>\n",
       "      <td>3.6</td>\n",
       "      <td>1.4</td>\n",
       "      <td>0.2</td>\n",
       "      <td>setosa</td>\n",
       "      <td>0.720000</td>\n",
       "    </tr>\n",
       "  </tbody>\n",
       "</table>\n",
       "</div>"
      ],
      "text/plain": [
       "   sepal_length  sepal_width  petal_length  petal_width species  sepal_ratio\n",
       "0           5.1          3.5           1.4          0.2  setosa     0.686275\n",
       "1           4.9          3.0           1.4          0.2  setosa     0.612245\n",
       "2           4.7          3.2           1.3          0.2  setosa     0.680851\n",
       "3           4.6          3.1           1.5          0.2  setosa     0.673913\n",
       "4           5.0          3.6           1.4          0.2  setosa     0.720000"
      ]
     },
     "execution_count": 49,
     "metadata": {},
     "output_type": "execute_result"
    }
   ],
   "source": [
    "# assign a calculated column and returns a copy. the original data frame is not modified\n",
    "dfn = iris_df.assign(sepal_ratio = lambda x: (x['sepal_width'] / x['sepal_length']))\n",
    "dfn.head()"
   ]
  },
  {
   "cell_type": "code",
   "execution_count": null,
   "metadata": {},
   "outputs": [],
   "source": [
    "iris_df.head()"
   ]
  },
  {
   "cell_type": "markdown",
   "metadata": {},
   "source": [
    "We can limit the DataFrame to just those observations with a Sepal Length greater than 5, calculate the ratio, and plot:"
   ]
  },
  {
   "cell_type": "code",
   "execution_count": 50,
   "metadata": {},
   "outputs": [
    {
     "data": {
      "text/html": [
       "<div>\n",
       "<style scoped>\n",
       "    .dataframe tbody tr th:only-of-type {\n",
       "        vertical-align: middle;\n",
       "    }\n",
       "\n",
       "    .dataframe tbody tr th {\n",
       "        vertical-align: top;\n",
       "    }\n",
       "\n",
       "    .dataframe thead th {\n",
       "        text-align: right;\n",
       "    }\n",
       "</style>\n",
       "<table border=\"1\" class=\"dataframe\">\n",
       "  <thead>\n",
       "    <tr style=\"text-align: right;\">\n",
       "      <th></th>\n",
       "      <th>sepal_length</th>\n",
       "      <th>sepal_width</th>\n",
       "      <th>petal_length</th>\n",
       "      <th>petal_width</th>\n",
       "      <th>species</th>\n",
       "    </tr>\n",
       "  </thead>\n",
       "  <tbody>\n",
       "    <tr>\n",
       "      <th>0</th>\n",
       "      <td>5.1</td>\n",
       "      <td>3.5</td>\n",
       "      <td>1.4</td>\n",
       "      <td>0.2</td>\n",
       "      <td>setosa</td>\n",
       "    </tr>\n",
       "    <tr>\n",
       "      <th>5</th>\n",
       "      <td>5.4</td>\n",
       "      <td>3.9</td>\n",
       "      <td>1.7</td>\n",
       "      <td>0.4</td>\n",
       "      <td>setosa</td>\n",
       "    </tr>\n",
       "    <tr>\n",
       "      <th>10</th>\n",
       "      <td>5.4</td>\n",
       "      <td>3.7</td>\n",
       "      <td>1.5</td>\n",
       "      <td>0.2</td>\n",
       "      <td>setosa</td>\n",
       "    </tr>\n",
       "    <tr>\n",
       "      <th>14</th>\n",
       "      <td>5.8</td>\n",
       "      <td>4.0</td>\n",
       "      <td>1.2</td>\n",
       "      <td>0.2</td>\n",
       "      <td>setosa</td>\n",
       "    </tr>\n",
       "    <tr>\n",
       "      <th>15</th>\n",
       "      <td>5.7</td>\n",
       "      <td>4.4</td>\n",
       "      <td>1.5</td>\n",
       "      <td>0.4</td>\n",
       "      <td>setosa</td>\n",
       "    </tr>\n",
       "  </tbody>\n",
       "</table>\n",
       "</div>"
      ],
      "text/plain": [
       "    sepal_length  sepal_width  petal_length  petal_width species\n",
       "0            5.1          3.5           1.4          0.2  setosa\n",
       "5            5.4          3.9           1.7          0.4  setosa\n",
       "10           5.4          3.7           1.5          0.2  setosa\n",
       "14           5.8          4.0           1.2          0.2  setosa\n",
       "15           5.7          4.4           1.5          0.4  setosa"
      ]
     },
     "execution_count": 50,
     "metadata": {},
     "output_type": "execute_result"
    }
   ],
   "source": [
    "iris_df.query('sepal_length > 5').head()"
   ]
  },
  {
   "cell_type": "code",
   "execution_count": 51,
   "metadata": {},
   "outputs": [
    {
     "data": {
      "text/html": [
       "<div>\n",
       "<style scoped>\n",
       "    .dataframe tbody tr th:only-of-type {\n",
       "        vertical-align: middle;\n",
       "    }\n",
       "\n",
       "    .dataframe tbody tr th {\n",
       "        vertical-align: top;\n",
       "    }\n",
       "\n",
       "    .dataframe thead th {\n",
       "        text-align: right;\n",
       "    }\n",
       "</style>\n",
       "<table border=\"1\" class=\"dataframe\">\n",
       "  <thead>\n",
       "    <tr style=\"text-align: right;\">\n",
       "      <th></th>\n",
       "      <th>sepal_length</th>\n",
       "      <th>sepal_width</th>\n",
       "      <th>petal_length</th>\n",
       "      <th>petal_width</th>\n",
       "      <th>species</th>\n",
       "      <th>sepal_ratio</th>\n",
       "      <th>petal_ratio</th>\n",
       "    </tr>\n",
       "  </thead>\n",
       "  <tbody>\n",
       "    <tr>\n",
       "      <th>0</th>\n",
       "      <td>5.1</td>\n",
       "      <td>3.5</td>\n",
       "      <td>1.4</td>\n",
       "      <td>0.2</td>\n",
       "      <td>setosa</td>\n",
       "      <td>0.686275</td>\n",
       "      <td>0.142857</td>\n",
       "    </tr>\n",
       "    <tr>\n",
       "      <th>5</th>\n",
       "      <td>5.4</td>\n",
       "      <td>3.9</td>\n",
       "      <td>1.7</td>\n",
       "      <td>0.4</td>\n",
       "      <td>setosa</td>\n",
       "      <td>0.722222</td>\n",
       "      <td>0.235294</td>\n",
       "    </tr>\n",
       "    <tr>\n",
       "      <th>10</th>\n",
       "      <td>5.4</td>\n",
       "      <td>3.7</td>\n",
       "      <td>1.5</td>\n",
       "      <td>0.2</td>\n",
       "      <td>setosa</td>\n",
       "      <td>0.685185</td>\n",
       "      <td>0.133333</td>\n",
       "    </tr>\n",
       "    <tr>\n",
       "      <th>14</th>\n",
       "      <td>5.8</td>\n",
       "      <td>4.0</td>\n",
       "      <td>1.2</td>\n",
       "      <td>0.2</td>\n",
       "      <td>setosa</td>\n",
       "      <td>0.689655</td>\n",
       "      <td>0.166667</td>\n",
       "    </tr>\n",
       "    <tr>\n",
       "      <th>15</th>\n",
       "      <td>5.7</td>\n",
       "      <td>4.4</td>\n",
       "      <td>1.5</td>\n",
       "      <td>0.4</td>\n",
       "      <td>setosa</td>\n",
       "      <td>0.771930</td>\n",
       "      <td>0.266667</td>\n",
       "    </tr>\n",
       "  </tbody>\n",
       "</table>\n",
       "</div>"
      ],
      "text/plain": [
       "    sepal_length  sepal_width  petal_length  petal_width species  sepal_ratio  \\\n",
       "0            5.1          3.5           1.4          0.2  setosa     0.686275   \n",
       "5            5.4          3.9           1.7          0.4  setosa     0.722222   \n",
       "10           5.4          3.7           1.5          0.2  setosa     0.685185   \n",
       "14           5.8          4.0           1.2          0.2  setosa     0.689655   \n",
       "15           5.7          4.4           1.5          0.4  setosa     0.771930   \n",
       "\n",
       "    petal_ratio  \n",
       "0      0.142857  \n",
       "5      0.235294  \n",
       "10     0.133333  \n",
       "14     0.166667  \n",
       "15     0.266667  "
      ]
     },
     "execution_count": 51,
     "metadata": {},
     "output_type": "execute_result"
    }
   ],
   "source": [
    "iris_dfn = iris_df.query('sepal_length > 5').assign(sepal_ratio = lambda x: x['sepal_width'] / x['sepal_length'],\n",
    "                            petal_ratio = lambda x: x['petal_width'] / x['petal_length'])\n",
    "iris_dfn.head()"
   ]
  },
  {
   "cell_type": "code",
   "execution_count": 52,
   "metadata": {},
   "outputs": [
    {
     "data": {
      "image/png": "[encoded data removed]",
      "text/plain": [
       "<Figure size 432x288 with 1 Axes>"
      ]
     },
     "metadata": {
      "needs_background": "light"
     },
     "output_type": "display_data"
    }
   ],
   "source": [
    "iris_dfn.plot(kind='scatter', x='sepal_ratio', y='petal_ratio')\n",
    "plt.show()"
   ]
  },
  {
   "cell_type": "markdown",
   "metadata": {},
   "source": [
    "Summarizing and Computing Descriptive Statistics\n",
    "pandas objects are equipped with a set of common mathematical and statistical methods. Most of these fall into the category of reductions or summary statistics, methods that extract a single value (like the sum or mean) from a Series or a Series of values from the rows or columns of a DataFrame."
   ]
  },
  {
   "cell_type": "code",
   "execution_count": 53,
   "metadata": {},
   "outputs": [
    {
     "data": {
      "text/html": [
       "<div>\n",
       "<style scoped>\n",
       "    .dataframe tbody tr th:only-of-type {\n",
       "        vertical-align: middle;\n",
       "    }\n",
       "\n",
       "    .dataframe tbody tr th {\n",
       "        vertical-align: top;\n",
       "    }\n",
       "\n",
       "    .dataframe thead th {\n",
       "        text-align: right;\n",
       "    }\n",
       "</style>\n",
       "<table border=\"1\" class=\"dataframe\">\n",
       "  <thead>\n",
       "    <tr style=\"text-align: right;\">\n",
       "      <th></th>\n",
       "      <th>C1</th>\n",
       "      <th>C2</th>\n",
       "    </tr>\n",
       "  </thead>\n",
       "  <tbody>\n",
       "    <tr>\n",
       "      <th>0</th>\n",
       "      <td>-0.645243</td>\n",
       "      <td>0.197346</td>\n",
       "    </tr>\n",
       "    <tr>\n",
       "      <th>1</th>\n",
       "      <td>-0.285352</td>\n",
       "      <td>1.896976</td>\n",
       "    </tr>\n",
       "    <tr>\n",
       "      <th>2</th>\n",
       "      <td>2.402218</td>\n",
       "      <td>0.453446</td>\n",
       "    </tr>\n",
       "    <tr>\n",
       "      <th>3</th>\n",
       "      <td>1.318142</td>\n",
       "      <td>-0.262893</td>\n",
       "    </tr>\n",
       "    <tr>\n",
       "      <th>4</th>\n",
       "      <td>1.385016</td>\n",
       "      <td>-0.122361</td>\n",
       "    </tr>\n",
       "    <tr>\n",
       "      <th>5</th>\n",
       "      <td>1.541915</td>\n",
       "      <td>0.007639</td>\n",
       "    </tr>\n",
       "    <tr>\n",
       "      <th>6</th>\n",
       "      <td>-1.348807</td>\n",
       "      <td>1.655632</td>\n",
       "    </tr>\n",
       "    <tr>\n",
       "      <th>7</th>\n",
       "      <td>-0.329971</td>\n",
       "      <td>0.025757</td>\n",
       "    </tr>\n",
       "    <tr>\n",
       "      <th>8</th>\n",
       "      <td>0.027975</td>\n",
       "      <td>1.385206</td>\n",
       "    </tr>\n",
       "    <tr>\n",
       "      <th>9</th>\n",
       "      <td>-1.021458</td>\n",
       "      <td>0.968977</td>\n",
       "    </tr>\n",
       "  </tbody>\n",
       "</table>\n",
       "</div>"
      ],
      "text/plain": [
       "         C1        C2\n",
       "0 -0.645243  0.197346\n",
       "1 -0.285352  1.896976\n",
       "2  2.402218  0.453446\n",
       "3  1.318142 -0.262893\n",
       "4  1.385016 -0.122361\n",
       "5  1.541915  0.007639\n",
       "6 -1.348807  1.655632\n",
       "7 -0.329971  0.025757\n",
       "8  0.027975  1.385206\n",
       "9 -1.021458  0.968977"
      ]
     },
     "execution_count": 53,
     "metadata": {},
     "output_type": "execute_result"
    }
   ],
   "source": [
    "data = {'C1': np.random.randn(10),\n",
    "        'C2': 1.0+np.random.randn(10)}\n",
    "frame = pd.DataFrame(data)\n",
    "frame"
   ]
  },
  {
   "cell_type": "markdown",
   "metadata": {},
   "source": [
    "idxmin and idxmax, return indirect statistics like the index value where the minimum or maximum values are attained:"
   ]
  },
  {
   "cell_type": "code",
   "execution_count": 54,
   "metadata": {},
   "outputs": [
    {
     "data": {
      "text/plain": [
       "C1    2\n",
       "C2    1\n",
       "dtype: int64"
      ]
     },
     "execution_count": 54,
     "metadata": {},
     "output_type": "execute_result"
    }
   ],
   "source": [
    "frame.idxmax()"
   ]
  },
  {
   "cell_type": "code",
   "execution_count": 55,
   "metadata": {},
   "outputs": [
    {
     "data": {
      "text/html": [
       "<div>\n",
       "<style scoped>\n",
       "    .dataframe tbody tr th:only-of-type {\n",
       "        vertical-align: middle;\n",
       "    }\n",
       "\n",
       "    .dataframe tbody tr th {\n",
       "        vertical-align: top;\n",
       "    }\n",
       "\n",
       "    .dataframe thead th {\n",
       "        text-align: right;\n",
       "    }\n",
       "</style>\n",
       "<table border=\"1\" class=\"dataframe\">\n",
       "  <thead>\n",
       "    <tr style=\"text-align: right;\">\n",
       "      <th></th>\n",
       "      <th>C1</th>\n",
       "      <th>C2</th>\n",
       "    </tr>\n",
       "  </thead>\n",
       "  <tbody>\n",
       "    <tr>\n",
       "      <th>0</th>\n",
       "      <td>-0.645243</td>\n",
       "      <td>0.197346</td>\n",
       "    </tr>\n",
       "    <tr>\n",
       "      <th>1</th>\n",
       "      <td>-0.930595</td>\n",
       "      <td>2.094322</td>\n",
       "    </tr>\n",
       "    <tr>\n",
       "      <th>2</th>\n",
       "      <td>1.471623</td>\n",
       "      <td>2.547767</td>\n",
       "    </tr>\n",
       "    <tr>\n",
       "      <th>3</th>\n",
       "      <td>2.789765</td>\n",
       "      <td>2.284874</td>\n",
       "    </tr>\n",
       "    <tr>\n",
       "      <th>4</th>\n",
       "      <td>4.174781</td>\n",
       "      <td>2.162513</td>\n",
       "    </tr>\n",
       "    <tr>\n",
       "      <th>5</th>\n",
       "      <td>5.716696</td>\n",
       "      <td>2.170152</td>\n",
       "    </tr>\n",
       "    <tr>\n",
       "      <th>6</th>\n",
       "      <td>4.367889</td>\n",
       "      <td>3.825784</td>\n",
       "    </tr>\n",
       "    <tr>\n",
       "      <th>7</th>\n",
       "      <td>4.037918</td>\n",
       "      <td>3.851541</td>\n",
       "    </tr>\n",
       "    <tr>\n",
       "      <th>8</th>\n",
       "      <td>4.065893</td>\n",
       "      <td>5.236747</td>\n",
       "    </tr>\n",
       "    <tr>\n",
       "      <th>9</th>\n",
       "      <td>3.044435</td>\n",
       "      <td>6.205724</td>\n",
       "    </tr>\n",
       "  </tbody>\n",
       "</table>\n",
       "</div>"
      ],
      "text/plain": [
       "         C1        C2\n",
       "0 -0.645243  0.197346\n",
       "1 -0.930595  2.094322\n",
       "2  1.471623  2.547767\n",
       "3  2.789765  2.284874\n",
       "4  4.174781  2.162513\n",
       "5  5.716696  2.170152\n",
       "6  4.367889  3.825784\n",
       "7  4.037918  3.851541\n",
       "8  4.065893  5.236747\n",
       "9  3.044435  6.205724"
      ]
     },
     "execution_count": 55,
     "metadata": {},
     "output_type": "execute_result"
    }
   ],
   "source": [
    "frame.cumsum()"
   ]
  },
  {
   "cell_type": "code",
   "execution_count": 56,
   "metadata": {},
   "outputs": [
    {
     "data": {
      "text/html": [
       "<div>\n",
       "<style scoped>\n",
       "    .dataframe tbody tr th:only-of-type {\n",
       "        vertical-align: middle;\n",
       "    }\n",
       "\n",
       "    .dataframe tbody tr th {\n",
       "        vertical-align: top;\n",
       "    }\n",
       "\n",
       "    .dataframe thead th {\n",
       "        text-align: right;\n",
       "    }\n",
       "</style>\n",
       "<table border=\"1\" class=\"dataframe\">\n",
       "  <thead>\n",
       "    <tr style=\"text-align: right;\">\n",
       "      <th></th>\n",
       "      <th>C1</th>\n",
       "      <th>C2</th>\n",
       "    </tr>\n",
       "  </thead>\n",
       "  <tbody>\n",
       "    <tr>\n",
       "      <th>0</th>\n",
       "      <td>-0.645243</td>\n",
       "      <td>0.197346</td>\n",
       "    </tr>\n",
       "    <tr>\n",
       "      <th>1</th>\n",
       "      <td>-0.285352</td>\n",
       "      <td>1.896976</td>\n",
       "    </tr>\n",
       "    <tr>\n",
       "      <th>2</th>\n",
       "      <td>2.402218</td>\n",
       "      <td>0.453446</td>\n",
       "    </tr>\n",
       "    <tr>\n",
       "      <th>3</th>\n",
       "      <td>1.318142</td>\n",
       "      <td>-0.262893</td>\n",
       "    </tr>\n",
       "    <tr>\n",
       "      <th>4</th>\n",
       "      <td>1.385016</td>\n",
       "      <td>-0.122361</td>\n",
       "    </tr>\n",
       "    <tr>\n",
       "      <th>5</th>\n",
       "      <td>1.541915</td>\n",
       "      <td>0.007639</td>\n",
       "    </tr>\n",
       "    <tr>\n",
       "      <th>6</th>\n",
       "      <td>-1.348807</td>\n",
       "      <td>1.655632</td>\n",
       "    </tr>\n",
       "    <tr>\n",
       "      <th>7</th>\n",
       "      <td>-0.329971</td>\n",
       "      <td>0.025757</td>\n",
       "    </tr>\n",
       "    <tr>\n",
       "      <th>8</th>\n",
       "      <td>0.027975</td>\n",
       "      <td>1.385206</td>\n",
       "    </tr>\n",
       "    <tr>\n",
       "      <th>9</th>\n",
       "      <td>-1.021458</td>\n",
       "      <td>0.968977</td>\n",
       "    </tr>\n",
       "  </tbody>\n",
       "</table>\n",
       "</div>"
      ],
      "text/plain": [
       "         C1        C2\n",
       "0 -0.645243  0.197346\n",
       "1 -0.285352  1.896976\n",
       "2  2.402218  0.453446\n",
       "3  1.318142 -0.262893\n",
       "4  1.385016 -0.122361\n",
       "5  1.541915  0.007639\n",
       "6 -1.348807  1.655632\n",
       "7 -0.329971  0.025757\n",
       "8  0.027975  1.385206\n",
       "9 -1.021458  0.968977"
      ]
     },
     "execution_count": 56,
     "metadata": {},
     "output_type": "execute_result"
    }
   ],
   "source": [
    "frame"
   ]
  },
  {
   "cell_type": "code",
   "execution_count": 57,
   "metadata": {},
   "outputs": [
    {
     "data": {
      "text/html": [
       "<div>\n",
       "<style scoped>\n",
       "    .dataframe tbody tr th:only-of-type {\n",
       "        vertical-align: middle;\n",
       "    }\n",
       "\n",
       "    .dataframe tbody tr th {\n",
       "        vertical-align: top;\n",
       "    }\n",
       "\n",
       "    .dataframe thead th {\n",
       "        text-align: right;\n",
       "    }\n",
       "</style>\n",
       "<table border=\"1\" class=\"dataframe\">\n",
       "  <thead>\n",
       "    <tr style=\"text-align: right;\">\n",
       "      <th></th>\n",
       "      <th>C1</th>\n",
       "      <th>C2</th>\n",
       "    </tr>\n",
       "  </thead>\n",
       "  <tbody>\n",
       "    <tr>\n",
       "      <th>count</th>\n",
       "      <td>10.000000</td>\n",
       "      <td>10.000000</td>\n",
       "    </tr>\n",
       "    <tr>\n",
       "      <th>mean</th>\n",
       "      <td>0.304443</td>\n",
       "      <td>0.620572</td>\n",
       "    </tr>\n",
       "    <tr>\n",
       "      <th>std</th>\n",
       "      <td>1.262588</td>\n",
       "      <td>0.794118</td>\n",
       "    </tr>\n",
       "    <tr>\n",
       "      <th>min</th>\n",
       "      <td>-1.348807</td>\n",
       "      <td>-0.262893</td>\n",
       "    </tr>\n",
       "    <tr>\n",
       "      <th>25%</th>\n",
       "      <td>-0.566425</td>\n",
       "      <td>0.012169</td>\n",
       "    </tr>\n",
       "    <tr>\n",
       "      <th>50%</th>\n",
       "      <td>-0.128688</td>\n",
       "      <td>0.325396</td>\n",
       "    </tr>\n",
       "    <tr>\n",
       "      <th>75%</th>\n",
       "      <td>1.368297</td>\n",
       "      <td>1.281149</td>\n",
       "    </tr>\n",
       "    <tr>\n",
       "      <th>max</th>\n",
       "      <td>2.402218</td>\n",
       "      <td>1.896976</td>\n",
       "    </tr>\n",
       "  </tbody>\n",
       "</table>\n",
       "</div>"
      ],
      "text/plain": [
       "              C1         C2\n",
       "count  10.000000  10.000000\n",
       "mean    0.304443   0.620572\n",
       "std     1.262588   0.794118\n",
       "min    -1.348807  -0.262893\n",
       "25%    -0.566425   0.012169\n",
       "50%    -0.128688   0.325396\n",
       "75%     1.368297   1.281149\n",
       "max     2.402218   1.896976"
      ]
     },
     "execution_count": 57,
     "metadata": {},
     "output_type": "execute_result"
    }
   ],
   "source": [
    "frame.describe()"
   ]
  },
  {
   "cell_type": "code",
   "execution_count": 58,
   "metadata": {},
   "outputs": [
    {
     "name": "stdout",
     "output_type": "stream",
     "text": [
      "0\n",
      "C1   -0.645243\n",
      "C2    0.197346\n",
      "Name: 0, dtype: float64\n"
     ]
    }
   ],
   "source": [
    "t = frame.iterrows()\n",
    "ind, row = next(t)\n",
    "print (ind)\n",
    "print (row)"
   ]
  },
  {
   "cell_type": "code",
   "execution_count": 59,
   "metadata": {},
   "outputs": [
    {
     "name": "stdout",
     "output_type": "stream",
     "text": [
      "1\n",
      "C1   -0.285352\n",
      "C2    1.896976\n",
      "Name: 1, dtype: float64\n"
     ]
    }
   ],
   "source": [
    "ind, row = next(t)\n",
    "print (ind)\n",
    "print (row)"
   ]
  },
  {
   "cell_type": "markdown",
   "metadata": {},
   "source": [
    "Iterate over rows using construct like this: 'for index, row in frame.iterrows()'"
   ]
  },
  {
   "cell_type": "markdown",
   "metadata": {},
   "source": [
    "Exercise 3: User iterrow() to print out values on column C1 for dataframe frame. \n"
   ]
  },
  {
   "cell_type": "code",
   "execution_count": 72,
   "metadata": {},
   "outputs": [
    {
     "name": "stdout",
     "output_type": "stream",
     "text": [
      "-0.6452429702837451\n",
      "-0.2853517132030281\n",
      "2.4022181831700156\n",
      "1.3181419032929966\n",
      "1.3850155490937863\n",
      "1.541914816029735\n",
      "-1.348807011698795\n",
      "-0.32997050533331973\n",
      "0.02797473834951542\n",
      "-1.0214580821996133\n"
     ]
    }
   ],
   "source": [
    "i=frame.iterrows()\n",
    "for ind , row in i:\n",
    "    print(row[0])\n",
    "    "
   ]
  },
  {
   "cell_type": "markdown",
   "metadata": {},
   "source": [
    "#### applymap\n",
    "This method applies a function that accepts and returns a scalar to every element of a DataFrame."
   ]
  },
  {
   "cell_type": "code",
   "execution_count": null,
   "metadata": {},
   "outputs": [],
   "source": [
    "df = pd.DataFrame([[1, 2.12], [3.356, 4.567]])\n",
    "df"
   ]
  },
  {
   "cell_type": "code",
   "execution_count": null,
   "metadata": {},
   "outputs": [],
   "source": [
    "df.applymap(lambda x: x+0.5)"
   ]
  },
  {
   "cell_type": "markdown",
   "metadata": {},
   "source": [
    "Exercise 4: Write a lambda function for applymap to multiply every element of the iris_df by '10' except the elements in column species which are string.\n",
    "\n",
    "Hint: Check for an element type and if it is float only do the required operation.\n",
    "lambda x: x*10 if type(x) is float else x"
   ]
  },
  {
   "cell_type": "code",
   "execution_count": 63,
   "metadata": {
    "scrolled": true
   },
   "outputs": [
    {
     "data": {
      "text/html": [
       "<div>\n",
       "<style scoped>\n",
       "    .dataframe tbody tr th:only-of-type {\n",
       "        vertical-align: middle;\n",
       "    }\n",
       "\n",
       "    .dataframe tbody tr th {\n",
       "        vertical-align: top;\n",
       "    }\n",
       "\n",
       "    .dataframe thead th {\n",
       "        text-align: right;\n",
       "    }\n",
       "</style>\n",
       "<table border=\"1\" class=\"dataframe\">\n",
       "  <thead>\n",
       "    <tr style=\"text-align: right;\">\n",
       "      <th></th>\n",
       "      <th>sepal_length</th>\n",
       "      <th>sepal_width</th>\n",
       "      <th>petal_length</th>\n",
       "      <th>petal_width</th>\n",
       "      <th>species</th>\n",
       "    </tr>\n",
       "  </thead>\n",
       "  <tbody>\n",
       "    <tr>\n",
       "      <th>0</th>\n",
       "      <td>51.0</td>\n",
       "      <td>35.0</td>\n",
       "      <td>14.0</td>\n",
       "      <td>2.0</td>\n",
       "      <td>setosa</td>\n",
       "    </tr>\n",
       "    <tr>\n",
       "      <th>1</th>\n",
       "      <td>49.0</td>\n",
       "      <td>30.0</td>\n",
       "      <td>14.0</td>\n",
       "      <td>2.0</td>\n",
       "      <td>setosa</td>\n",
       "    </tr>\n",
       "    <tr>\n",
       "      <th>2</th>\n",
       "      <td>47.0</td>\n",
       "      <td>32.0</td>\n",
       "      <td>13.0</td>\n",
       "      <td>2.0</td>\n",
       "      <td>setosa</td>\n",
       "    </tr>\n",
       "    <tr>\n",
       "      <th>3</th>\n",
       "      <td>46.0</td>\n",
       "      <td>31.0</td>\n",
       "      <td>15.0</td>\n",
       "      <td>2.0</td>\n",
       "      <td>setosa</td>\n",
       "    </tr>\n",
       "    <tr>\n",
       "      <th>4</th>\n",
       "      <td>50.0</td>\n",
       "      <td>36.0</td>\n",
       "      <td>14.0</td>\n",
       "      <td>2.0</td>\n",
       "      <td>setosa</td>\n",
       "    </tr>\n",
       "    <tr>\n",
       "      <th>5</th>\n",
       "      <td>54.0</td>\n",
       "      <td>39.0</td>\n",
       "      <td>17.0</td>\n",
       "      <td>4.0</td>\n",
       "      <td>setosa</td>\n",
       "    </tr>\n",
       "    <tr>\n",
       "      <th>6</th>\n",
       "      <td>46.0</td>\n",
       "      <td>34.0</td>\n",
       "      <td>14.0</td>\n",
       "      <td>3.0</td>\n",
       "      <td>setosa</td>\n",
       "    </tr>\n",
       "    <tr>\n",
       "      <th>7</th>\n",
       "      <td>50.0</td>\n",
       "      <td>34.0</td>\n",
       "      <td>15.0</td>\n",
       "      <td>2.0</td>\n",
       "      <td>setosa</td>\n",
       "    </tr>\n",
       "    <tr>\n",
       "      <th>8</th>\n",
       "      <td>44.0</td>\n",
       "      <td>29.0</td>\n",
       "      <td>14.0</td>\n",
       "      <td>2.0</td>\n",
       "      <td>setosa</td>\n",
       "    </tr>\n",
       "    <tr>\n",
       "      <th>9</th>\n",
       "      <td>49.0</td>\n",
       "      <td>31.0</td>\n",
       "      <td>15.0</td>\n",
       "      <td>1.0</td>\n",
       "      <td>setosa</td>\n",
       "    </tr>\n",
       "    <tr>\n",
       "      <th>10</th>\n",
       "      <td>54.0</td>\n",
       "      <td>37.0</td>\n",
       "      <td>15.0</td>\n",
       "      <td>2.0</td>\n",
       "      <td>setosa</td>\n",
       "    </tr>\n",
       "    <tr>\n",
       "      <th>11</th>\n",
       "      <td>48.0</td>\n",
       "      <td>34.0</td>\n",
       "      <td>16.0</td>\n",
       "      <td>2.0</td>\n",
       "      <td>setosa</td>\n",
       "    </tr>\n",
       "    <tr>\n",
       "      <th>12</th>\n",
       "      <td>48.0</td>\n",
       "      <td>30.0</td>\n",
       "      <td>14.0</td>\n",
       "      <td>1.0</td>\n",
       "      <td>setosa</td>\n",
       "    </tr>\n",
       "    <tr>\n",
       "      <th>13</th>\n",
       "      <td>43.0</td>\n",
       "      <td>30.0</td>\n",
       "      <td>11.0</td>\n",
       "      <td>1.0</td>\n",
       "      <td>setosa</td>\n",
       "    </tr>\n",
       "    <tr>\n",
       "      <th>14</th>\n",
       "      <td>58.0</td>\n",
       "      <td>40.0</td>\n",
       "      <td>12.0</td>\n",
       "      <td>2.0</td>\n",
       "      <td>setosa</td>\n",
       "    </tr>\n",
       "    <tr>\n",
       "      <th>15</th>\n",
       "      <td>57.0</td>\n",
       "      <td>44.0</td>\n",
       "      <td>15.0</td>\n",
       "      <td>4.0</td>\n",
       "      <td>setosa</td>\n",
       "    </tr>\n",
       "    <tr>\n",
       "      <th>16</th>\n",
       "      <td>54.0</td>\n",
       "      <td>39.0</td>\n",
       "      <td>13.0</td>\n",
       "      <td>4.0</td>\n",
       "      <td>setosa</td>\n",
       "    </tr>\n",
       "    <tr>\n",
       "      <th>17</th>\n",
       "      <td>51.0</td>\n",
       "      <td>35.0</td>\n",
       "      <td>14.0</td>\n",
       "      <td>3.0</td>\n",
       "      <td>setosa</td>\n",
       "    </tr>\n",
       "    <tr>\n",
       "      <th>18</th>\n",
       "      <td>57.0</td>\n",
       "      <td>38.0</td>\n",
       "      <td>17.0</td>\n",
       "      <td>3.0</td>\n",
       "      <td>setosa</td>\n",
       "    </tr>\n",
       "    <tr>\n",
       "      <th>19</th>\n",
       "      <td>51.0</td>\n",
       "      <td>38.0</td>\n",
       "      <td>15.0</td>\n",
       "      <td>3.0</td>\n",
       "      <td>setosa</td>\n",
       "    </tr>\n",
       "    <tr>\n",
       "      <th>20</th>\n",
       "      <td>54.0</td>\n",
       "      <td>34.0</td>\n",
       "      <td>17.0</td>\n",
       "      <td>2.0</td>\n",
       "      <td>setosa</td>\n",
       "    </tr>\n",
       "    <tr>\n",
       "      <th>21</th>\n",
       "      <td>51.0</td>\n",
       "      <td>37.0</td>\n",
       "      <td>15.0</td>\n",
       "      <td>4.0</td>\n",
       "      <td>setosa</td>\n",
       "    </tr>\n",
       "    <tr>\n",
       "      <th>22</th>\n",
       "      <td>46.0</td>\n",
       "      <td>36.0</td>\n",
       "      <td>10.0</td>\n",
       "      <td>2.0</td>\n",
       "      <td>setosa</td>\n",
       "    </tr>\n",
       "    <tr>\n",
       "      <th>23</th>\n",
       "      <td>51.0</td>\n",
       "      <td>33.0</td>\n",
       "      <td>17.0</td>\n",
       "      <td>5.0</td>\n",
       "      <td>setosa</td>\n",
       "    </tr>\n",
       "    <tr>\n",
       "      <th>24</th>\n",
       "      <td>48.0</td>\n",
       "      <td>34.0</td>\n",
       "      <td>19.0</td>\n",
       "      <td>2.0</td>\n",
       "      <td>setosa</td>\n",
       "    </tr>\n",
       "    <tr>\n",
       "      <th>25</th>\n",
       "      <td>50.0</td>\n",
       "      <td>30.0</td>\n",
       "      <td>16.0</td>\n",
       "      <td>2.0</td>\n",
       "      <td>setosa</td>\n",
       "    </tr>\n",
       "    <tr>\n",
       "      <th>26</th>\n",
       "      <td>50.0</td>\n",
       "      <td>34.0</td>\n",
       "      <td>16.0</td>\n",
       "      <td>4.0</td>\n",
       "      <td>setosa</td>\n",
       "    </tr>\n",
       "    <tr>\n",
       "      <th>27</th>\n",
       "      <td>52.0</td>\n",
       "      <td>35.0</td>\n",
       "      <td>15.0</td>\n",
       "      <td>2.0</td>\n",
       "      <td>setosa</td>\n",
       "    </tr>\n",
       "    <tr>\n",
       "      <th>28</th>\n",
       "      <td>52.0</td>\n",
       "      <td>34.0</td>\n",
       "      <td>14.0</td>\n",
       "      <td>2.0</td>\n",
       "      <td>setosa</td>\n",
       "    </tr>\n",
       "    <tr>\n",
       "      <th>29</th>\n",
       "      <td>47.0</td>\n",
       "      <td>32.0</td>\n",
       "      <td>16.0</td>\n",
       "      <td>2.0</td>\n",
       "      <td>setosa</td>\n",
       "    </tr>\n",
       "    <tr>\n",
       "      <th>...</th>\n",
       "      <td>...</td>\n",
       "      <td>...</td>\n",
       "      <td>...</td>\n",
       "      <td>...</td>\n",
       "      <td>...</td>\n",
       "    </tr>\n",
       "    <tr>\n",
       "      <th>120</th>\n",
       "      <td>69.0</td>\n",
       "      <td>32.0</td>\n",
       "      <td>57.0</td>\n",
       "      <td>23.0</td>\n",
       "      <td>virginica</td>\n",
       "    </tr>\n",
       "    <tr>\n",
       "      <th>121</th>\n",
       "      <td>56.0</td>\n",
       "      <td>28.0</td>\n",
       "      <td>49.0</td>\n",
       "      <td>20.0</td>\n",
       "      <td>virginica</td>\n",
       "    </tr>\n",
       "    <tr>\n",
       "      <th>122</th>\n",
       "      <td>77.0</td>\n",
       "      <td>28.0</td>\n",
       "      <td>67.0</td>\n",
       "      <td>20.0</td>\n",
       "      <td>virginica</td>\n",
       "    </tr>\n",
       "    <tr>\n",
       "      <th>123</th>\n",
       "      <td>63.0</td>\n",
       "      <td>27.0</td>\n",
       "      <td>49.0</td>\n",
       "      <td>18.0</td>\n",
       "      <td>virginica</td>\n",
       "    </tr>\n",
       "    <tr>\n",
       "      <th>124</th>\n",
       "      <td>67.0</td>\n",
       "      <td>33.0</td>\n",
       "      <td>57.0</td>\n",
       "      <td>21.0</td>\n",
       "      <td>virginica</td>\n",
       "    </tr>\n",
       "    <tr>\n",
       "      <th>125</th>\n",
       "      <td>72.0</td>\n",
       "      <td>32.0</td>\n",
       "      <td>60.0</td>\n",
       "      <td>18.0</td>\n",
       "      <td>virginica</td>\n",
       "    </tr>\n",
       "    <tr>\n",
       "      <th>126</th>\n",
       "      <td>62.0</td>\n",
       "      <td>28.0</td>\n",
       "      <td>48.0</td>\n",
       "      <td>18.0</td>\n",
       "      <td>virginica</td>\n",
       "    </tr>\n",
       "    <tr>\n",
       "      <th>127</th>\n",
       "      <td>61.0</td>\n",
       "      <td>30.0</td>\n",
       "      <td>49.0</td>\n",
       "      <td>18.0</td>\n",
       "      <td>virginica</td>\n",
       "    </tr>\n",
       "    <tr>\n",
       "      <th>128</th>\n",
       "      <td>64.0</td>\n",
       "      <td>28.0</td>\n",
       "      <td>56.0</td>\n",
       "      <td>21.0</td>\n",
       "      <td>virginica</td>\n",
       "    </tr>\n",
       "    <tr>\n",
       "      <th>129</th>\n",
       "      <td>72.0</td>\n",
       "      <td>30.0</td>\n",
       "      <td>58.0</td>\n",
       "      <td>16.0</td>\n",
       "      <td>virginica</td>\n",
       "    </tr>\n",
       "    <tr>\n",
       "      <th>130</th>\n",
       "      <td>74.0</td>\n",
       "      <td>28.0</td>\n",
       "      <td>61.0</td>\n",
       "      <td>19.0</td>\n",
       "      <td>virginica</td>\n",
       "    </tr>\n",
       "    <tr>\n",
       "      <th>131</th>\n",
       "      <td>79.0</td>\n",
       "      <td>38.0</td>\n",
       "      <td>64.0</td>\n",
       "      <td>20.0</td>\n",
       "      <td>virginica</td>\n",
       "    </tr>\n",
       "    <tr>\n",
       "      <th>132</th>\n",
       "      <td>64.0</td>\n",
       "      <td>28.0</td>\n",
       "      <td>56.0</td>\n",
       "      <td>22.0</td>\n",
       "      <td>virginica</td>\n",
       "    </tr>\n",
       "    <tr>\n",
       "      <th>133</th>\n",
       "      <td>63.0</td>\n",
       "      <td>28.0</td>\n",
       "      <td>51.0</td>\n",
       "      <td>15.0</td>\n",
       "      <td>virginica</td>\n",
       "    </tr>\n",
       "    <tr>\n",
       "      <th>134</th>\n",
       "      <td>61.0</td>\n",
       "      <td>26.0</td>\n",
       "      <td>56.0</td>\n",
       "      <td>14.0</td>\n",
       "      <td>virginica</td>\n",
       "    </tr>\n",
       "    <tr>\n",
       "      <th>135</th>\n",
       "      <td>77.0</td>\n",
       "      <td>30.0</td>\n",
       "      <td>61.0</td>\n",
       "      <td>23.0</td>\n",
       "      <td>virginica</td>\n",
       "    </tr>\n",
       "    <tr>\n",
       "      <th>136</th>\n",
       "      <td>63.0</td>\n",
       "      <td>34.0</td>\n",
       "      <td>56.0</td>\n",
       "      <td>24.0</td>\n",
       "      <td>virginica</td>\n",
       "    </tr>\n",
       "    <tr>\n",
       "      <th>137</th>\n",
       "      <td>64.0</td>\n",
       "      <td>31.0</td>\n",
       "      <td>55.0</td>\n",
       "      <td>18.0</td>\n",
       "      <td>virginica</td>\n",
       "    </tr>\n",
       "    <tr>\n",
       "      <th>138</th>\n",
       "      <td>60.0</td>\n",
       "      <td>30.0</td>\n",
       "      <td>48.0</td>\n",
       "      <td>18.0</td>\n",
       "      <td>virginica</td>\n",
       "    </tr>\n",
       "    <tr>\n",
       "      <th>139</th>\n",
       "      <td>69.0</td>\n",
       "      <td>31.0</td>\n",
       "      <td>54.0</td>\n",
       "      <td>21.0</td>\n",
       "      <td>virginica</td>\n",
       "    </tr>\n",
       "    <tr>\n",
       "      <th>140</th>\n",
       "      <td>67.0</td>\n",
       "      <td>31.0</td>\n",
       "      <td>56.0</td>\n",
       "      <td>24.0</td>\n",
       "      <td>virginica</td>\n",
       "    </tr>\n",
       "    <tr>\n",
       "      <th>141</th>\n",
       "      <td>69.0</td>\n",
       "      <td>31.0</td>\n",
       "      <td>51.0</td>\n",
       "      <td>23.0</td>\n",
       "      <td>virginica</td>\n",
       "    </tr>\n",
       "    <tr>\n",
       "      <th>142</th>\n",
       "      <td>58.0</td>\n",
       "      <td>27.0</td>\n",
       "      <td>51.0</td>\n",
       "      <td>19.0</td>\n",
       "      <td>virginica</td>\n",
       "    </tr>\n",
       "    <tr>\n",
       "      <th>143</th>\n",
       "      <td>68.0</td>\n",
       "      <td>32.0</td>\n",
       "      <td>59.0</td>\n",
       "      <td>23.0</td>\n",
       "      <td>virginica</td>\n",
       "    </tr>\n",
       "    <tr>\n",
       "      <th>144</th>\n",
       "      <td>67.0</td>\n",
       "      <td>33.0</td>\n",
       "      <td>57.0</td>\n",
       "      <td>25.0</td>\n",
       "      <td>virginica</td>\n",
       "    </tr>\n",
       "    <tr>\n",
       "      <th>145</th>\n",
       "      <td>67.0</td>\n",
       "      <td>30.0</td>\n",
       "      <td>52.0</td>\n",
       "      <td>23.0</td>\n",
       "      <td>virginica</td>\n",
       "    </tr>\n",
       "    <tr>\n",
       "      <th>146</th>\n",
       "      <td>63.0</td>\n",
       "      <td>25.0</td>\n",
       "      <td>50.0</td>\n",
       "      <td>19.0</td>\n",
       "      <td>virginica</td>\n",
       "    </tr>\n",
       "    <tr>\n",
       "      <th>147</th>\n",
       "      <td>65.0</td>\n",
       "      <td>30.0</td>\n",
       "      <td>52.0</td>\n",
       "      <td>20.0</td>\n",
       "      <td>virginica</td>\n",
       "    </tr>\n",
       "    <tr>\n",
       "      <th>148</th>\n",
       "      <td>62.0</td>\n",
       "      <td>34.0</td>\n",
       "      <td>54.0</td>\n",
       "      <td>23.0</td>\n",
       "      <td>virginica</td>\n",
       "    </tr>\n",
       "    <tr>\n",
       "      <th>149</th>\n",
       "      <td>59.0</td>\n",
       "      <td>30.0</td>\n",
       "      <td>51.0</td>\n",
       "      <td>18.0</td>\n",
       "      <td>virginica</td>\n",
       "    </tr>\n",
       "  </tbody>\n",
       "</table>\n",
       "<p>150 rows × 5 columns</p>\n",
       "</div>"
      ],
      "text/plain": [
       "     sepal_length  sepal_width  petal_length  petal_width    species\n",
       "0            51.0         35.0          14.0          2.0     setosa\n",
       "1            49.0         30.0          14.0          2.0     setosa\n",
       "2            47.0         32.0          13.0          2.0     setosa\n",
       "3            46.0         31.0          15.0          2.0     setosa\n",
       "4            50.0         36.0          14.0          2.0     setosa\n",
       "5            54.0         39.0          17.0          4.0     setosa\n",
       "6            46.0         34.0          14.0          3.0     setosa\n",
       "7            50.0         34.0          15.0          2.0     setosa\n",
       "8            44.0         29.0          14.0          2.0     setosa\n",
       "9            49.0         31.0          15.0          1.0     setosa\n",
       "10           54.0         37.0          15.0          2.0     setosa\n",
       "11           48.0         34.0          16.0          2.0     setosa\n",
       "12           48.0         30.0          14.0          1.0     setosa\n",
       "13           43.0         30.0          11.0          1.0     setosa\n",
       "14           58.0         40.0          12.0          2.0     setosa\n",
       "15           57.0         44.0          15.0          4.0     setosa\n",
       "16           54.0         39.0          13.0          4.0     setosa\n",
       "17           51.0         35.0          14.0          3.0     setosa\n",
       "18           57.0         38.0          17.0          3.0     setosa\n",
       "19           51.0         38.0          15.0          3.0     setosa\n",
       "20           54.0         34.0          17.0          2.0     setosa\n",
       "21           51.0         37.0          15.0          4.0     setosa\n",
       "22           46.0         36.0          10.0          2.0     setosa\n",
       "23           51.0         33.0          17.0          5.0     setosa\n",
       "24           48.0         34.0          19.0          2.0     setosa\n",
       "25           50.0         30.0          16.0          2.0     setosa\n",
       "26           50.0         34.0          16.0          4.0     setosa\n",
       "27           52.0         35.0          15.0          2.0     setosa\n",
       "28           52.0         34.0          14.0          2.0     setosa\n",
       "29           47.0         32.0          16.0          2.0     setosa\n",
       "..            ...          ...           ...          ...        ...\n",
       "120          69.0         32.0          57.0         23.0  virginica\n",
       "121          56.0         28.0          49.0         20.0  virginica\n",
       "122          77.0         28.0          67.0         20.0  virginica\n",
       "123          63.0         27.0          49.0         18.0  virginica\n",
       "124          67.0         33.0          57.0         21.0  virginica\n",
       "125          72.0         32.0          60.0         18.0  virginica\n",
       "126          62.0         28.0          48.0         18.0  virginica\n",
       "127          61.0         30.0          49.0         18.0  virginica\n",
       "128          64.0         28.0          56.0         21.0  virginica\n",
       "129          72.0         30.0          58.0         16.0  virginica\n",
       "130          74.0         28.0          61.0         19.0  virginica\n",
       "131          79.0         38.0          64.0         20.0  virginica\n",
       "132          64.0         28.0          56.0         22.0  virginica\n",
       "133          63.0         28.0          51.0         15.0  virginica\n",
       "134          61.0         26.0          56.0         14.0  virginica\n",
       "135          77.0         30.0          61.0         23.0  virginica\n",
       "136          63.0         34.0          56.0         24.0  virginica\n",
       "137          64.0         31.0          55.0         18.0  virginica\n",
       "138          60.0         30.0          48.0         18.0  virginica\n",
       "139          69.0         31.0          54.0         21.0  virginica\n",
       "140          67.0         31.0          56.0         24.0  virginica\n",
       "141          69.0         31.0          51.0         23.0  virginica\n",
       "142          58.0         27.0          51.0         19.0  virginica\n",
       "143          68.0         32.0          59.0         23.0  virginica\n",
       "144          67.0         33.0          57.0         25.0  virginica\n",
       "145          67.0         30.0          52.0         23.0  virginica\n",
       "146          63.0         25.0          50.0         19.0  virginica\n",
       "147          65.0         30.0          52.0         20.0  virginica\n",
       "148          62.0         34.0          54.0         23.0  virginica\n",
       "149          59.0         30.0          51.0         18.0  virginica\n",
       "\n",
       "[150 rows x 5 columns]"
      ]
     },
     "execution_count": 63,
     "metadata": {},
     "output_type": "execute_result"
    }
   ],
   "source": [
    "iris_df\n",
    "iris_df1=iris_df.applymap(lambda x: x*10 if type(x) is float else x)\n",
    "iris_df1"
   ]
  },
  {
   "cell_type": "markdown",
   "metadata": {},
   "source": [
    "<h3>Correlation and Covariance using Pandas</h3>\n",
    "Let’s consider some DataFrames of stock prices and volumes obtained from Yahoo! Finance using the add-on pandas-datareader package. If you don’t have it installed already, please install using conda:\n",
    "\n",
    "conda install pandas-datareader\n",
    "\n",
    "http://pandas-datareader.readthedocs.io/en/latest/remote_data.html"
   ]
  },
  {
   "cell_type": "code",
   "execution_count": 17,
   "metadata": {
    "scrolled": true
   },
   "outputs": [],
   "source": [
    "import pandas_datareader.data as web"
   ]
  },
  {
   "cell_type": "code",
   "execution_count": 18,
   "metadata": {},
   "outputs": [],
   "source": [
    "start = datetime(2019, 1, 1)\n",
    "end = datetime(2019, 2, 14)\n",
    "aapl = web.DataReader('AAPL', 'yahoo', start, end)"
   ]
  },
  {
   "cell_type": "code",
   "execution_count": 77,
   "metadata": {
    "scrolled": false
   },
   "outputs": [
    {
     "data": {
      "text/html": [
       "<div>\n",
       "<style scoped>\n",
       "    .dataframe tbody tr th:only-of-type {\n",
       "        vertical-align: middle;\n",
       "    }\n",
       "\n",
       "    .dataframe tbody tr th {\n",
       "        vertical-align: top;\n",
       "    }\n",
       "\n",
       "    .dataframe thead th {\n",
       "        text-align: right;\n",
       "    }\n",
       "</style>\n",
       "<table border=\"1\" class=\"dataframe\">\n",
       "  <thead>\n",
       "    <tr style=\"text-align: right;\">\n",
       "      <th></th>\n",
       "      <th>High</th>\n",
       "      <th>Low</th>\n",
       "      <th>Open</th>\n",
       "      <th>Close</th>\n",
       "      <th>Volume</th>\n",
       "      <th>Adj Close</th>\n",
       "    </tr>\n",
       "    <tr>\n",
       "      <th>Date</th>\n",
       "      <th></th>\n",
       "      <th></th>\n",
       "      <th></th>\n",
       "      <th></th>\n",
       "      <th></th>\n",
       "      <th></th>\n",
       "    </tr>\n",
       "  </thead>\n",
       "  <tbody>\n",
       "    <tr>\n",
       "      <th>2019-01-02</th>\n",
       "      <td>158.850006</td>\n",
       "      <td>154.229996</td>\n",
       "      <td>154.889999</td>\n",
       "      <td>157.919998</td>\n",
       "      <td>37039700.0</td>\n",
       "      <td>157.245605</td>\n",
       "    </tr>\n",
       "    <tr>\n",
       "      <th>2019-01-03</th>\n",
       "      <td>145.720001</td>\n",
       "      <td>142.000000</td>\n",
       "      <td>143.979996</td>\n",
       "      <td>142.190002</td>\n",
       "      <td>91312200.0</td>\n",
       "      <td>141.582779</td>\n",
       "    </tr>\n",
       "    <tr>\n",
       "      <th>2019-01-04</th>\n",
       "      <td>148.550003</td>\n",
       "      <td>143.800003</td>\n",
       "      <td>144.529999</td>\n",
       "      <td>148.259995</td>\n",
       "      <td>58607100.0</td>\n",
       "      <td>147.626846</td>\n",
       "    </tr>\n",
       "    <tr>\n",
       "      <th>2019-01-07</th>\n",
       "      <td>148.830002</td>\n",
       "      <td>145.899994</td>\n",
       "      <td>148.699997</td>\n",
       "      <td>147.929993</td>\n",
       "      <td>54777800.0</td>\n",
       "      <td>147.298264</td>\n",
       "    </tr>\n",
       "    <tr>\n",
       "      <th>2019-01-08</th>\n",
       "      <td>151.820007</td>\n",
       "      <td>148.520004</td>\n",
       "      <td>149.559998</td>\n",
       "      <td>150.750000</td>\n",
       "      <td>41025300.0</td>\n",
       "      <td>150.106216</td>\n",
       "    </tr>\n",
       "    <tr>\n",
       "      <th>2019-01-09</th>\n",
       "      <td>154.529999</td>\n",
       "      <td>149.630005</td>\n",
       "      <td>151.289993</td>\n",
       "      <td>153.309998</td>\n",
       "      <td>45099100.0</td>\n",
       "      <td>152.655289</td>\n",
       "    </tr>\n",
       "    <tr>\n",
       "      <th>2019-01-10</th>\n",
       "      <td>153.970001</td>\n",
       "      <td>150.860001</td>\n",
       "      <td>152.500000</td>\n",
       "      <td>153.800003</td>\n",
       "      <td>35780700.0</td>\n",
       "      <td>153.143204</td>\n",
       "    </tr>\n",
       "    <tr>\n",
       "      <th>2019-01-11</th>\n",
       "      <td>153.699997</td>\n",
       "      <td>151.509995</td>\n",
       "      <td>152.880005</td>\n",
       "      <td>152.289993</td>\n",
       "      <td>27023200.0</td>\n",
       "      <td>151.639633</td>\n",
       "    </tr>\n",
       "    <tr>\n",
       "      <th>2019-01-14</th>\n",
       "      <td>151.270004</td>\n",
       "      <td>149.220001</td>\n",
       "      <td>150.850006</td>\n",
       "      <td>150.000000</td>\n",
       "      <td>32439200.0</td>\n",
       "      <td>149.359421</td>\n",
       "    </tr>\n",
       "    <tr>\n",
       "      <th>2019-01-15</th>\n",
       "      <td>153.389999</td>\n",
       "      <td>150.050003</td>\n",
       "      <td>150.270004</td>\n",
       "      <td>153.070007</td>\n",
       "      <td>28710900.0</td>\n",
       "      <td>152.416321</td>\n",
       "    </tr>\n",
       "    <tr>\n",
       "      <th>2019-01-16</th>\n",
       "      <td>155.880005</td>\n",
       "      <td>153.000000</td>\n",
       "      <td>153.080002</td>\n",
       "      <td>154.940002</td>\n",
       "      <td>30569700.0</td>\n",
       "      <td>154.278336</td>\n",
       "    </tr>\n",
       "    <tr>\n",
       "      <th>2019-01-17</th>\n",
       "      <td>157.660004</td>\n",
       "      <td>153.259995</td>\n",
       "      <td>154.199997</td>\n",
       "      <td>155.860001</td>\n",
       "      <td>29821200.0</td>\n",
       "      <td>155.194397</td>\n",
       "    </tr>\n",
       "    <tr>\n",
       "      <th>2019-01-18</th>\n",
       "      <td>157.880005</td>\n",
       "      <td>155.979996</td>\n",
       "      <td>157.500000</td>\n",
       "      <td>156.820007</td>\n",
       "      <td>33751000.0</td>\n",
       "      <td>156.150314</td>\n",
       "    </tr>\n",
       "    <tr>\n",
       "      <th>2019-01-22</th>\n",
       "      <td>156.729996</td>\n",
       "      <td>152.619995</td>\n",
       "      <td>156.410004</td>\n",
       "      <td>153.300003</td>\n",
       "      <td>30394000.0</td>\n",
       "      <td>152.645340</td>\n",
       "    </tr>\n",
       "    <tr>\n",
       "      <th>2019-01-23</th>\n",
       "      <td>155.139999</td>\n",
       "      <td>151.699997</td>\n",
       "      <td>154.149994</td>\n",
       "      <td>153.919998</td>\n",
       "      <td>23130600.0</td>\n",
       "      <td>153.262680</td>\n",
       "    </tr>\n",
       "    <tr>\n",
       "      <th>2019-01-24</th>\n",
       "      <td>154.479996</td>\n",
       "      <td>151.740005</td>\n",
       "      <td>154.110001</td>\n",
       "      <td>152.699997</td>\n",
       "      <td>25441500.0</td>\n",
       "      <td>152.047897</td>\n",
       "    </tr>\n",
       "    <tr>\n",
       "      <th>2019-01-25</th>\n",
       "      <td>158.130005</td>\n",
       "      <td>154.320007</td>\n",
       "      <td>155.479996</td>\n",
       "      <td>157.759995</td>\n",
       "      <td>33535500.0</td>\n",
       "      <td>157.086288</td>\n",
       "    </tr>\n",
       "    <tr>\n",
       "      <th>2019-01-28</th>\n",
       "      <td>156.330002</td>\n",
       "      <td>153.660004</td>\n",
       "      <td>155.789993</td>\n",
       "      <td>156.300003</td>\n",
       "      <td>26192100.0</td>\n",
       "      <td>155.632523</td>\n",
       "    </tr>\n",
       "    <tr>\n",
       "      <th>2019-01-29</th>\n",
       "      <td>158.130005</td>\n",
       "      <td>154.110001</td>\n",
       "      <td>156.250000</td>\n",
       "      <td>154.679993</td>\n",
       "      <td>41587200.0</td>\n",
       "      <td>154.019440</td>\n",
       "    </tr>\n",
       "    <tr>\n",
       "      <th>2019-01-30</th>\n",
       "      <td>166.149994</td>\n",
       "      <td>160.229996</td>\n",
       "      <td>163.250000</td>\n",
       "      <td>165.250000</td>\n",
       "      <td>61109800.0</td>\n",
       "      <td>164.544296</td>\n",
       "    </tr>\n",
       "    <tr>\n",
       "      <th>2019-01-31</th>\n",
       "      <td>169.000000</td>\n",
       "      <td>164.559998</td>\n",
       "      <td>166.110001</td>\n",
       "      <td>166.440002</td>\n",
       "      <td>40739600.0</td>\n",
       "      <td>165.729218</td>\n",
       "    </tr>\n",
       "    <tr>\n",
       "      <th>2019-02-01</th>\n",
       "      <td>168.979996</td>\n",
       "      <td>165.929993</td>\n",
       "      <td>166.960007</td>\n",
       "      <td>166.520004</td>\n",
       "      <td>32668100.0</td>\n",
       "      <td>165.808884</td>\n",
       "    </tr>\n",
       "    <tr>\n",
       "      <th>2019-02-04</th>\n",
       "      <td>171.660004</td>\n",
       "      <td>167.279999</td>\n",
       "      <td>167.410004</td>\n",
       "      <td>171.250000</td>\n",
       "      <td>31495500.0</td>\n",
       "      <td>170.518677</td>\n",
       "    </tr>\n",
       "    <tr>\n",
       "      <th>2019-02-05</th>\n",
       "      <td>175.080002</td>\n",
       "      <td>172.350006</td>\n",
       "      <td>172.860001</td>\n",
       "      <td>174.179993</td>\n",
       "      <td>36101600.0</td>\n",
       "      <td>173.436157</td>\n",
       "    </tr>\n",
       "    <tr>\n",
       "      <th>2019-02-06</th>\n",
       "      <td>175.570007</td>\n",
       "      <td>172.850006</td>\n",
       "      <td>174.649994</td>\n",
       "      <td>174.240005</td>\n",
       "      <td>28239600.0</td>\n",
       "      <td>173.495911</td>\n",
       "    </tr>\n",
       "    <tr>\n",
       "      <th>2019-02-07</th>\n",
       "      <td>173.940002</td>\n",
       "      <td>170.339996</td>\n",
       "      <td>172.399994</td>\n",
       "      <td>170.940002</td>\n",
       "      <td>31741700.0</td>\n",
       "      <td>170.210007</td>\n",
       "    </tr>\n",
       "    <tr>\n",
       "      <th>2019-02-08</th>\n",
       "      <td>170.660004</td>\n",
       "      <td>168.419998</td>\n",
       "      <td>168.990005</td>\n",
       "      <td>170.410004</td>\n",
       "      <td>23820000.0</td>\n",
       "      <td>170.410004</td>\n",
       "    </tr>\n",
       "    <tr>\n",
       "      <th>2019-02-11</th>\n",
       "      <td>171.210007</td>\n",
       "      <td>169.250000</td>\n",
       "      <td>171.050003</td>\n",
       "      <td>169.429993</td>\n",
       "      <td>20993400.0</td>\n",
       "      <td>169.429993</td>\n",
       "    </tr>\n",
       "    <tr>\n",
       "      <th>2019-02-12</th>\n",
       "      <td>171.000000</td>\n",
       "      <td>169.699997</td>\n",
       "      <td>170.100006</td>\n",
       "      <td>170.889999</td>\n",
       "      <td>22283500.0</td>\n",
       "      <td>170.889999</td>\n",
       "    </tr>\n",
       "    <tr>\n",
       "      <th>2019-02-13</th>\n",
       "      <td>172.479996</td>\n",
       "      <td>169.919998</td>\n",
       "      <td>171.389999</td>\n",
       "      <td>170.179993</td>\n",
       "      <td>22464000.0</td>\n",
       "      <td>170.179993</td>\n",
       "    </tr>\n",
       "    <tr>\n",
       "      <th>2019-02-14</th>\n",
       "      <td>171.261505</td>\n",
       "      <td>169.380005</td>\n",
       "      <td>169.710007</td>\n",
       "      <td>170.800003</td>\n",
       "      <td>21786342.0</td>\n",
       "      <td>170.800003</td>\n",
       "    </tr>\n",
       "  </tbody>\n",
       "</table>\n",
       "</div>"
      ],
      "text/plain": [
       "                  High         Low        Open       Close      Volume  \\\n",
       "Date                                                                     \n",
       "2019-01-02  158.850006  154.229996  154.889999  157.919998  37039700.0   \n",
       "2019-01-03  145.720001  142.000000  143.979996  142.190002  91312200.0   \n",
       "2019-01-04  148.550003  143.800003  144.529999  148.259995  58607100.0   \n",
       "2019-01-07  148.830002  145.899994  148.699997  147.929993  54777800.0   \n",
       "2019-01-08  151.820007  148.520004  149.559998  150.750000  41025300.0   \n",
       "2019-01-09  154.529999  149.630005  151.289993  153.309998  45099100.0   \n",
       "2019-01-10  153.970001  150.860001  152.500000  153.800003  35780700.0   \n",
       "2019-01-11  153.699997  151.509995  152.880005  152.289993  27023200.0   \n",
       "2019-01-14  151.270004  149.220001  150.850006  150.000000  32439200.0   \n",
       "2019-01-15  153.389999  150.050003  150.270004  153.070007  28710900.0   \n",
       "2019-01-16  155.880005  153.000000  153.080002  154.940002  30569700.0   \n",
       "2019-01-17  157.660004  153.259995  154.199997  155.860001  29821200.0   \n",
       "2019-01-18  157.880005  155.979996  157.500000  156.820007  33751000.0   \n",
       "2019-01-22  156.729996  152.619995  156.410004  153.300003  30394000.0   \n",
       "2019-01-23  155.139999  151.699997  154.149994  153.919998  23130600.0   \n",
       "2019-01-24  154.479996  151.740005  154.110001  152.699997  25441500.0   \n",
       "2019-01-25  158.130005  154.320007  155.479996  157.759995  33535500.0   \n",
       "2019-01-28  156.330002  153.660004  155.789993  156.300003  26192100.0   \n",
       "2019-01-29  158.130005  154.110001  156.250000  154.679993  41587200.0   \n",
       "2019-01-30  166.149994  160.229996  163.250000  165.250000  61109800.0   \n",
       "2019-01-31  169.000000  164.559998  166.110001  166.440002  40739600.0   \n",
       "2019-02-01  168.979996  165.929993  166.960007  166.520004  32668100.0   \n",
       "2019-02-04  171.660004  167.279999  167.410004  171.250000  31495500.0   \n",
       "2019-02-05  175.080002  172.350006  172.860001  174.179993  36101600.0   \n",
       "2019-02-06  175.570007  172.850006  174.649994  174.240005  28239600.0   \n",
       "2019-02-07  173.940002  170.339996  172.399994  170.940002  31741700.0   \n",
       "2019-02-08  170.660004  168.419998  168.990005  170.410004  23820000.0   \n",
       "2019-02-11  171.210007  169.250000  171.050003  169.429993  20993400.0   \n",
       "2019-02-12  171.000000  169.699997  170.100006  170.889999  22283500.0   \n",
       "2019-02-13  172.479996  169.919998  171.389999  170.179993  22464000.0   \n",
       "2019-02-14  171.261505  169.380005  169.710007  170.800003  21786342.0   \n",
       "\n",
       "             Adj Close  \n",
       "Date                    \n",
       "2019-01-02  157.245605  \n",
       "2019-01-03  141.582779  \n",
       "2019-01-04  147.626846  \n",
       "2019-01-07  147.298264  \n",
       "2019-01-08  150.106216  \n",
       "2019-01-09  152.655289  \n",
       "2019-01-10  153.143204  \n",
       "2019-01-11  151.639633  \n",
       "2019-01-14  149.359421  \n",
       "2019-01-15  152.416321  \n",
       "2019-01-16  154.278336  \n",
       "2019-01-17  155.194397  \n",
       "2019-01-18  156.150314  \n",
       "2019-01-22  152.645340  \n",
       "2019-01-23  153.262680  \n",
       "2019-01-24  152.047897  \n",
       "2019-01-25  157.086288  \n",
       "2019-01-28  155.632523  \n",
       "2019-01-29  154.019440  \n",
       "2019-01-30  164.544296  \n",
       "2019-01-31  165.729218  \n",
       "2019-02-01  165.808884  \n",
       "2019-02-04  170.518677  \n",
       "2019-02-05  173.436157  \n",
       "2019-02-06  173.495911  \n",
       "2019-02-07  170.210007  \n",
       "2019-02-08  170.410004  \n",
       "2019-02-11  169.429993  \n",
       "2019-02-12  170.889999  \n",
       "2019-02-13  170.179993  \n",
       "2019-02-14  170.800003  "
      ]
     },
     "execution_count": 77,
     "metadata": {},
     "output_type": "execute_result"
    }
   ],
   "source": [
    "aapl"
   ]
  },
  {
   "cell_type": "code",
   "execution_count": 78,
   "metadata": {},
   "outputs": [],
   "source": [
    "all_data = {ticker: web.DataReader(ticker,'yahoo',start, end)\n",
    "            for ticker in ['AAPL', 'IBM', 'MSFT', 'GOOG']}"
   ]
  },
  {
   "cell_type": "code",
   "execution_count": 79,
   "metadata": {},
   "outputs": [
    {
     "data": {
      "text/plain": [
       "{'AAPL':                   High         Low        Open       Close      Volume  \\\n",
       " Date                                                                     \n",
       " 2019-01-02  158.850006  154.229996  154.889999  157.919998  37039700.0   \n",
       " 2019-01-03  145.720001  142.000000  143.979996  142.190002  91312200.0   \n",
       " 2019-01-04  148.550003  143.800003  144.529999  148.259995  58607100.0   \n",
       " 2019-01-07  148.830002  145.899994  148.699997  147.929993  54777800.0   \n",
       " 2019-01-08  151.820007  148.520004  149.559998  150.750000  41025300.0   \n",
       " 2019-01-09  154.529999  149.630005  151.289993  153.309998  45099100.0   \n",
       " 2019-01-10  153.970001  150.860001  152.500000  153.800003  35780700.0   \n",
       " 2019-01-11  153.699997  151.509995  152.880005  152.289993  27023200.0   \n",
       " 2019-01-14  151.270004  149.220001  150.850006  150.000000  32439200.0   \n",
       " 2019-01-15  153.389999  150.050003  150.270004  153.070007  28710900.0   \n",
       " 2019-01-16  155.880005  153.000000  153.080002  154.940002  30569700.0   \n",
       " 2019-01-17  157.660004  153.259995  154.199997  155.860001  29821200.0   \n",
       " 2019-01-18  157.880005  155.979996  157.500000  156.820007  33751000.0   \n",
       " 2019-01-22  156.729996  152.619995  156.410004  153.300003  30394000.0   \n",
       " 2019-01-23  155.139999  151.699997  154.149994  153.919998  23130600.0   \n",
       " 2019-01-24  154.479996  151.740005  154.110001  152.699997  25441500.0   \n",
       " 2019-01-25  158.130005  154.320007  155.479996  157.759995  33535500.0   \n",
       " 2019-01-28  156.330002  153.660004  155.789993  156.300003  26192100.0   \n",
       " 2019-01-29  158.130005  154.110001  156.250000  154.679993  41587200.0   \n",
       " 2019-01-30  166.149994  160.229996  163.250000  165.250000  61109800.0   \n",
       " 2019-01-31  169.000000  164.559998  166.110001  166.440002  40739600.0   \n",
       " 2019-02-01  168.979996  165.929993  166.960007  166.520004  32668100.0   \n",
       " 2019-02-04  171.660004  167.279999  167.410004  171.250000  31495500.0   \n",
       " 2019-02-05  175.080002  172.350006  172.860001  174.179993  36101600.0   \n",
       " 2019-02-06  175.570007  172.850006  174.649994  174.240005  28239600.0   \n",
       " 2019-02-07  173.940002  170.339996  172.399994  170.940002  31741700.0   \n",
       " 2019-02-08  170.660004  168.419998  168.990005  170.410004  23820000.0   \n",
       " 2019-02-11  171.210007  169.250000  171.050003  169.429993  20993400.0   \n",
       " 2019-02-12  171.000000  169.699997  170.100006  170.889999  22283500.0   \n",
       " 2019-02-13  172.479996  169.919998  171.389999  170.179993  22464000.0   \n",
       " 2019-02-14  171.261505  169.380005  169.710007  170.800003  21786342.0   \n",
       " \n",
       "              Adj Close  \n",
       " Date                    \n",
       " 2019-01-02  157.245605  \n",
       " 2019-01-03  141.582779  \n",
       " 2019-01-04  147.626846  \n",
       " 2019-01-07  147.298264  \n",
       " 2019-01-08  150.106216  \n",
       " 2019-01-09  152.655289  \n",
       " 2019-01-10  153.143204  \n",
       " 2019-01-11  151.639633  \n",
       " 2019-01-14  149.359421  \n",
       " 2019-01-15  152.416321  \n",
       " 2019-01-16  154.278336  \n",
       " 2019-01-17  155.194397  \n",
       " 2019-01-18  156.150314  \n",
       " 2019-01-22  152.645340  \n",
       " 2019-01-23  153.262680  \n",
       " 2019-01-24  152.047897  \n",
       " 2019-01-25  157.086288  \n",
       " 2019-01-28  155.632523  \n",
       " 2019-01-29  154.019440  \n",
       " 2019-01-30  164.544296  \n",
       " 2019-01-31  165.729218  \n",
       " 2019-02-01  165.808884  \n",
       " 2019-02-04  170.518677  \n",
       " 2019-02-05  173.436157  \n",
       " 2019-02-06  173.495911  \n",
       " 2019-02-07  170.210007  \n",
       " 2019-02-08  170.410004  \n",
       " 2019-02-11  169.429993  \n",
       " 2019-02-12  170.889999  \n",
       " 2019-02-13  170.179993  \n",
       " 2019-02-14  170.800003  ,\n",
       " 'IBM':                   High         Low        Open       Close      Volume  \\\n",
       " Date                                                                     \n",
       " 2019-01-02  115.980003  111.690002  112.010002  115.209999   4239900.0   \n",
       " 2019-01-03  114.879997  112.690002  114.529999  112.910004   4346700.0   \n",
       " 2019-01-04  117.489998  114.440002  114.910004  117.320000   4477800.0   \n",
       " 2019-01-07  118.830002  116.669998  117.500000  118.150002   3751200.0   \n",
       " 2019-01-08  120.570000  118.980003  119.660004  119.830002   4763600.0   \n",
       " 2019-01-09  121.400002  119.870003  120.910004  120.690002   3633700.0   \n",
       " 2019-01-10  121.860001  119.949997  120.080002  121.790001   3910000.0   \n",
       " 2019-01-11  121.620003  120.199997  121.580002  121.459999   3722400.0   \n",
       " 2019-01-14  120.650002  119.760002  120.510002  120.389999   5228700.0   \n",
       " 2019-01-15  121.930000  120.820000  120.959999  121.730003   3507500.0   \n",
       " 2019-01-16  122.000000  120.830002  121.580002  121.620003   3841100.0   \n",
       " 2019-01-17  122.410004  120.550003  120.559998  122.190002   5029900.0   \n",
       " 2019-01-18  124.720001  122.709999  123.269997  123.820000   6008500.0   \n",
       " 2019-01-22  123.800003  121.540001  123.300003  122.519997  10052400.0   \n",
       " 2019-01-23  135.000000  130.309998  131.369995  132.889999  22063700.0   \n",
       " 2019-01-24  133.210007  131.429993  132.630005  132.529999   6322900.0   \n",
       " 2019-01-25  134.440002  132.429993  132.869995  133.970001   5707400.0   \n",
       " 2019-01-28  134.809998  132.580002  133.100006  134.270004   5357700.0   \n",
       " 2019-01-29  135.410004  133.600006  134.289993  134.330002   5037100.0   \n",
       " 2019-01-30  135.029999  133.250000  134.000000  134.380005   4500900.0   \n",
       " 2019-01-31  134.720001  133.740005  134.449997  134.419998   4884000.0   \n",
       " 2019-02-01  135.199997  133.350006  134.970001  134.100006   3806000.0   \n",
       " 2019-02-04  135.199997  132.990005  134.020004  135.190002   3966600.0   \n",
       " 2019-02-05  135.820007  134.919998  135.279999  135.550003   5398900.0   \n",
       " 2019-02-06  136.649994  135.169998  135.220001  136.320007   4879700.0   \n",
       " 2019-02-07  134.470001  132.119995  133.550003  133.190002   4379400.0   \n",
       " 2019-02-08  133.710007  132.190002  132.339996  133.710007   3249800.0   \n",
       " 2019-02-11  135.149994  133.910004  134.289993  133.990005   3095100.0   \n",
       " 2019-02-12  136.199997  134.860001  135.149994  136.050003   3317200.0   \n",
       " 2019-02-13  137.919998  136.410004  136.919998  137.520004   4252500.0   \n",
       " 2019-02-14  137.601898  136.210007  137.169998  136.479996   2789344.0   \n",
       " \n",
       "              Adj Close  \n",
       " Date                    \n",
       " 2019-01-02  113.883118  \n",
       " 2019-01-03  111.609612  \n",
       " 2019-01-04  115.968819  \n",
       " 2019-01-07  116.789261  \n",
       " 2019-01-08  118.449913  \n",
       " 2019-01-09  119.300011  \n",
       " 2019-01-10  120.387337  \n",
       " 2019-01-11  120.061142  \n",
       " 2019-01-14  119.003464  \n",
       " 2019-01-15  120.328033  \n",
       " 2019-01-16  120.219299  \n",
       " 2019-01-17  120.782738  \n",
       " 2019-01-18  122.393959  \n",
       " 2019-01-22  121.108925  \n",
       " 2019-01-23  131.359497  \n",
       " 2019-01-24  131.003647  \n",
       " 2019-01-25  132.427063  \n",
       " 2019-01-28  132.723618  \n",
       " 2019-01-29  132.782913  \n",
       " 2019-01-30  132.832336  \n",
       " 2019-01-31  132.871872  \n",
       " 2019-02-01  132.555573  \n",
       " 2019-02-04  133.633011  \n",
       " 2019-02-05  133.988861  \n",
       " 2019-02-06  134.750000  \n",
       " 2019-02-07  133.190002  \n",
       " 2019-02-08  133.710007  \n",
       " 2019-02-11  133.990005  \n",
       " 2019-02-12  136.050003  \n",
       " 2019-02-13  137.520004  \n",
       " 2019-02-14  136.479996  ,\n",
       " 'MSFT':                   High         Low        Open       Close    Volume  \\\n",
       " Date                                                                   \n",
       " 2019-01-02  101.750000   98.940002   99.550003  101.120003  35329300   \n",
       " 2019-01-03  100.190002   97.199997  100.099998   97.400002  42579100   \n",
       " 2019-01-04  102.510002   98.930000   99.720001  101.930000  44060600   \n",
       " 2019-01-07  103.269997  100.980003  101.639999  102.059998  35656100   \n",
       " 2019-01-08  103.970001  101.709999  103.040001  102.800003  31514400   \n",
       " 2019-01-09  104.879997  103.239998  103.860001  104.269997  32280800   \n",
       " 2019-01-10  103.750000  102.379997  103.220001  103.599998  30067600   \n",
       " 2019-01-11  103.440002  101.639999  103.190002  102.800003  28314200   \n",
       " 2019-01-14  102.870003  101.260002  101.900002  102.050003  28437100   \n",
       " 2019-01-15  105.050003  101.879997  102.510002  105.010002  31587600   \n",
       " 2019-01-16  106.260002  104.959999  105.260002  105.379997  29853900   \n",
       " 2019-01-17  106.629997  104.760002  105.000000  106.120003  28393000   \n",
       " 2019-01-18  107.900002  105.910004  107.459999  107.709999  37427600   \n",
       " 2019-01-22  107.099998  104.860001  106.750000  105.680000  32371300   \n",
       " 2019-01-23  107.040001  105.339996  106.120003  106.709999  25874300   \n",
       " 2019-01-24  107.000000  105.339996  106.860001  106.199997  23164800   \n",
       " 2019-01-25  107.879997  106.199997  107.239998  107.169998  31225600   \n",
       " 2019-01-28  106.480003  104.660004  106.260002  105.080002  29476700   \n",
       " 2019-01-29  104.970001  102.169998  104.879997  102.940002  31490500   \n",
       " 2019-01-30  106.379997  104.330002  104.620003  106.379997  49471900   \n",
       " 2019-01-31  105.220001  103.180000  103.800003  104.430000  55636400   \n",
       " 2019-02-01  104.099998  102.349998  103.779999  102.779999  35535700   \n",
       " 2019-02-04  105.800003  102.769997  102.870003  105.739998  31315100   \n",
       " 2019-02-05  107.269997  105.959999  106.059998  107.220001  27325400   \n",
       " 2019-02-06  107.000000  105.529999  107.000000  106.029999  20609800   \n",
       " 2019-02-07  105.589996  104.290001  105.190002  105.269997  29760700   \n",
       " 2019-02-08  105.779999  104.260002  104.389999  105.669998  21461100   \n",
       " 2019-02-11  106.580002  104.970001  106.199997  105.250000  18914100   \n",
       " 2019-02-12  107.139999  105.480003  106.139999  106.889999  25056600   \n",
       " 2019-02-13  107.779999  106.709999  107.500000  106.809998  18377700   \n",
       " 2019-02-14  107.220001  105.669998  106.309998  106.900002  21755971   \n",
       " \n",
       "              Adj Close  \n",
       " Date                    \n",
       " 2019-01-02  101.120003  \n",
       " 2019-01-03   97.400002  \n",
       " 2019-01-04  101.930000  \n",
       " 2019-01-07  102.059998  \n",
       " 2019-01-08  102.800003  \n",
       " 2019-01-09  104.269997  \n",
       " 2019-01-10  103.599998  \n",
       " 2019-01-11  102.800003  \n",
       " 2019-01-14  102.050003  \n",
       " 2019-01-15  105.010002  \n",
       " 2019-01-16  105.379997  \n",
       " 2019-01-17  106.120003  \n",
       " 2019-01-18  107.709999  \n",
       " 2019-01-22  105.680000  \n",
       " 2019-01-23  106.709999  \n",
       " 2019-01-24  106.199997  \n",
       " 2019-01-25  107.169998  \n",
       " 2019-01-28  105.080002  \n",
       " 2019-01-29  102.940002  \n",
       " 2019-01-30  106.379997  \n",
       " 2019-01-31  104.430000  \n",
       " 2019-02-01  102.779999  \n",
       " 2019-02-04  105.739998  \n",
       " 2019-02-05  107.220001  \n",
       " 2019-02-06  106.029999  \n",
       " 2019-02-07  105.269997  \n",
       " 2019-02-08  105.669998  \n",
       " 2019-02-11  105.250000  \n",
       " 2019-02-12  106.889999  \n",
       " 2019-02-13  106.809998  \n",
       " 2019-02-14  106.900002  ,\n",
       " 'GOOG':                    High          Low         Open        Close   Volume  \\\n",
       " Date                                                                      \n",
       " 2019-01-02  1052.319946  1015.710022  1016.570007  1045.849976  1532600   \n",
       " 2019-01-03  1056.979980  1014.070007  1041.000000  1016.059998  1841100   \n",
       " 2019-01-04  1070.839966  1027.417969  1032.589966  1070.709961  2093900   \n",
       " 2019-01-07  1074.000000  1054.760010  1071.500000  1068.390015  1981900   \n",
       " 2019-01-08  1084.560059  1060.530029  1076.109985  1076.280029  1764900   \n",
       " 2019-01-09  1082.630005  1066.400024  1081.650024  1074.660034  1199300   \n",
       " 2019-01-10  1071.150024  1057.709961  1067.660034  1070.329956  1456400   \n",
       " 2019-01-11  1063.775024  1048.479980  1063.180054  1057.189941  1520800   \n",
       " 2019-01-14  1051.530029  1041.255005  1046.920044  1044.689941  1144300   \n",
       " 2019-01-15  1080.050049  1047.339966  1050.170044  1077.150024  1463600   \n",
       " 2019-01-16  1092.375000  1079.339966  1080.000000  1080.969971  1331800   \n",
       " 2019-01-17  1091.800049  1073.500000  1079.469971  1089.900024  1242700   \n",
       " 2019-01-18  1108.352051  1090.900024  1100.000000  1098.260010  1955600   \n",
       " 2019-01-22  1091.510010  1063.469971  1088.000000  1070.520020  1613500   \n",
       " 2019-01-23  1084.930054  1059.750000  1077.349976  1075.569946   967000   \n",
       " 2019-01-24  1079.474976  1060.699951  1076.479980  1073.900024  1361300   \n",
       " 2019-01-25  1094.000000  1081.819946  1085.000000  1090.989990  1119100   \n",
       " 2019-01-28  1083.000000  1063.800049  1080.109985  1070.079956  1284300   \n",
       " 2019-01-29  1075.150024  1055.864990  1072.680054  1060.619995  1021800   \n",
       " 2019-01-30  1091.000000  1066.849976  1068.430054  1089.060059  1279800   \n",
       " 2019-01-31  1117.329956  1095.410034  1103.000000  1116.369995  1538300   \n",
       " 2019-02-01  1125.000000  1104.890015  1112.400024  1110.750000  1462200   \n",
       " 2019-02-04  1132.800049  1109.020020  1112.660034  1132.800049  2576500   \n",
       " 2019-02-05  1146.849976  1117.248047  1124.839966  1145.989990  3552200   \n",
       " 2019-02-06  1147.000000  1112.770020  1139.569946  1115.229980  2105600   \n",
       " 2019-02-07  1104.839966  1086.000000  1104.160034  1098.709961  2044800   \n",
       " 2019-02-08  1098.910034  1086.550049  1087.000000  1095.060059  1075800   \n",
       " 2019-02-11  1105.944946  1092.859985  1096.949951  1095.010010  1065200   \n",
       " 2019-02-12  1125.295044  1105.849976  1106.800049  1121.369995  1609100   \n",
       " 2019-02-13  1134.729980  1118.500000  1124.989990  1120.160034  1048800   \n",
       " 2019-02-14  1128.229980  1110.959961  1118.050049  1121.670044   945846   \n",
       " \n",
       "               Adj Close  \n",
       " Date                     \n",
       " 2019-01-02  1045.849976  \n",
       " 2019-01-03  1016.059998  \n",
       " 2019-01-04  1070.709961  \n",
       " 2019-01-07  1068.390015  \n",
       " 2019-01-08  1076.280029  \n",
       " 2019-01-09  1074.660034  \n",
       " 2019-01-10  1070.329956  \n",
       " 2019-01-11  1057.189941  \n",
       " 2019-01-14  1044.689941  \n",
       " 2019-01-15  1077.150024  \n",
       " 2019-01-16  1080.969971  \n",
       " 2019-01-17  1089.900024  \n",
       " 2019-01-18  1098.260010  \n",
       " 2019-01-22  1070.520020  \n",
       " 2019-01-23  1075.569946  \n",
       " 2019-01-24  1073.900024  \n",
       " 2019-01-25  1090.989990  \n",
       " 2019-01-28  1070.079956  \n",
       " 2019-01-29  1060.619995  \n",
       " 2019-01-30  1089.060059  \n",
       " 2019-01-31  1116.369995  \n",
       " 2019-02-01  1110.750000  \n",
       " 2019-02-04  1132.800049  \n",
       " 2019-02-05  1145.989990  \n",
       " 2019-02-06  1115.229980  \n",
       " 2019-02-07  1098.709961  \n",
       " 2019-02-08  1095.060059  \n",
       " 2019-02-11  1095.010010  \n",
       " 2019-02-12  1121.369995  \n",
       " 2019-02-13  1120.160034  \n",
       " 2019-02-14  1121.670044  }"
      ]
     },
     "execution_count": 79,
     "metadata": {},
     "output_type": "execute_result"
    }
   ],
   "source": [
    "all_data"
   ]
  },
  {
   "cell_type": "code",
   "execution_count": null,
   "metadata": {},
   "outputs": [],
   "source": [
    "type(all_data)"
   ]
  },
  {
   "cell_type": "code",
   "execution_count": 80,
   "metadata": {},
   "outputs": [
    {
     "data": {
      "text/plain": [
       "dict_keys(['AAPL', 'IBM', 'MSFT', 'GOOG'])"
      ]
     },
     "execution_count": 80,
     "metadata": {},
     "output_type": "execute_result"
    }
   ],
   "source": [
    "all_data.keys()"
   ]
  },
  {
   "cell_type": "code",
   "execution_count": 81,
   "metadata": {},
   "outputs": [],
   "source": [
    "dprice = {ticker: data['Adj Close'] for ticker, data in all_data.items()}"
   ]
  },
  {
   "cell_type": "code",
   "execution_count": 82,
   "metadata": {},
   "outputs": [],
   "source": [
    "price = pd.DataFrame(dprice)"
   ]
  },
  {
   "cell_type": "code",
   "execution_count": 83,
   "metadata": {},
   "outputs": [],
   "source": [
    "volume = pd.DataFrame({ticker: data['Volume']\n",
    "                      for ticker, data in all_data.items()})"
   ]
  },
  {
   "cell_type": "code",
   "execution_count": 84,
   "metadata": {},
   "outputs": [
    {
     "data": {
      "text/html": [
       "<div>\n",
       "<style scoped>\n",
       "    .dataframe tbody tr th:only-of-type {\n",
       "        vertical-align: middle;\n",
       "    }\n",
       "\n",
       "    .dataframe tbody tr th {\n",
       "        vertical-align: top;\n",
       "    }\n",
       "\n",
       "    .dataframe thead th {\n",
       "        text-align: right;\n",
       "    }\n",
       "</style>\n",
       "<table border=\"1\" class=\"dataframe\">\n",
       "  <thead>\n",
       "    <tr style=\"text-align: right;\">\n",
       "      <th></th>\n",
       "      <th>AAPL</th>\n",
       "      <th>IBM</th>\n",
       "      <th>MSFT</th>\n",
       "      <th>GOOG</th>\n",
       "    </tr>\n",
       "    <tr>\n",
       "      <th>Date</th>\n",
       "      <th></th>\n",
       "      <th></th>\n",
       "      <th></th>\n",
       "      <th></th>\n",
       "    </tr>\n",
       "  </thead>\n",
       "  <tbody>\n",
       "    <tr>\n",
       "      <th>2019-01-02</th>\n",
       "      <td>157.245605</td>\n",
       "      <td>113.883118</td>\n",
       "      <td>101.120003</td>\n",
       "      <td>1045.849976</td>\n",
       "    </tr>\n",
       "    <tr>\n",
       "      <th>2019-01-03</th>\n",
       "      <td>141.582779</td>\n",
       "      <td>111.609612</td>\n",
       "      <td>97.400002</td>\n",
       "      <td>1016.059998</td>\n",
       "    </tr>\n",
       "    <tr>\n",
       "      <th>2019-01-04</th>\n",
       "      <td>147.626846</td>\n",
       "      <td>115.968819</td>\n",
       "      <td>101.930000</td>\n",
       "      <td>1070.709961</td>\n",
       "    </tr>\n",
       "    <tr>\n",
       "      <th>2019-01-07</th>\n",
       "      <td>147.298264</td>\n",
       "      <td>116.789261</td>\n",
       "      <td>102.059998</td>\n",
       "      <td>1068.390015</td>\n",
       "    </tr>\n",
       "    <tr>\n",
       "      <th>2019-01-08</th>\n",
       "      <td>150.106216</td>\n",
       "      <td>118.449913</td>\n",
       "      <td>102.800003</td>\n",
       "      <td>1076.280029</td>\n",
       "    </tr>\n",
       "    <tr>\n",
       "      <th>2019-01-09</th>\n",
       "      <td>152.655289</td>\n",
       "      <td>119.300011</td>\n",
       "      <td>104.269997</td>\n",
       "      <td>1074.660034</td>\n",
       "    </tr>\n",
       "    <tr>\n",
       "      <th>2019-01-10</th>\n",
       "      <td>153.143204</td>\n",
       "      <td>120.387337</td>\n",
       "      <td>103.599998</td>\n",
       "      <td>1070.329956</td>\n",
       "    </tr>\n",
       "    <tr>\n",
       "      <th>2019-01-11</th>\n",
       "      <td>151.639633</td>\n",
       "      <td>120.061142</td>\n",
       "      <td>102.800003</td>\n",
       "      <td>1057.189941</td>\n",
       "    </tr>\n",
       "    <tr>\n",
       "      <th>2019-01-14</th>\n",
       "      <td>149.359421</td>\n",
       "      <td>119.003464</td>\n",
       "      <td>102.050003</td>\n",
       "      <td>1044.689941</td>\n",
       "    </tr>\n",
       "    <tr>\n",
       "      <th>2019-01-15</th>\n",
       "      <td>152.416321</td>\n",
       "      <td>120.328033</td>\n",
       "      <td>105.010002</td>\n",
       "      <td>1077.150024</td>\n",
       "    </tr>\n",
       "    <tr>\n",
       "      <th>2019-01-16</th>\n",
       "      <td>154.278336</td>\n",
       "      <td>120.219299</td>\n",
       "      <td>105.379997</td>\n",
       "      <td>1080.969971</td>\n",
       "    </tr>\n",
       "    <tr>\n",
       "      <th>2019-01-17</th>\n",
       "      <td>155.194397</td>\n",
       "      <td>120.782738</td>\n",
       "      <td>106.120003</td>\n",
       "      <td>1089.900024</td>\n",
       "    </tr>\n",
       "    <tr>\n",
       "      <th>2019-01-18</th>\n",
       "      <td>156.150314</td>\n",
       "      <td>122.393959</td>\n",
       "      <td>107.709999</td>\n",
       "      <td>1098.260010</td>\n",
       "    </tr>\n",
       "    <tr>\n",
       "      <th>2019-01-22</th>\n",
       "      <td>152.645340</td>\n",
       "      <td>121.108925</td>\n",
       "      <td>105.680000</td>\n",
       "      <td>1070.520020</td>\n",
       "    </tr>\n",
       "    <tr>\n",
       "      <th>2019-01-23</th>\n",
       "      <td>153.262680</td>\n",
       "      <td>131.359497</td>\n",
       "      <td>106.709999</td>\n",
       "      <td>1075.569946</td>\n",
       "    </tr>\n",
       "    <tr>\n",
       "      <th>2019-01-24</th>\n",
       "      <td>152.047897</td>\n",
       "      <td>131.003647</td>\n",
       "      <td>106.199997</td>\n",
       "      <td>1073.900024</td>\n",
       "    </tr>\n",
       "    <tr>\n",
       "      <th>2019-01-25</th>\n",
       "      <td>157.086288</td>\n",
       "      <td>132.427063</td>\n",
       "      <td>107.169998</td>\n",
       "      <td>1090.989990</td>\n",
       "    </tr>\n",
       "    <tr>\n",
       "      <th>2019-01-28</th>\n",
       "      <td>155.632523</td>\n",
       "      <td>132.723618</td>\n",
       "      <td>105.080002</td>\n",
       "      <td>1070.079956</td>\n",
       "    </tr>\n",
       "    <tr>\n",
       "      <th>2019-01-29</th>\n",
       "      <td>154.019440</td>\n",
       "      <td>132.782913</td>\n",
       "      <td>102.940002</td>\n",
       "      <td>1060.619995</td>\n",
       "    </tr>\n",
       "    <tr>\n",
       "      <th>2019-01-30</th>\n",
       "      <td>164.544296</td>\n",
       "      <td>132.832336</td>\n",
       "      <td>106.379997</td>\n",
       "      <td>1089.060059</td>\n",
       "    </tr>\n",
       "    <tr>\n",
       "      <th>2019-01-31</th>\n",
       "      <td>165.729218</td>\n",
       "      <td>132.871872</td>\n",
       "      <td>104.430000</td>\n",
       "      <td>1116.369995</td>\n",
       "    </tr>\n",
       "    <tr>\n",
       "      <th>2019-02-01</th>\n",
       "      <td>165.808884</td>\n",
       "      <td>132.555573</td>\n",
       "      <td>102.779999</td>\n",
       "      <td>1110.750000</td>\n",
       "    </tr>\n",
       "    <tr>\n",
       "      <th>2019-02-04</th>\n",
       "      <td>170.518677</td>\n",
       "      <td>133.633011</td>\n",
       "      <td>105.739998</td>\n",
       "      <td>1132.800049</td>\n",
       "    </tr>\n",
       "    <tr>\n",
       "      <th>2019-02-05</th>\n",
       "      <td>173.436157</td>\n",
       "      <td>133.988861</td>\n",
       "      <td>107.220001</td>\n",
       "      <td>1145.989990</td>\n",
       "    </tr>\n",
       "    <tr>\n",
       "      <th>2019-02-06</th>\n",
       "      <td>173.495911</td>\n",
       "      <td>134.750000</td>\n",
       "      <td>106.029999</td>\n",
       "      <td>1115.229980</td>\n",
       "    </tr>\n",
       "    <tr>\n",
       "      <th>2019-02-07</th>\n",
       "      <td>170.210007</td>\n",
       "      <td>133.190002</td>\n",
       "      <td>105.269997</td>\n",
       "      <td>1098.709961</td>\n",
       "    </tr>\n",
       "    <tr>\n",
       "      <th>2019-02-08</th>\n",
       "      <td>170.410004</td>\n",
       "      <td>133.710007</td>\n",
       "      <td>105.669998</td>\n",
       "      <td>1095.060059</td>\n",
       "    </tr>\n",
       "    <tr>\n",
       "      <th>2019-02-11</th>\n",
       "      <td>169.429993</td>\n",
       "      <td>133.990005</td>\n",
       "      <td>105.250000</td>\n",
       "      <td>1095.010010</td>\n",
       "    </tr>\n",
       "    <tr>\n",
       "      <th>2019-02-12</th>\n",
       "      <td>170.889999</td>\n",
       "      <td>136.050003</td>\n",
       "      <td>106.889999</td>\n",
       "      <td>1121.369995</td>\n",
       "    </tr>\n",
       "    <tr>\n",
       "      <th>2019-02-13</th>\n",
       "      <td>170.179993</td>\n",
       "      <td>137.520004</td>\n",
       "      <td>106.809998</td>\n",
       "      <td>1120.160034</td>\n",
       "    </tr>\n",
       "    <tr>\n",
       "      <th>2019-02-14</th>\n",
       "      <td>170.800003</td>\n",
       "      <td>136.479996</td>\n",
       "      <td>106.900002</td>\n",
       "      <td>1121.670044</td>\n",
       "    </tr>\n",
       "  </tbody>\n",
       "</table>\n",
       "</div>"
      ],
      "text/plain": [
       "                  AAPL         IBM        MSFT         GOOG\n",
       "Date                                                       \n",
       "2019-01-02  157.245605  113.883118  101.120003  1045.849976\n",
       "2019-01-03  141.582779  111.609612   97.400002  1016.059998\n",
       "2019-01-04  147.626846  115.968819  101.930000  1070.709961\n",
       "2019-01-07  147.298264  116.789261  102.059998  1068.390015\n",
       "2019-01-08  150.106216  118.449913  102.800003  1076.280029\n",
       "2019-01-09  152.655289  119.300011  104.269997  1074.660034\n",
       "2019-01-10  153.143204  120.387337  103.599998  1070.329956\n",
       "2019-01-11  151.639633  120.061142  102.800003  1057.189941\n",
       "2019-01-14  149.359421  119.003464  102.050003  1044.689941\n",
       "2019-01-15  152.416321  120.328033  105.010002  1077.150024\n",
       "2019-01-16  154.278336  120.219299  105.379997  1080.969971\n",
       "2019-01-17  155.194397  120.782738  106.120003  1089.900024\n",
       "2019-01-18  156.150314  122.393959  107.709999  1098.260010\n",
       "2019-01-22  152.645340  121.108925  105.680000  1070.520020\n",
       "2019-01-23  153.262680  131.359497  106.709999  1075.569946\n",
       "2019-01-24  152.047897  131.003647  106.199997  1073.900024\n",
       "2019-01-25  157.086288  132.427063  107.169998  1090.989990\n",
       "2019-01-28  155.632523  132.723618  105.080002  1070.079956\n",
       "2019-01-29  154.019440  132.782913  102.940002  1060.619995\n",
       "2019-01-30  164.544296  132.832336  106.379997  1089.060059\n",
       "2019-01-31  165.729218  132.871872  104.430000  1116.369995\n",
       "2019-02-01  165.808884  132.555573  102.779999  1110.750000\n",
       "2019-02-04  170.518677  133.633011  105.739998  1132.800049\n",
       "2019-02-05  173.436157  133.988861  107.220001  1145.989990\n",
       "2019-02-06  173.495911  134.750000  106.029999  1115.229980\n",
       "2019-02-07  170.210007  133.190002  105.269997  1098.709961\n",
       "2019-02-08  170.410004  133.710007  105.669998  1095.060059\n",
       "2019-02-11  169.429993  133.990005  105.250000  1095.010010\n",
       "2019-02-12  170.889999  136.050003  106.889999  1121.369995\n",
       "2019-02-13  170.179993  137.520004  106.809998  1120.160034\n",
       "2019-02-14  170.800003  136.479996  106.900002  1121.670044"
      ]
     },
     "execution_count": 84,
     "metadata": {},
     "output_type": "execute_result"
    }
   ],
   "source": [
    "price"
   ]
  },
  {
   "cell_type": "markdown",
   "metadata": {},
   "source": [
    "###  One Period Simple Gross Return for a stock\n",
    "\n",
    "<i>Defnition: </i>Let $S_{i-1}$ and $S_i$  be the price of a stock at time $t_{i-1}$ and $t_i$ respectively. Then a return $r_i$ for an asset at time $t_i$ for one unit of time is given by:\n",
    "\\begin{equation*}\n",
    "r_i = \\frac{S_i - S_{i-1}}{S_{i-1}}\n",
    "\\end{equation*}\n",
    "A simple gross return for one period is given by:\n",
    "\n",
    "$$ (1 + r_i) = \\frac{S_i}{S_{i-1}}$$\n",
    "Example: \n",
    "\\begin{eqnarray*}\n",
    "S_{i-1} & = & 10 \\\\\n",
    "S_{i} & = & 15 \\\\\n",
    "r_i & = & \\frac{15-10}{10} = 0.50\n",
    "\\end{eqnarray*}\n",
    "Asset has a  return of $50\\%$ at time $t_i$ for one unit of time, and a simple gross return of $1.50$\n",
    "\n",
    "###  Multiperiod Simple Gross Return for a stock\n",
    "If we hold the stock  for k periods, say from time $t_1$ to $t_{k+1}$ then the $k$-period simple <b>gross</b> return at $t_{k+1}$  is given by:\n",
    "\n",
    "\\begin{eqnarray*}\n",
    "1+r_{k+1}^k & = &  \\frac{S_{k+1}}{S_{1}}    \\\\\n",
    "  & =  &   \\frac{S_{k+1}}{S_{k}} \\times \\frac{S_{k}}{S_{k-1}} \\times \\ldots \\frac{S_{2}}{S_{1}} \\\\\n",
    "  & =  &  (1+r_{k+1}) (1+r_{k}) \\ldots (1+r_2)  \\\\\n",
    "  & =  &  \\prod_{j=1}^{k} (1+r_{j+1})\n",
    "\\end{eqnarray*}\n",
    "\n",
    "In other words, the $k$-period simple gross return is just the product of $k$ one-period gross returns involved.\n"
   ]
  },
  {
   "cell_type": "code",
   "execution_count": 85,
   "metadata": {},
   "outputs": [
    {
     "data": {
      "text/html": [
       "<div>\n",
       "<style scoped>\n",
       "    .dataframe tbody tr th:only-of-type {\n",
       "        vertical-align: middle;\n",
       "    }\n",
       "\n",
       "    .dataframe tbody tr th {\n",
       "        vertical-align: top;\n",
       "    }\n",
       "\n",
       "    .dataframe thead th {\n",
       "        text-align: right;\n",
       "    }\n",
       "</style>\n",
       "<table border=\"1\" class=\"dataframe\">\n",
       "  <thead>\n",
       "    <tr style=\"text-align: right;\">\n",
       "      <th></th>\n",
       "      <th>AAPL</th>\n",
       "      <th>IBM</th>\n",
       "      <th>MSFT</th>\n",
       "      <th>GOOG</th>\n",
       "    </tr>\n",
       "    <tr>\n",
       "      <th>Date</th>\n",
       "      <th></th>\n",
       "      <th></th>\n",
       "      <th></th>\n",
       "      <th></th>\n",
       "    </tr>\n",
       "  </thead>\n",
       "  <tbody>\n",
       "    <tr>\n",
       "      <th>2019-01-02</th>\n",
       "      <td>NaN</td>\n",
       "      <td>NaN</td>\n",
       "      <td>NaN</td>\n",
       "      <td>NaN</td>\n",
       "    </tr>\n",
       "    <tr>\n",
       "      <th>2019-01-03</th>\n",
       "      <td>-0.099607</td>\n",
       "      <td>-0.019964</td>\n",
       "      <td>-0.036788</td>\n",
       "      <td>-0.028484</td>\n",
       "    </tr>\n",
       "    <tr>\n",
       "      <th>2019-01-04</th>\n",
       "      <td>0.042689</td>\n",
       "      <td>0.039058</td>\n",
       "      <td>0.046509</td>\n",
       "      <td>0.053786</td>\n",
       "    </tr>\n",
       "    <tr>\n",
       "      <th>2019-01-07</th>\n",
       "      <td>-0.002226</td>\n",
       "      <td>0.007075</td>\n",
       "      <td>0.001275</td>\n",
       "      <td>-0.002167</td>\n",
       "    </tr>\n",
       "    <tr>\n",
       "      <th>2019-01-08</th>\n",
       "      <td>0.019063</td>\n",
       "      <td>0.014219</td>\n",
       "      <td>0.007251</td>\n",
       "      <td>0.007385</td>\n",
       "    </tr>\n",
       "    <tr>\n",
       "      <th>2019-01-09</th>\n",
       "      <td>0.016982</td>\n",
       "      <td>0.007177</td>\n",
       "      <td>0.014300</td>\n",
       "      <td>-0.001505</td>\n",
       "    </tr>\n",
       "    <tr>\n",
       "      <th>2019-01-10</th>\n",
       "      <td>0.003196</td>\n",
       "      <td>0.009114</td>\n",
       "      <td>-0.006426</td>\n",
       "      <td>-0.004029</td>\n",
       "    </tr>\n",
       "    <tr>\n",
       "      <th>2019-01-11</th>\n",
       "      <td>-0.009818</td>\n",
       "      <td>-0.002710</td>\n",
       "      <td>-0.007722</td>\n",
       "      <td>-0.012277</td>\n",
       "    </tr>\n",
       "    <tr>\n",
       "      <th>2019-01-14</th>\n",
       "      <td>-0.015037</td>\n",
       "      <td>-0.008809</td>\n",
       "      <td>-0.007296</td>\n",
       "      <td>-0.011824</td>\n",
       "    </tr>\n",
       "    <tr>\n",
       "      <th>2019-01-15</th>\n",
       "      <td>0.020467</td>\n",
       "      <td>0.011131</td>\n",
       "      <td>0.029005</td>\n",
       "      <td>0.031071</td>\n",
       "    </tr>\n",
       "    <tr>\n",
       "      <th>2019-01-16</th>\n",
       "      <td>0.012217</td>\n",
       "      <td>-0.000904</td>\n",
       "      <td>0.003523</td>\n",
       "      <td>0.003546</td>\n",
       "    </tr>\n",
       "    <tr>\n",
       "      <th>2019-01-17</th>\n",
       "      <td>0.005938</td>\n",
       "      <td>0.004687</td>\n",
       "      <td>0.007022</td>\n",
       "      <td>0.008261</td>\n",
       "    </tr>\n",
       "    <tr>\n",
       "      <th>2019-01-18</th>\n",
       "      <td>0.006159</td>\n",
       "      <td>0.013340</td>\n",
       "      <td>0.014983</td>\n",
       "      <td>0.007670</td>\n",
       "    </tr>\n",
       "    <tr>\n",
       "      <th>2019-01-22</th>\n",
       "      <td>-0.022446</td>\n",
       "      <td>-0.010499</td>\n",
       "      <td>-0.018847</td>\n",
       "      <td>-0.025258</td>\n",
       "    </tr>\n",
       "    <tr>\n",
       "      <th>2019-01-23</th>\n",
       "      <td>0.004044</td>\n",
       "      <td>0.084639</td>\n",
       "      <td>0.009746</td>\n",
       "      <td>0.004717</td>\n",
       "    </tr>\n",
       "    <tr>\n",
       "      <th>2019-01-24</th>\n",
       "      <td>-0.007926</td>\n",
       "      <td>-0.002709</td>\n",
       "      <td>-0.004779</td>\n",
       "      <td>-0.001553</td>\n",
       "    </tr>\n",
       "    <tr>\n",
       "      <th>2019-01-25</th>\n",
       "      <td>0.033137</td>\n",
       "      <td>0.010865</td>\n",
       "      <td>0.009134</td>\n",
       "      <td>0.015914</td>\n",
       "    </tr>\n",
       "    <tr>\n",
       "      <th>2019-01-28</th>\n",
       "      <td>-0.009255</td>\n",
       "      <td>0.002239</td>\n",
       "      <td>-0.019502</td>\n",
       "      <td>-0.019166</td>\n",
       "    </tr>\n",
       "    <tr>\n",
       "      <th>2019-01-29</th>\n",
       "      <td>-0.010365</td>\n",
       "      <td>0.000447</td>\n",
       "      <td>-0.020365</td>\n",
       "      <td>-0.008840</td>\n",
       "    </tr>\n",
       "    <tr>\n",
       "      <th>2019-01-30</th>\n",
       "      <td>0.068335</td>\n",
       "      <td>0.000372</td>\n",
       "      <td>0.033417</td>\n",
       "      <td>0.026815</td>\n",
       "    </tr>\n",
       "    <tr>\n",
       "      <th>2019-01-31</th>\n",
       "      <td>0.007201</td>\n",
       "      <td>0.000298</td>\n",
       "      <td>-0.018330</td>\n",
       "      <td>0.025077</td>\n",
       "    </tr>\n",
       "    <tr>\n",
       "      <th>2019-02-01</th>\n",
       "      <td>0.000481</td>\n",
       "      <td>-0.002380</td>\n",
       "      <td>-0.015800</td>\n",
       "      <td>-0.005034</td>\n",
       "    </tr>\n",
       "    <tr>\n",
       "      <th>2019-02-04</th>\n",
       "      <td>0.028405</td>\n",
       "      <td>0.008128</td>\n",
       "      <td>0.028799</td>\n",
       "      <td>0.019851</td>\n",
       "    </tr>\n",
       "    <tr>\n",
       "      <th>2019-02-05</th>\n",
       "      <td>0.017109</td>\n",
       "      <td>0.002663</td>\n",
       "      <td>0.013997</td>\n",
       "      <td>0.011644</td>\n",
       "    </tr>\n",
       "    <tr>\n",
       "      <th>2019-02-06</th>\n",
       "      <td>0.000345</td>\n",
       "      <td>0.005681</td>\n",
       "      <td>-0.011099</td>\n",
       "      <td>-0.026841</td>\n",
       "    </tr>\n",
       "    <tr>\n",
       "      <th>2019-02-07</th>\n",
       "      <td>-0.018939</td>\n",
       "      <td>-0.011577</td>\n",
       "      <td>-0.007168</td>\n",
       "      <td>-0.014813</td>\n",
       "    </tr>\n",
       "    <tr>\n",
       "      <th>2019-02-08</th>\n",
       "      <td>0.001175</td>\n",
       "      <td>0.003904</td>\n",
       "      <td>0.003800</td>\n",
       "      <td>-0.003322</td>\n",
       "    </tr>\n",
       "    <tr>\n",
       "      <th>2019-02-11</th>\n",
       "      <td>-0.005751</td>\n",
       "      <td>0.002094</td>\n",
       "      <td>-0.003975</td>\n",
       "      <td>-0.000046</td>\n",
       "    </tr>\n",
       "    <tr>\n",
       "      <th>2019-02-12</th>\n",
       "      <td>0.008617</td>\n",
       "      <td>0.015374</td>\n",
       "      <td>0.015582</td>\n",
       "      <td>0.024073</td>\n",
       "    </tr>\n",
       "    <tr>\n",
       "      <th>2019-02-13</th>\n",
       "      <td>-0.004155</td>\n",
       "      <td>0.010805</td>\n",
       "      <td>-0.000748</td>\n",
       "      <td>-0.001079</td>\n",
       "    </tr>\n",
       "    <tr>\n",
       "      <th>2019-02-14</th>\n",
       "      <td>0.003643</td>\n",
       "      <td>-0.007563</td>\n",
       "      <td>0.000843</td>\n",
       "      <td>0.001348</td>\n",
       "    </tr>\n",
       "  </tbody>\n",
       "</table>\n",
       "</div>"
      ],
      "text/plain": [
       "                AAPL       IBM      MSFT      GOOG\n",
       "Date                                              \n",
       "2019-01-02       NaN       NaN       NaN       NaN\n",
       "2019-01-03 -0.099607 -0.019964 -0.036788 -0.028484\n",
       "2019-01-04  0.042689  0.039058  0.046509  0.053786\n",
       "2019-01-07 -0.002226  0.007075  0.001275 -0.002167\n",
       "2019-01-08  0.019063  0.014219  0.007251  0.007385\n",
       "2019-01-09  0.016982  0.007177  0.014300 -0.001505\n",
       "2019-01-10  0.003196  0.009114 -0.006426 -0.004029\n",
       "2019-01-11 -0.009818 -0.002710 -0.007722 -0.012277\n",
       "2019-01-14 -0.015037 -0.008809 -0.007296 -0.011824\n",
       "2019-01-15  0.020467  0.011131  0.029005  0.031071\n",
       "2019-01-16  0.012217 -0.000904  0.003523  0.003546\n",
       "2019-01-17  0.005938  0.004687  0.007022  0.008261\n",
       "2019-01-18  0.006159  0.013340  0.014983  0.007670\n",
       "2019-01-22 -0.022446 -0.010499 -0.018847 -0.025258\n",
       "2019-01-23  0.004044  0.084639  0.009746  0.004717\n",
       "2019-01-24 -0.007926 -0.002709 -0.004779 -0.001553\n",
       "2019-01-25  0.033137  0.010865  0.009134  0.015914\n",
       "2019-01-28 -0.009255  0.002239 -0.019502 -0.019166\n",
       "2019-01-29 -0.010365  0.000447 -0.020365 -0.008840\n",
       "2019-01-30  0.068335  0.000372  0.033417  0.026815\n",
       "2019-01-31  0.007201  0.000298 -0.018330  0.025077\n",
       "2019-02-01  0.000481 -0.002380 -0.015800 -0.005034\n",
       "2019-02-04  0.028405  0.008128  0.028799  0.019851\n",
       "2019-02-05  0.017109  0.002663  0.013997  0.011644\n",
       "2019-02-06  0.000345  0.005681 -0.011099 -0.026841\n",
       "2019-02-07 -0.018939 -0.011577 -0.007168 -0.014813\n",
       "2019-02-08  0.001175  0.003904  0.003800 -0.003322\n",
       "2019-02-11 -0.005751  0.002094 -0.003975 -0.000046\n",
       "2019-02-12  0.008617  0.015374  0.015582  0.024073\n",
       "2019-02-13 -0.004155  0.010805 -0.000748 -0.001079\n",
       "2019-02-14  0.003643 -0.007563  0.000843  0.001348"
      ]
     },
     "execution_count": 85,
     "metadata": {},
     "output_type": "execute_result"
    }
   ],
   "source": [
    "returns = price.pct_change()\n",
    "returns"
   ]
  },
  {
   "cell_type": "code",
   "execution_count": 86,
   "metadata": {},
   "outputs": [
    {
     "name": "stdout",
     "output_type": "stream",
     "text": [
      "                AAPL       IBM      MSFT      GOOG\n",
      "Date                                              \n",
      "2019-01-02       NaN       NaN       NaN       NaN\n",
      "2019-01-03  0.900393  0.980036  0.963212  0.971516\n",
      "2019-01-04  1.042689  1.039058  1.046509  1.053786\n",
      "2019-01-07  0.997774  1.007075  1.001275  0.997833\n",
      "2019-01-08  1.019063  1.014219  1.007251  1.007385\n",
      "2019-01-09  1.016982  1.007177  1.014300  0.998495\n",
      "2019-01-10  1.003196  1.009114  0.993574  0.995971\n",
      "2019-01-11  0.990182  0.997290  0.992278  0.987723\n",
      "2019-01-14  0.984963  0.991191  0.992704  0.988176\n",
      "2019-01-15  1.020467  1.011131  1.029005  1.031071\n",
      "2019-01-16  1.012217  0.999096  1.003523  1.003546\n",
      "2019-01-17  1.005938  1.004687  1.007022  1.008261\n",
      "2019-01-18  1.006159  1.013340  1.014983  1.007670\n",
      "2019-01-22  0.977554  0.989501  0.981153  0.974742\n",
      "2019-01-23  1.004044  1.084639  1.009746  1.004717\n",
      "2019-01-24  0.992074  0.997291  0.995221  0.998447\n",
      "2019-01-25  1.033137  1.010865  1.009134  1.015914\n",
      "2019-01-28  0.990745  1.002239  0.980498  0.980834\n",
      "2019-01-29  0.989635  1.000447  0.979635  0.991160\n",
      "2019-01-30  1.068335  1.000372  1.033417  1.026815\n",
      "2019-01-31  1.007201  1.000298  0.981670  1.025077\n",
      "2019-02-01  1.000481  0.997620  0.984200  0.994966\n",
      "2019-02-04  1.028405  1.008128  1.028799  1.019851\n",
      "2019-02-05  1.017109  1.002663  1.013997  1.011644\n",
      "2019-02-06  1.000345  1.005681  0.988901  0.973159\n",
      "2019-02-07  0.981061  0.988423  0.992832  0.985187\n",
      "2019-02-08  1.001175  1.003904  1.003800  0.996678\n",
      "2019-02-11  0.994249  1.002094  0.996025  0.999954\n",
      "2019-02-12  1.008617  1.015374  1.015582  1.024073\n",
      "2019-02-13  0.995845  1.010805  0.999252  0.998921\n",
      "2019-02-14  1.003643  0.992437  1.000843  1.001348\n"
     ]
    }
   ],
   "source": [
    "rgross = returns + 1.0 \n",
    "print (rgross)"
   ]
  },
  {
   "cell_type": "code",
   "execution_count": 87,
   "metadata": {},
   "outputs": [
    {
     "name": "stdout",
     "output_type": "stream",
     "text": [
      "                AAPL       IBM      MSFT      GOOG\n",
      "Date                                              \n",
      "2019-01-02  1.000000  1.000000  1.000000  1.000000\n",
      "2019-01-03  0.900393  0.980036  0.963212  0.971516\n",
      "2019-01-04  1.042689  1.039058  1.046509  1.053786\n",
      "2019-01-07  0.997774  1.007075  1.001275  0.997833\n",
      "2019-01-08  1.019063  1.014219  1.007251  1.007385\n",
      "2019-01-09  1.016982  1.007177  1.014300  0.998495\n",
      "2019-01-10  1.003196  1.009114  0.993574  0.995971\n",
      "2019-01-11  0.990182  0.997290  0.992278  0.987723\n",
      "2019-01-14  0.984963  0.991191  0.992704  0.988176\n",
      "2019-01-15  1.020467  1.011131  1.029005  1.031071\n",
      "2019-01-16  1.012217  0.999096  1.003523  1.003546\n",
      "2019-01-17  1.005938  1.004687  1.007022  1.008261\n",
      "2019-01-18  1.006159  1.013340  1.014983  1.007670\n",
      "2019-01-22  0.977554  0.989501  0.981153  0.974742\n",
      "2019-01-23  1.004044  1.084639  1.009746  1.004717\n",
      "2019-01-24  0.992074  0.997291  0.995221  0.998447\n",
      "2019-01-25  1.033137  1.010865  1.009134  1.015914\n",
      "2019-01-28  0.990745  1.002239  0.980498  0.980834\n",
      "2019-01-29  0.989635  1.000447  0.979635  0.991160\n",
      "2019-01-30  1.068335  1.000372  1.033417  1.026815\n",
      "2019-01-31  1.007201  1.000298  0.981670  1.025077\n",
      "2019-02-01  1.000481  0.997620  0.984200  0.994966\n",
      "2019-02-04  1.028405  1.008128  1.028799  1.019851\n",
      "2019-02-05  1.017109  1.002663  1.013997  1.011644\n",
      "2019-02-06  1.000345  1.005681  0.988901  0.973159\n",
      "2019-02-07  0.981061  0.988423  0.992832  0.985187\n",
      "2019-02-08  1.001175  1.003904  1.003800  0.996678\n",
      "2019-02-11  0.994249  1.002094  0.996025  0.999954\n",
      "2019-02-12  1.008617  1.015374  1.015582  1.024073\n",
      "2019-02-13  0.995845  1.010805  0.999252  0.998921\n",
      "2019-02-14  1.003643  0.992437  1.000843  1.001348\n"
     ]
    }
   ],
   "source": [
    "_ = rgross.fillna(1.0, inplace=True)  # assume the return on the first day was zero\n",
    "print (rgross)"
   ]
  },
  {
   "cell_type": "markdown",
   "metadata": {},
   "source": [
    "<a id='gross_return_plot'></a>\n",
    "#### Gross Return Plot"
   ]
  },
  {
   "cell_type": "code",
   "execution_count": 88,
   "metadata": {},
   "outputs": [
    {
     "data": {
      "text/html": [
       "<div>\n",
       "<style scoped>\n",
       "    .dataframe tbody tr th:only-of-type {\n",
       "        vertical-align: middle;\n",
       "    }\n",
       "\n",
       "    .dataframe tbody tr th {\n",
       "        vertical-align: top;\n",
       "    }\n",
       "\n",
       "    .dataframe thead th {\n",
       "        text-align: right;\n",
       "    }\n",
       "</style>\n",
       "<table border=\"1\" class=\"dataframe\">\n",
       "  <thead>\n",
       "    <tr style=\"text-align: right;\">\n",
       "      <th></th>\n",
       "      <th>AAPL</th>\n",
       "      <th>IBM</th>\n",
       "      <th>MSFT</th>\n",
       "      <th>GOOG</th>\n",
       "    </tr>\n",
       "    <tr>\n",
       "      <th>Date</th>\n",
       "      <th></th>\n",
       "      <th></th>\n",
       "      <th></th>\n",
       "      <th></th>\n",
       "    </tr>\n",
       "  </thead>\n",
       "  <tbody>\n",
       "    <tr>\n",
       "      <th>2019-01-02</th>\n",
       "      <td>1.000000</td>\n",
       "      <td>1.000000</td>\n",
       "      <td>1.000000</td>\n",
       "      <td>1.000000</td>\n",
       "    </tr>\n",
       "    <tr>\n",
       "      <th>2019-01-03</th>\n",
       "      <td>0.900393</td>\n",
       "      <td>0.980036</td>\n",
       "      <td>0.963212</td>\n",
       "      <td>0.971516</td>\n",
       "    </tr>\n",
       "    <tr>\n",
       "      <th>2019-01-04</th>\n",
       "      <td>0.938830</td>\n",
       "      <td>1.018314</td>\n",
       "      <td>1.008010</td>\n",
       "      <td>1.023770</td>\n",
       "    </tr>\n",
       "    <tr>\n",
       "      <th>2019-01-07</th>\n",
       "      <td>0.936740</td>\n",
       "      <td>1.025519</td>\n",
       "      <td>1.009296</td>\n",
       "      <td>1.021552</td>\n",
       "    </tr>\n",
       "    <tr>\n",
       "      <th>2019-01-08</th>\n",
       "      <td>0.954597</td>\n",
       "      <td>1.040101</td>\n",
       "      <td>1.016614</td>\n",
       "      <td>1.029096</td>\n",
       "    </tr>\n",
       "    <tr>\n",
       "      <th>2019-01-09</th>\n",
       "      <td>0.970808</td>\n",
       "      <td>1.047565</td>\n",
       "      <td>1.031151</td>\n",
       "      <td>1.027547</td>\n",
       "    </tr>\n",
       "    <tr>\n",
       "      <th>2019-01-10</th>\n",
       "      <td>0.973911</td>\n",
       "      <td>1.057113</td>\n",
       "      <td>1.024525</td>\n",
       "      <td>1.023407</td>\n",
       "    </tr>\n",
       "    <tr>\n",
       "      <th>2019-01-11</th>\n",
       "      <td>0.964349</td>\n",
       "      <td>1.054249</td>\n",
       "      <td>1.016614</td>\n",
       "      <td>1.010843</td>\n",
       "    </tr>\n",
       "    <tr>\n",
       "      <th>2019-01-14</th>\n",
       "      <td>0.949848</td>\n",
       "      <td>1.044961</td>\n",
       "      <td>1.009197</td>\n",
       "      <td>0.998891</td>\n",
       "    </tr>\n",
       "    <tr>\n",
       "      <th>2019-01-15</th>\n",
       "      <td>0.969288</td>\n",
       "      <td>1.056592</td>\n",
       "      <td>1.038469</td>\n",
       "      <td>1.029928</td>\n",
       "    </tr>\n",
       "    <tr>\n",
       "      <th>2019-01-16</th>\n",
       "      <td>0.981130</td>\n",
       "      <td>1.055638</td>\n",
       "      <td>1.042128</td>\n",
       "      <td>1.033580</td>\n",
       "    </tr>\n",
       "    <tr>\n",
       "      <th>2019-01-17</th>\n",
       "      <td>0.986955</td>\n",
       "      <td>1.060585</td>\n",
       "      <td>1.049446</td>\n",
       "      <td>1.042119</td>\n",
       "    </tr>\n",
       "    <tr>\n",
       "      <th>2019-01-18</th>\n",
       "      <td>0.993035</td>\n",
       "      <td>1.074733</td>\n",
       "      <td>1.065170</td>\n",
       "      <td>1.050112</td>\n",
       "    </tr>\n",
       "    <tr>\n",
       "      <th>2019-01-22</th>\n",
       "      <td>0.970745</td>\n",
       "      <td>1.063449</td>\n",
       "      <td>1.045095</td>\n",
       "      <td>1.023589</td>\n",
       "    </tr>\n",
       "    <tr>\n",
       "      <th>2019-01-23</th>\n",
       "      <td>0.974671</td>\n",
       "      <td>1.153459</td>\n",
       "      <td>1.055281</td>\n",
       "      <td>1.028417</td>\n",
       "    </tr>\n",
       "    <tr>\n",
       "      <th>2019-01-24</th>\n",
       "      <td>0.966945</td>\n",
       "      <td>1.150334</td>\n",
       "      <td>1.050237</td>\n",
       "      <td>1.026820</td>\n",
       "    </tr>\n",
       "    <tr>\n",
       "      <th>2019-01-25</th>\n",
       "      <td>0.998987</td>\n",
       "      <td>1.162833</td>\n",
       "      <td>1.059830</td>\n",
       "      <td>1.043161</td>\n",
       "    </tr>\n",
       "    <tr>\n",
       "      <th>2019-01-28</th>\n",
       "      <td>0.989742</td>\n",
       "      <td>1.165437</td>\n",
       "      <td>1.039161</td>\n",
       "      <td>1.023168</td>\n",
       "    </tr>\n",
       "    <tr>\n",
       "      <th>2019-01-29</th>\n",
       "      <td>0.979483</td>\n",
       "      <td>1.165958</td>\n",
       "      <td>1.017998</td>\n",
       "      <td>1.014123</td>\n",
       "    </tr>\n",
       "    <tr>\n",
       "      <th>2019-01-30</th>\n",
       "      <td>1.046416</td>\n",
       "      <td>1.166392</td>\n",
       "      <td>1.052017</td>\n",
       "      <td>1.041316</td>\n",
       "    </tr>\n",
       "    <tr>\n",
       "      <th>2019-01-31</th>\n",
       "      <td>1.053951</td>\n",
       "      <td>1.166739</td>\n",
       "      <td>1.032733</td>\n",
       "      <td>1.067428</td>\n",
       "    </tr>\n",
       "    <tr>\n",
       "      <th>2019-02-01</th>\n",
       "      <td>1.054458</td>\n",
       "      <td>1.163962</td>\n",
       "      <td>1.016416</td>\n",
       "      <td>1.062055</td>\n",
       "    </tr>\n",
       "    <tr>\n",
       "      <th>2019-02-04</th>\n",
       "      <td>1.084410</td>\n",
       "      <td>1.173422</td>\n",
       "      <td>1.045688</td>\n",
       "      <td>1.083138</td>\n",
       "    </tr>\n",
       "    <tr>\n",
       "      <th>2019-02-05</th>\n",
       "      <td>1.102963</td>\n",
       "      <td>1.176547</td>\n",
       "      <td>1.060324</td>\n",
       "      <td>1.095750</td>\n",
       "    </tr>\n",
       "    <tr>\n",
       "      <th>2019-02-06</th>\n",
       "      <td>1.103343</td>\n",
       "      <td>1.183231</td>\n",
       "      <td>1.048556</td>\n",
       "      <td>1.066338</td>\n",
       "    </tr>\n",
       "    <tr>\n",
       "      <th>2019-02-07</th>\n",
       "      <td>1.082447</td>\n",
       "      <td>1.169532</td>\n",
       "      <td>1.041040</td>\n",
       "      <td>1.050543</td>\n",
       "    </tr>\n",
       "    <tr>\n",
       "      <th>2019-02-08</th>\n",
       "      <td>1.083719</td>\n",
       "      <td>1.174099</td>\n",
       "      <td>1.044996</td>\n",
       "      <td>1.047053</td>\n",
       "    </tr>\n",
       "    <tr>\n",
       "      <th>2019-02-11</th>\n",
       "      <td>1.077486</td>\n",
       "      <td>1.176557</td>\n",
       "      <td>1.040843</td>\n",
       "      <td>1.047005</td>\n",
       "    </tr>\n",
       "    <tr>\n",
       "      <th>2019-02-12</th>\n",
       "      <td>1.086771</td>\n",
       "      <td>1.194646</td>\n",
       "      <td>1.057061</td>\n",
       "      <td>1.072209</td>\n",
       "    </tr>\n",
       "    <tr>\n",
       "      <th>2019-02-13</th>\n",
       "      <td>1.082256</td>\n",
       "      <td>1.207554</td>\n",
       "      <td>1.056270</td>\n",
       "      <td>1.071052</td>\n",
       "    </tr>\n",
       "    <tr>\n",
       "      <th>2019-02-14</th>\n",
       "      <td>1.086199</td>\n",
       "      <td>1.198422</td>\n",
       "      <td>1.057160</td>\n",
       "      <td>1.072496</td>\n",
       "    </tr>\n",
       "  </tbody>\n",
       "</table>\n",
       "</div>"
      ],
      "text/plain": [
       "                AAPL       IBM      MSFT      GOOG\n",
       "Date                                              \n",
       "2019-01-02  1.000000  1.000000  1.000000  1.000000\n",
       "2019-01-03  0.900393  0.980036  0.963212  0.971516\n",
       "2019-01-04  0.938830  1.018314  1.008010  1.023770\n",
       "2019-01-07  0.936740  1.025519  1.009296  1.021552\n",
       "2019-01-08  0.954597  1.040101  1.016614  1.029096\n",
       "2019-01-09  0.970808  1.047565  1.031151  1.027547\n",
       "2019-01-10  0.973911  1.057113  1.024525  1.023407\n",
       "2019-01-11  0.964349  1.054249  1.016614  1.010843\n",
       "2019-01-14  0.949848  1.044961  1.009197  0.998891\n",
       "2019-01-15  0.969288  1.056592  1.038469  1.029928\n",
       "2019-01-16  0.981130  1.055638  1.042128  1.033580\n",
       "2019-01-17  0.986955  1.060585  1.049446  1.042119\n",
       "2019-01-18  0.993035  1.074733  1.065170  1.050112\n",
       "2019-01-22  0.970745  1.063449  1.045095  1.023589\n",
       "2019-01-23  0.974671  1.153459  1.055281  1.028417\n",
       "2019-01-24  0.966945  1.150334  1.050237  1.026820\n",
       "2019-01-25  0.998987  1.162833  1.059830  1.043161\n",
       "2019-01-28  0.989742  1.165437  1.039161  1.023168\n",
       "2019-01-29  0.979483  1.165958  1.017998  1.014123\n",
       "2019-01-30  1.046416  1.166392  1.052017  1.041316\n",
       "2019-01-31  1.053951  1.166739  1.032733  1.067428\n",
       "2019-02-01  1.054458  1.163962  1.016416  1.062055\n",
       "2019-02-04  1.084410  1.173422  1.045688  1.083138\n",
       "2019-02-05  1.102963  1.176547  1.060324  1.095750\n",
       "2019-02-06  1.103343  1.183231  1.048556  1.066338\n",
       "2019-02-07  1.082447  1.169532  1.041040  1.050543\n",
       "2019-02-08  1.083719  1.174099  1.044996  1.047053\n",
       "2019-02-11  1.077486  1.176557  1.040843  1.047005\n",
       "2019-02-12  1.086771  1.194646  1.057061  1.072209\n",
       "2019-02-13  1.082256  1.207554  1.056270  1.071052\n",
       "2019-02-14  1.086199  1.198422  1.057160  1.072496"
      ]
     },
     "execution_count": 88,
     "metadata": {},
     "output_type": "execute_result"
    }
   ],
   "source": [
    "prs = rgross.cumprod()\n",
    "prs"
   ]
  },
  {
   "cell_type": "code",
   "execution_count": 89,
   "metadata": {},
   "outputs": [
    {
     "data": {
      "image/png": "[encoded data removed]",
      "text/plain": [
       "<Figure size 432x288 with 1 Axes>"
      ]
     },
     "metadata": {
      "needs_background": "light"
     },
     "output_type": "display_data"
    }
   ],
   "source": [
    "prs.plot()\n",
    "plt.title('Comparing gross returns for stocks')\n",
    "plt.xlabel('Time')\n",
    "plt.ylabel('Gross Return')\n",
    "plt.legend();\n",
    "plt.show()"
   ]
  },
  {
   "cell_type": "markdown",
   "metadata": {},
   "source": [
    "The cov (corr) method of Series can compute the covariance (coorelation) between the two series (non NaN and aligned-by-index)."
   ]
  },
  {
   "cell_type": "code",
   "execution_count": null,
   "metadata": {},
   "outputs": [],
   "source": [
    "pd.Series.corr?"
   ]
  },
  {
   "cell_type": "code",
   "execution_count": 90,
   "metadata": {},
   "outputs": [
    {
     "data": {
      "text/plain": [
       "0.48358115909430827"
      ]
     },
     "execution_count": 90,
     "metadata": {},
     "output_type": "execute_result"
    }
   ],
   "source": [
    "returns['MSFT'].corr(returns['IBM'])"
   ]
  },
  {
   "cell_type": "code",
   "execution_count": 91,
   "metadata": {},
   "outputs": [
    {
     "data": {
      "text/plain": [
       "0.0001593099538015928"
      ]
     },
     "execution_count": 91,
     "metadata": {},
     "output_type": "execute_result"
    }
   ],
   "source": [
    "returns['MSFT'].cov(returns['IBM'])"
   ]
  },
  {
   "cell_type": "markdown",
   "metadata": {},
   "source": [
    "DataFrame’s corr and cov methods, on the other hand, return a full correlation or covariance matrix as a DataFrame, respectively:"
   ]
  },
  {
   "cell_type": "code",
   "execution_count": null,
   "metadata": {
    "collapsed": true
   },
   "outputs": [],
   "source": [
    "pd.DataFrame.cov?"
   ]
  },
  {
   "cell_type": "code",
   "execution_count": 92,
   "metadata": {},
   "outputs": [
    {
     "data": {
      "text/html": [
       "<div>\n",
       "<style scoped>\n",
       "    .dataframe tbody tr th:only-of-type {\n",
       "        vertical-align: middle;\n",
       "    }\n",
       "\n",
       "    .dataframe tbody tr th {\n",
       "        vertical-align: top;\n",
       "    }\n",
       "\n",
       "    .dataframe thead th {\n",
       "        text-align: right;\n",
       "    }\n",
       "</style>\n",
       "<table border=\"1\" class=\"dataframe\">\n",
       "  <thead>\n",
       "    <tr style=\"text-align: right;\">\n",
       "      <th></th>\n",
       "      <th>AAPL</th>\n",
       "      <th>IBM</th>\n",
       "      <th>MSFT</th>\n",
       "      <th>GOOG</th>\n",
       "    </tr>\n",
       "  </thead>\n",
       "  <tbody>\n",
       "    <tr>\n",
       "      <th>AAPL</th>\n",
       "      <td>0.000734</td>\n",
       "      <td>0.000189</td>\n",
       "      <td>0.000396</td>\n",
       "      <td>0.000370</td>\n",
       "    </tr>\n",
       "    <tr>\n",
       "      <th>IBM</th>\n",
       "      <td>0.000189</td>\n",
       "      <td>0.000333</td>\n",
       "      <td>0.000159</td>\n",
       "      <td>0.000146</td>\n",
       "    </tr>\n",
       "    <tr>\n",
       "      <th>MSFT</th>\n",
       "      <td>0.000396</td>\n",
       "      <td>0.000159</td>\n",
       "      <td>0.000326</td>\n",
       "      <td>0.000275</td>\n",
       "    </tr>\n",
       "    <tr>\n",
       "      <th>GOOG</th>\n",
       "      <td>0.000370</td>\n",
       "      <td>0.000146</td>\n",
       "      <td>0.000275</td>\n",
       "      <td>0.000338</td>\n",
       "    </tr>\n",
       "  </tbody>\n",
       "</table>\n",
       "</div>"
      ],
      "text/plain": [
       "          AAPL       IBM      MSFT      GOOG\n",
       "AAPL  0.000734  0.000189  0.000396  0.000370\n",
       "IBM   0.000189  0.000333  0.000159  0.000146\n",
       "MSFT  0.000396  0.000159  0.000326  0.000275\n",
       "GOOG  0.000370  0.000146  0.000275  0.000338"
      ]
     },
     "execution_count": 92,
     "metadata": {},
     "output_type": "execute_result"
    }
   ],
   "source": [
    "returns.cov()"
   ]
  },
  {
   "cell_type": "code",
   "execution_count": 93,
   "metadata": {},
   "outputs": [
    {
     "data": {
      "text/html": [
       "<div>\n",
       "<style scoped>\n",
       "    .dataframe tbody tr th:only-of-type {\n",
       "        vertical-align: middle;\n",
       "    }\n",
       "\n",
       "    .dataframe tbody tr th {\n",
       "        vertical-align: top;\n",
       "    }\n",
       "\n",
       "    .dataframe thead th {\n",
       "        text-align: right;\n",
       "    }\n",
       "</style>\n",
       "<table border=\"1\" class=\"dataframe\">\n",
       "  <thead>\n",
       "    <tr style=\"text-align: right;\">\n",
       "      <th></th>\n",
       "      <th>AAPL</th>\n",
       "      <th>IBM</th>\n",
       "      <th>MSFT</th>\n",
       "      <th>GOOG</th>\n",
       "    </tr>\n",
       "  </thead>\n",
       "  <tbody>\n",
       "    <tr>\n",
       "      <th>AAPL</th>\n",
       "      <td>1.000000</td>\n",
       "      <td>0.382373</td>\n",
       "      <td>0.808412</td>\n",
       "      <td>0.743765</td>\n",
       "    </tr>\n",
       "    <tr>\n",
       "      <th>IBM</th>\n",
       "      <td>0.382373</td>\n",
       "      <td>1.000000</td>\n",
       "      <td>0.483581</td>\n",
       "      <td>0.436215</td>\n",
       "    </tr>\n",
       "    <tr>\n",
       "      <th>MSFT</th>\n",
       "      <td>0.808412</td>\n",
       "      <td>0.483581</td>\n",
       "      <td>1.000000</td>\n",
       "      <td>0.828047</td>\n",
       "    </tr>\n",
       "    <tr>\n",
       "      <th>GOOG</th>\n",
       "      <td>0.743765</td>\n",
       "      <td>0.436215</td>\n",
       "      <td>0.828047</td>\n",
       "      <td>1.000000</td>\n",
       "    </tr>\n",
       "  </tbody>\n",
       "</table>\n",
       "</div>"
      ],
      "text/plain": [
       "          AAPL       IBM      MSFT      GOOG\n",
       "AAPL  1.000000  0.382373  0.808412  0.743765\n",
       "IBM   0.382373  1.000000  0.483581  0.436215\n",
       "MSFT  0.808412  0.483581  1.000000  0.828047\n",
       "GOOG  0.743765  0.436215  0.828047  1.000000"
      ]
     },
     "execution_count": 93,
     "metadata": {},
     "output_type": "execute_result"
    }
   ],
   "source": [
    "returns.corr()"
   ]
  },
  {
   "cell_type": "code",
   "execution_count": null,
   "metadata": {
    "collapsed": true
   },
   "outputs": [],
   "source": [
    "pd.DataFrame.corrwith?"
   ]
  },
  {
   "cell_type": "code",
   "execution_count": 94,
   "metadata": {},
   "outputs": [
    {
     "data": {
      "text/plain": [
       "AAPL    0.382373\n",
       "IBM     1.000000\n",
       "MSFT    0.483581\n",
       "GOOG    0.436215\n",
       "dtype: float64"
      ]
     },
     "execution_count": 94,
     "metadata": {},
     "output_type": "execute_result"
    }
   ],
   "source": [
    "returns.corrwith(returns.IBM) # a particular row of the corr matrix"
   ]
  },
  {
   "cell_type": "code",
   "execution_count": null,
   "metadata": {},
   "outputs": [],
   "source": [
    "#compute correlations of percent changes with volume\n",
    "print (volume)\n",
    "print (returns.corrwith(volume))"
   ]
  },
  {
   "cell_type": "markdown",
   "metadata": {},
   "source": [
    "Exercise 5: Use the pandas_datareader to get the daily price for the year 2017 for stocks: STLD, NUE, and IBM. PLot the gross returns for the three stocks based on 'Adj Close' price of a stock as shown in the notebook. Comment on what you observe from the plots in terms of how similar or different are the plots for different stocks. Next compute the coorelation matrix and comment on what you observe. "
   ]
  },
  {
   "cell_type": "code",
   "execution_count": 19,
   "metadata": {},
   "outputs": [
    {
     "data": {
      "image/png": "[encoded data removed]",
      "text/plain": [
       "<Figure size 432x288 with 1 Axes>"
      ]
     },
     "metadata": {
      "needs_background": "light"
     },
     "output_type": "display_data"
    }
   ],
   "source": [
    "start = datetime(2017, 1, 1)\n",
    "end = datetime(2017, 12, 31)\n",
    "all_data = {ticker: web.DataReader(ticker,'yahoo',start, end)\n",
    "            for ticker in ['STLD', 'NUE', 'IBM']}\n",
    "dprice = {ticker: data['Adj Close'] for ticker, data in all_data.items()}\n",
    "price=pd.DataFrame(dprice)\n",
    "returns=price.pct_change()\n",
    "rgross = returns + 1.0 \n",
    "_ = rgross.fillna(1.0, inplace=True)  # assume the return on the first day was zero\n",
    "prs = rgross.cumprod()\n",
    "prs.plot()\n",
    "plt.title('Comparing gross returns for stocks')\n",
    "plt.xlabel('Time')\n",
    "plt.ylabel('Gross Return')\n",
    "plt.legend();\n",
    "plt.show()\n"
   ]
  },
  {
   "cell_type": "code",
   "execution_count": 22,
   "metadata": {
    "scrolled": true
   },
   "outputs": [
    {
     "data": {
      "text/html": [
       "<div>\n",
       "<style scoped>\n",
       "    .dataframe tbody tr th:only-of-type {\n",
       "        vertical-align: middle;\n",
       "    }\n",
       "\n",
       "    .dataframe tbody tr th {\n",
       "        vertical-align: top;\n",
       "    }\n",
       "\n",
       "    .dataframe thead th {\n",
       "        text-align: right;\n",
       "    }\n",
       "</style>\n",
       "<table border=\"1\" class=\"dataframe\">\n",
       "  <thead>\n",
       "    <tr style=\"text-align: right;\">\n",
       "      <th></th>\n",
       "      <th>STLD</th>\n",
       "      <th>NUE</th>\n",
       "      <th>IBM</th>\n",
       "    </tr>\n",
       "  </thead>\n",
       "  <tbody>\n",
       "    <tr>\n",
       "      <th>STLD</th>\n",
       "      <td>1.000000</td>\n",
       "      <td>0.847518</td>\n",
       "      <td>0.093178</td>\n",
       "    </tr>\n",
       "    <tr>\n",
       "      <th>NUE</th>\n",
       "      <td>0.847518</td>\n",
       "      <td>1.000000</td>\n",
       "      <td>0.138282</td>\n",
       "    </tr>\n",
       "    <tr>\n",
       "      <th>IBM</th>\n",
       "      <td>0.093178</td>\n",
       "      <td>0.138282</td>\n",
       "      <td>1.000000</td>\n",
       "    </tr>\n",
       "  </tbody>\n",
       "</table>\n",
       "</div>"
      ],
      "text/plain": [
       "          STLD       NUE       IBM\n",
       "STLD  1.000000  0.847518  0.093178\n",
       "NUE   0.847518  1.000000  0.138282\n",
       "IBM   0.093178  0.138282  1.000000"
      ]
     },
     "execution_count": 22,
     "metadata": {},
     "output_type": "execute_result"
    }
   ],
   "source": [
    "returns.corr()"
   ]
  },
  {
   "cell_type": "code",
   "execution_count": null,
   "metadata": {},
   "outputs": [],
   "source": [
    "# Upon Identifying the corelation matrix we can conclude that  STLD and NUE are nearly corealted to each other seeing the values of 0.84 between the shares.Followed by NUE and IBM with a value of 0.138."
   ]
  },
  {
   "cell_type": "markdown",
   "metadata": {},
   "source": [
    "### Filtering Out Missing Data"
   ]
  },
  {
   "cell_type": "code",
   "execution_count": 105,
   "metadata": {},
   "outputs": [
    {
     "data": {
      "text/plain": [
       "0    1.0\n",
       "1    NaN\n",
       "2    3.5\n",
       "3    NaN\n",
       "4    7.0\n",
       "dtype: float64"
      ]
     },
     "execution_count": 105,
     "metadata": {},
     "output_type": "execute_result"
    }
   ],
   "source": [
    "from numpy import nan as NA\n",
    "data = pd.Series([1, NA, 3.5, NA, 7])\n",
    "data"
   ]
  },
  {
   "cell_type": "code",
   "execution_count": null,
   "metadata": {
    "collapsed": true
   },
   "outputs": [],
   "source": [
    "pd.DataFrame.dropna?"
   ]
  },
  {
   "cell_type": "code",
   "execution_count": 106,
   "metadata": {},
   "outputs": [
    {
     "data": {
      "text/plain": [
       "0    1.0\n",
       "2    3.5\n",
       "4    7.0\n",
       "dtype: float64"
      ]
     },
     "execution_count": 106,
     "metadata": {},
     "output_type": "execute_result"
    }
   ],
   "source": [
    "data.dropna()"
   ]
  },
  {
   "cell_type": "markdown",
   "metadata": {},
   "source": [
    "With DataFrame objects, things are a bit more complex. You may want to drop rows or columns that are all NA or only \n",
    "those containing any NAs. dropna by default drops any row containing a missing value:"
   ]
  },
  {
   "cell_type": "code",
   "execution_count": 107,
   "metadata": {},
   "outputs": [
    {
     "data": {
      "text/html": [
       "<div>\n",
       "<style scoped>\n",
       "    .dataframe tbody tr th:only-of-type {\n",
       "        vertical-align: middle;\n",
       "    }\n",
       "\n",
       "    .dataframe tbody tr th {\n",
       "        vertical-align: top;\n",
       "    }\n",
       "\n",
       "    .dataframe thead th {\n",
       "        text-align: right;\n",
       "    }\n",
       "</style>\n",
       "<table border=\"1\" class=\"dataframe\">\n",
       "  <thead>\n",
       "    <tr style=\"text-align: right;\">\n",
       "      <th></th>\n",
       "      <th>0</th>\n",
       "      <th>1</th>\n",
       "      <th>2</th>\n",
       "    </tr>\n",
       "  </thead>\n",
       "  <tbody>\n",
       "    <tr>\n",
       "      <th>0</th>\n",
       "      <td>1.0</td>\n",
       "      <td>6.5</td>\n",
       "      <td>3.0</td>\n",
       "    </tr>\n",
       "    <tr>\n",
       "      <th>1</th>\n",
       "      <td>1.0</td>\n",
       "      <td>NaN</td>\n",
       "      <td>NaN</td>\n",
       "    </tr>\n",
       "    <tr>\n",
       "      <th>2</th>\n",
       "      <td>NaN</td>\n",
       "      <td>NaN</td>\n",
       "      <td>NaN</td>\n",
       "    </tr>\n",
       "    <tr>\n",
       "      <th>3</th>\n",
       "      <td>NaN</td>\n",
       "      <td>6.5</td>\n",
       "      <td>3.0</td>\n",
       "    </tr>\n",
       "  </tbody>\n",
       "</table>\n",
       "</div>"
      ],
      "text/plain": [
       "     0    1    2\n",
       "0  1.0  6.5  3.0\n",
       "1  1.0  NaN  NaN\n",
       "2  NaN  NaN  NaN\n",
       "3  NaN  6.5  3.0"
      ]
     },
     "execution_count": 107,
     "metadata": {},
     "output_type": "execute_result"
    }
   ],
   "source": [
    "data = pd.DataFrame([[1., 6.5, 3.], [1., NA, NA],\n",
    "                     [NA, NA, NA], [NA, 6.5, 3.]])\n",
    "data"
   ]
  },
  {
   "cell_type": "code",
   "execution_count": 108,
   "metadata": {},
   "outputs": [
    {
     "name": "stdout",
     "output_type": "stream",
     "text": [
      "     0    1    2\n",
      "0  1.0  6.5  3.0\n"
     ]
    }
   ],
   "source": [
    "cleaned = data.dropna()\n",
    "print (cleaned)"
   ]
  },
  {
   "cell_type": "code",
   "execution_count": 109,
   "metadata": {},
   "outputs": [
    {
     "name": "stdout",
     "output_type": "stream",
     "text": [
      "     0    1    2\n",
      "0  1.0  6.5  3.0\n",
      "1  1.0  NaN  NaN\n",
      "3  NaN  6.5  3.0\n"
     ]
    }
   ],
   "source": [
    "#Passing how='all' will only drop rows that are all NA:\n",
    "cleaned = data.dropna(how='all')\n",
    "print (cleaned)"
   ]
  },
  {
   "cell_type": "code",
   "execution_count": 110,
   "metadata": {},
   "outputs": [
    {
     "data": {
      "text/html": [
       "<div>\n",
       "<style scoped>\n",
       "    .dataframe tbody tr th:only-of-type {\n",
       "        vertical-align: middle;\n",
       "    }\n",
       "\n",
       "    .dataframe tbody tr th {\n",
       "        vertical-align: top;\n",
       "    }\n",
       "\n",
       "    .dataframe thead th {\n",
       "        text-align: right;\n",
       "    }\n",
       "</style>\n",
       "<table border=\"1\" class=\"dataframe\">\n",
       "  <thead>\n",
       "    <tr style=\"text-align: right;\">\n",
       "      <th></th>\n",
       "      <th>0</th>\n",
       "      <th>1</th>\n",
       "      <th>2</th>\n",
       "    </tr>\n",
       "  </thead>\n",
       "  <tbody>\n",
       "    <tr>\n",
       "      <th>0</th>\n",
       "      <td>0.214165</td>\n",
       "      <td>-1.200488</td>\n",
       "      <td>-1.261884</td>\n",
       "    </tr>\n",
       "    <tr>\n",
       "      <th>1</th>\n",
       "      <td>-0.283436</td>\n",
       "      <td>-0.093657</td>\n",
       "      <td>0.171650</td>\n",
       "    </tr>\n",
       "    <tr>\n",
       "      <th>2</th>\n",
       "      <td>0.269320</td>\n",
       "      <td>1.136369</td>\n",
       "      <td>-0.085102</td>\n",
       "    </tr>\n",
       "    <tr>\n",
       "      <th>3</th>\n",
       "      <td>-0.364964</td>\n",
       "      <td>-0.284758</td>\n",
       "      <td>-0.627368</td>\n",
       "    </tr>\n",
       "    <tr>\n",
       "      <th>4</th>\n",
       "      <td>0.240456</td>\n",
       "      <td>0.257644</td>\n",
       "      <td>1.161380</td>\n",
       "    </tr>\n",
       "    <tr>\n",
       "      <th>5</th>\n",
       "      <td>0.231193</td>\n",
       "      <td>-1.474257</td>\n",
       "      <td>0.428075</td>\n",
       "    </tr>\n",
       "    <tr>\n",
       "      <th>6</th>\n",
       "      <td>-1.117127</td>\n",
       "      <td>1.207128</td>\n",
       "      <td>0.358414</td>\n",
       "    </tr>\n",
       "  </tbody>\n",
       "</table>\n",
       "</div>"
      ],
      "text/plain": [
       "          0         1         2\n",
       "0  0.214165 -1.200488 -1.261884\n",
       "1 -0.283436 -0.093657  0.171650\n",
       "2  0.269320  1.136369 -0.085102\n",
       "3 -0.364964 -0.284758 -0.627368\n",
       "4  0.240456  0.257644  1.161380\n",
       "5  0.231193 -1.474257  0.428075\n",
       "6 -1.117127  1.207128  0.358414"
      ]
     },
     "execution_count": 110,
     "metadata": {},
     "output_type": "execute_result"
    }
   ],
   "source": [
    "df = pd.DataFrame(np.random.randn(7, 3)) # a quick way to create a random dataframe\n",
    "df"
   ]
  },
  {
   "cell_type": "code",
   "execution_count": 111,
   "metadata": {},
   "outputs": [
    {
     "name": "stdout",
     "output_type": "stream",
     "text": [
      "          0         1         2\n",
      "0  0.214165       NaN       NaN\n",
      "1 -0.283436       NaN       NaN\n",
      "2  0.269320       NaN -0.085102\n",
      "3 -0.364964       NaN -0.627368\n",
      "4  0.240456  0.257644  1.161380\n",
      "5  0.231193 -1.474257  0.428075\n",
      "6 -1.117127  1.207128  0.358414\n"
     ]
    }
   ],
   "source": [
    "df.iloc[:4, 1] = NA\n",
    "df.iloc[:2, 2] = NA\n",
    "print (df)"
   ]
  },
  {
   "cell_type": "code",
   "execution_count": 112,
   "metadata": {},
   "outputs": [
    {
     "name": "stdout",
     "output_type": "stream",
     "text": [
      "          0         1         2\n",
      "4  0.240456  0.257644  1.161380\n",
      "5  0.231193 -1.474257  0.428075\n",
      "6 -1.117127  1.207128  0.358414\n"
     ]
    },
    {
     "data": {
      "text/html": [
       "<div>\n",
       "<style scoped>\n",
       "    .dataframe tbody tr th:only-of-type {\n",
       "        vertical-align: middle;\n",
       "    }\n",
       "\n",
       "    .dataframe tbody tr th {\n",
       "        vertical-align: top;\n",
       "    }\n",
       "\n",
       "    .dataframe thead th {\n",
       "        text-align: right;\n",
       "    }\n",
       "</style>\n",
       "<table border=\"1\" class=\"dataframe\">\n",
       "  <thead>\n",
       "    <tr style=\"text-align: right;\">\n",
       "      <th></th>\n",
       "      <th>0</th>\n",
       "      <th>1</th>\n",
       "      <th>2</th>\n",
       "    </tr>\n",
       "  </thead>\n",
       "  <tbody>\n",
       "    <tr>\n",
       "      <th>2</th>\n",
       "      <td>0.269320</td>\n",
       "      <td>NaN</td>\n",
       "      <td>-0.085102</td>\n",
       "    </tr>\n",
       "    <tr>\n",
       "      <th>3</th>\n",
       "      <td>-0.364964</td>\n",
       "      <td>NaN</td>\n",
       "      <td>-0.627368</td>\n",
       "    </tr>\n",
       "    <tr>\n",
       "      <th>4</th>\n",
       "      <td>0.240456</td>\n",
       "      <td>0.257644</td>\n",
       "      <td>1.161380</td>\n",
       "    </tr>\n",
       "    <tr>\n",
       "      <th>5</th>\n",
       "      <td>0.231193</td>\n",
       "      <td>-1.474257</td>\n",
       "      <td>0.428075</td>\n",
       "    </tr>\n",
       "    <tr>\n",
       "      <th>6</th>\n",
       "      <td>-1.117127</td>\n",
       "      <td>1.207128</td>\n",
       "      <td>0.358414</td>\n",
       "    </tr>\n",
       "  </tbody>\n",
       "</table>\n",
       "</div>"
      ],
      "text/plain": [
       "          0         1         2\n",
       "2  0.269320       NaN -0.085102\n",
       "3 -0.364964       NaN -0.627368\n",
       "4  0.240456  0.257644  1.161380\n",
       "5  0.231193 -1.474257  0.428075\n",
       "6 -1.117127  1.207128  0.358414"
      ]
     },
     "execution_count": 112,
     "metadata": {},
     "output_type": "execute_result"
    }
   ],
   "source": [
    "print (df.dropna())\n",
    "df.dropna(thresh=2)"
   ]
  },
  {
   "cell_type": "markdown",
   "metadata": {},
   "source": [
    "### Filling In Missing Data\n",
    "Rather than filtering out missing data (and potentially discarding other data along with it), you may want to fill in the “holes” in any number of ways. Calling fillna with a constant replaces missing values with that value:"
   ]
  },
  {
   "cell_type": "code",
   "execution_count": 113,
   "metadata": {},
   "outputs": [
    {
     "name": "stdout",
     "output_type": "stream",
     "text": [
      "          0         1         2\n",
      "0  0.214165       NaN       NaN\n",
      "1 -0.283436       NaN       NaN\n",
      "2  0.269320       NaN -0.085102\n",
      "3 -0.364964       NaN -0.627368\n",
      "4  0.240456  0.257644  1.161380\n",
      "5  0.231193 -1.474257  0.428075\n",
      "6 -1.117127  1.207128  0.358414\n"
     ]
    }
   ],
   "source": [
    "print(df)"
   ]
  },
  {
   "cell_type": "code",
   "execution_count": 114,
   "metadata": {},
   "outputs": [
    {
     "name": "stdout",
     "output_type": "stream",
     "text": [
      "          0         1         2\n",
      "0  0.214165  0.000000  0.000000\n",
      "1 -0.283436  0.000000  0.000000\n",
      "2  0.269320  0.000000 -0.085102\n",
      "3 -0.364964  0.000000 -0.627368\n",
      "4  0.240456  0.257644  1.161380\n",
      "5  0.231193 -1.474257  0.428075\n",
      "6 -1.117127  1.207128  0.358414\n"
     ]
    }
   ],
   "source": [
    "print (df.fillna(0))"
   ]
  },
  {
   "cell_type": "code",
   "execution_count": 115,
   "metadata": {},
   "outputs": [
    {
     "data": {
      "text/html": [
       "<div>\n",
       "<style scoped>\n",
       "    .dataframe tbody tr th:only-of-type {\n",
       "        vertical-align: middle;\n",
       "    }\n",
       "\n",
       "    .dataframe tbody tr th {\n",
       "        vertical-align: top;\n",
       "    }\n",
       "\n",
       "    .dataframe thead th {\n",
       "        text-align: right;\n",
       "    }\n",
       "</style>\n",
       "<table border=\"1\" class=\"dataframe\">\n",
       "  <thead>\n",
       "    <tr style=\"text-align: right;\">\n",
       "      <th></th>\n",
       "      <th>0</th>\n",
       "      <th>1</th>\n",
       "      <th>2</th>\n",
       "    </tr>\n",
       "  </thead>\n",
       "  <tbody>\n",
       "    <tr>\n",
       "      <th>0</th>\n",
       "      <td>0.214165</td>\n",
       "      <td>0.500000</td>\n",
       "      <td>0.000000</td>\n",
       "    </tr>\n",
       "    <tr>\n",
       "      <th>1</th>\n",
       "      <td>-0.283436</td>\n",
       "      <td>0.500000</td>\n",
       "      <td>0.000000</td>\n",
       "    </tr>\n",
       "    <tr>\n",
       "      <th>2</th>\n",
       "      <td>0.269320</td>\n",
       "      <td>0.500000</td>\n",
       "      <td>-0.085102</td>\n",
       "    </tr>\n",
       "    <tr>\n",
       "      <th>3</th>\n",
       "      <td>-0.364964</td>\n",
       "      <td>0.500000</td>\n",
       "      <td>-0.627368</td>\n",
       "    </tr>\n",
       "    <tr>\n",
       "      <th>4</th>\n",
       "      <td>0.240456</td>\n",
       "      <td>0.257644</td>\n",
       "      <td>1.161380</td>\n",
       "    </tr>\n",
       "    <tr>\n",
       "      <th>5</th>\n",
       "      <td>0.231193</td>\n",
       "      <td>-1.474257</td>\n",
       "      <td>0.428075</td>\n",
       "    </tr>\n",
       "    <tr>\n",
       "      <th>6</th>\n",
       "      <td>-1.117127</td>\n",
       "      <td>1.207128</td>\n",
       "      <td>0.358414</td>\n",
       "    </tr>\n",
       "  </tbody>\n",
       "</table>\n",
       "</div>"
      ],
      "text/plain": [
       "          0         1         2\n",
       "0  0.214165  0.500000  0.000000\n",
       "1 -0.283436  0.500000  0.000000\n",
       "2  0.269320  0.500000 -0.085102\n",
       "3 -0.364964  0.500000 -0.627368\n",
       "4  0.240456  0.257644  1.161380\n",
       "5  0.231193 -1.474257  0.428075\n",
       "6 -1.117127  1.207128  0.358414"
      ]
     },
     "execution_count": 115,
     "metadata": {},
     "output_type": "execute_result"
    }
   ],
   "source": [
    "df.fillna({1: 0.5, 2: 0}) # column 1 NAs are replaced by 0.5 and column 2 NAs are replaced by 0"
   ]
  },
  {
   "cell_type": "markdown",
   "metadata": {},
   "source": [
    "### Removing Duplicates\n",
    "The DataFrame method duplicated returns a boolean Series indicating whether each row is a duplicate (has been observed in a previous row) or not:"
   ]
  },
  {
   "cell_type": "code",
   "execution_count": 116,
   "metadata": {},
   "outputs": [
    {
     "data": {
      "text/html": [
       "<div>\n",
       "<style scoped>\n",
       "    .dataframe tbody tr th:only-of-type {\n",
       "        vertical-align: middle;\n",
       "    }\n",
       "\n",
       "    .dataframe tbody tr th {\n",
       "        vertical-align: top;\n",
       "    }\n",
       "\n",
       "    .dataframe thead th {\n",
       "        text-align: right;\n",
       "    }\n",
       "</style>\n",
       "<table border=\"1\" class=\"dataframe\">\n",
       "  <thead>\n",
       "    <tr style=\"text-align: right;\">\n",
       "      <th></th>\n",
       "      <th>k1</th>\n",
       "      <th>k2</th>\n",
       "    </tr>\n",
       "  </thead>\n",
       "  <tbody>\n",
       "    <tr>\n",
       "      <th>0</th>\n",
       "      <td>one</td>\n",
       "      <td>1</td>\n",
       "    </tr>\n",
       "    <tr>\n",
       "      <th>1</th>\n",
       "      <td>two</td>\n",
       "      <td>1</td>\n",
       "    </tr>\n",
       "    <tr>\n",
       "      <th>2</th>\n",
       "      <td>one</td>\n",
       "      <td>2</td>\n",
       "    </tr>\n",
       "    <tr>\n",
       "      <th>3</th>\n",
       "      <td>two</td>\n",
       "      <td>3</td>\n",
       "    </tr>\n",
       "    <tr>\n",
       "      <th>4</th>\n",
       "      <td>one</td>\n",
       "      <td>3</td>\n",
       "    </tr>\n",
       "    <tr>\n",
       "      <th>5</th>\n",
       "      <td>two</td>\n",
       "      <td>4</td>\n",
       "    </tr>\n",
       "    <tr>\n",
       "      <th>6</th>\n",
       "      <td>two</td>\n",
       "      <td>4</td>\n",
       "    </tr>\n",
       "  </tbody>\n",
       "</table>\n",
       "</div>"
      ],
      "text/plain": [
       "    k1  k2\n",
       "0  one   1\n",
       "1  two   1\n",
       "2  one   2\n",
       "3  two   3\n",
       "4  one   3\n",
       "5  two   4\n",
       "6  two   4"
      ]
     },
     "execution_count": 116,
     "metadata": {},
     "output_type": "execute_result"
    }
   ],
   "source": [
    "# generate some data with duplicates\n",
    "data = pd.DataFrame({'k1': ['one', 'two'] * 3 + ['two'],\n",
    "                     'k2': [1, 1, 2, 3, 3, 4, 4]})\n",
    "data"
   ]
  },
  {
   "cell_type": "code",
   "execution_count": 117,
   "metadata": {},
   "outputs": [
    {
     "data": {
      "text/plain": [
       "0    False\n",
       "1    False\n",
       "2    False\n",
       "3    False\n",
       "4    False\n",
       "5    False\n",
       "6     True\n",
       "dtype: bool"
      ]
     },
     "execution_count": 117,
     "metadata": {},
     "output_type": "execute_result"
    }
   ],
   "source": [
    "data.duplicated()"
   ]
  },
  {
   "cell_type": "code",
   "execution_count": null,
   "metadata": {},
   "outputs": [],
   "source": [
    "data.drop_duplicates()"
   ]
  },
  {
   "cell_type": "code",
   "execution_count": 118,
   "metadata": {},
   "outputs": [],
   "source": [
    "data['v1'] = range(7)"
   ]
  },
  {
   "cell_type": "code",
   "execution_count": 119,
   "metadata": {},
   "outputs": [
    {
     "data": {
      "text/html": [
       "<div>\n",
       "<style scoped>\n",
       "    .dataframe tbody tr th:only-of-type {\n",
       "        vertical-align: middle;\n",
       "    }\n",
       "\n",
       "    .dataframe tbody tr th {\n",
       "        vertical-align: top;\n",
       "    }\n",
       "\n",
       "    .dataframe thead th {\n",
       "        text-align: right;\n",
       "    }\n",
       "</style>\n",
       "<table border=\"1\" class=\"dataframe\">\n",
       "  <thead>\n",
       "    <tr style=\"text-align: right;\">\n",
       "      <th></th>\n",
       "      <th>k1</th>\n",
       "      <th>k2</th>\n",
       "      <th>v1</th>\n",
       "    </tr>\n",
       "  </thead>\n",
       "  <tbody>\n",
       "    <tr>\n",
       "      <th>0</th>\n",
       "      <td>one</td>\n",
       "      <td>1</td>\n",
       "      <td>0</td>\n",
       "    </tr>\n",
       "    <tr>\n",
       "      <th>1</th>\n",
       "      <td>two</td>\n",
       "      <td>1</td>\n",
       "      <td>1</td>\n",
       "    </tr>\n",
       "    <tr>\n",
       "      <th>2</th>\n",
       "      <td>one</td>\n",
       "      <td>2</td>\n",
       "      <td>2</td>\n",
       "    </tr>\n",
       "    <tr>\n",
       "      <th>3</th>\n",
       "      <td>two</td>\n",
       "      <td>3</td>\n",
       "      <td>3</td>\n",
       "    </tr>\n",
       "    <tr>\n",
       "      <th>4</th>\n",
       "      <td>one</td>\n",
       "      <td>3</td>\n",
       "      <td>4</td>\n",
       "    </tr>\n",
       "    <tr>\n",
       "      <th>5</th>\n",
       "      <td>two</td>\n",
       "      <td>4</td>\n",
       "      <td>5</td>\n",
       "    </tr>\n",
       "    <tr>\n",
       "      <th>6</th>\n",
       "      <td>two</td>\n",
       "      <td>4</td>\n",
       "      <td>6</td>\n",
       "    </tr>\n",
       "  </tbody>\n",
       "</table>\n",
       "</div>"
      ],
      "text/plain": [
       "    k1  k2  v1\n",
       "0  one   1   0\n",
       "1  two   1   1\n",
       "2  one   2   2\n",
       "3  two   3   3\n",
       "4  one   3   4\n",
       "5  two   4   5\n",
       "6  two   4   6"
      ]
     },
     "execution_count": 119,
     "metadata": {},
     "output_type": "execute_result"
    }
   ],
   "source": [
    "data"
   ]
  },
  {
   "cell_type": "code",
   "execution_count": 120,
   "metadata": {},
   "outputs": [
    {
     "data": {
      "text/html": [
       "<div>\n",
       "<style scoped>\n",
       "    .dataframe tbody tr th:only-of-type {\n",
       "        vertical-align: middle;\n",
       "    }\n",
       "\n",
       "    .dataframe tbody tr th {\n",
       "        vertical-align: top;\n",
       "    }\n",
       "\n",
       "    .dataframe thead th {\n",
       "        text-align: right;\n",
       "    }\n",
       "</style>\n",
       "<table border=\"1\" class=\"dataframe\">\n",
       "  <thead>\n",
       "    <tr style=\"text-align: right;\">\n",
       "      <th></th>\n",
       "      <th>k1</th>\n",
       "      <th>k2</th>\n",
       "      <th>v1</th>\n",
       "    </tr>\n",
       "  </thead>\n",
       "  <tbody>\n",
       "    <tr>\n",
       "      <th>0</th>\n",
       "      <td>one</td>\n",
       "      <td>1</td>\n",
       "      <td>0</td>\n",
       "    </tr>\n",
       "    <tr>\n",
       "      <th>1</th>\n",
       "      <td>two</td>\n",
       "      <td>1</td>\n",
       "      <td>1</td>\n",
       "    </tr>\n",
       "  </tbody>\n",
       "</table>\n",
       "</div>"
      ],
      "text/plain": [
       "    k1  k2  v1\n",
       "0  one   1   0\n",
       "1  two   1   1"
      ]
     },
     "execution_count": 120,
     "metadata": {},
     "output_type": "execute_result"
    }
   ],
   "source": [
    "data.drop_duplicates(['k1'])"
   ]
  },
  {
   "cell_type": "code",
   "execution_count": 121,
   "metadata": {},
   "outputs": [
    {
     "data": {
      "text/html": [
       "<div>\n",
       "<style scoped>\n",
       "    .dataframe tbody tr th:only-of-type {\n",
       "        vertical-align: middle;\n",
       "    }\n",
       "\n",
       "    .dataframe tbody tr th {\n",
       "        vertical-align: top;\n",
       "    }\n",
       "\n",
       "    .dataframe thead th {\n",
       "        text-align: right;\n",
       "    }\n",
       "</style>\n",
       "<table border=\"1\" class=\"dataframe\">\n",
       "  <thead>\n",
       "    <tr style=\"text-align: right;\">\n",
       "      <th></th>\n",
       "      <th>k1</th>\n",
       "      <th>k2</th>\n",
       "      <th>v1</th>\n",
       "    </tr>\n",
       "  </thead>\n",
       "  <tbody>\n",
       "    <tr>\n",
       "      <th>0</th>\n",
       "      <td>one</td>\n",
       "      <td>1</td>\n",
       "      <td>0</td>\n",
       "    </tr>\n",
       "    <tr>\n",
       "      <th>1</th>\n",
       "      <td>two</td>\n",
       "      <td>1</td>\n",
       "      <td>1</td>\n",
       "    </tr>\n",
       "    <tr>\n",
       "      <th>2</th>\n",
       "      <td>one</td>\n",
       "      <td>2</td>\n",
       "      <td>2</td>\n",
       "    </tr>\n",
       "    <tr>\n",
       "      <th>3</th>\n",
       "      <td>two</td>\n",
       "      <td>3</td>\n",
       "      <td>3</td>\n",
       "    </tr>\n",
       "    <tr>\n",
       "      <th>4</th>\n",
       "      <td>one</td>\n",
       "      <td>3</td>\n",
       "      <td>4</td>\n",
       "    </tr>\n",
       "    <tr>\n",
       "      <th>6</th>\n",
       "      <td>two</td>\n",
       "      <td>4</td>\n",
       "      <td>6</td>\n",
       "    </tr>\n",
       "  </tbody>\n",
       "</table>\n",
       "</div>"
      ],
      "text/plain": [
       "    k1  k2  v1\n",
       "0  one   1   0\n",
       "1  two   1   1\n",
       "2  one   2   2\n",
       "3  two   3   3\n",
       "4  one   3   4\n",
       "6  two   4   6"
      ]
     },
     "execution_count": 121,
     "metadata": {},
     "output_type": "execute_result"
    }
   ],
   "source": [
    "data.drop_duplicates(['k1', 'k2'], keep='last')"
   ]
  },
  {
   "cell_type": "markdown",
   "metadata": {},
   "source": [
    "Exercise 6: Create the following dataframe:\n",
    "df = pd.DataFrame(np.random.randn(5, 3), index=['a', 'c', 'e', 'f', 'h'], columns=['one', 'two', 'three']).  Next reindex this dataframe by:\n",
    "\n",
    "df2 = df.reindex(['a', 'b', 'c', 'd', 'e', 'f', 'g', 'h'])\n",
    "\n",
    "Use pd.DataFrame.reindex? to check what reindex does.\n",
    "\n",
    "Check null entries in dataframe by using isnull() function. \n",
    "\n",
    "Use pd.DataFrame.isnull? for help.\n",
    "\n",
    "Next fill the null values by zeros."
   ]
  },
  {
   "cell_type": "code",
   "execution_count": 129,
   "metadata": {},
   "outputs": [
    {
     "data": {
      "text/html": [
       "<div>\n",
       "<style scoped>\n",
       "    .dataframe tbody tr th:only-of-type {\n",
       "        vertical-align: middle;\n",
       "    }\n",
       "\n",
       "    .dataframe tbody tr th {\n",
       "        vertical-align: top;\n",
       "    }\n",
       "\n",
       "    .dataframe thead th {\n",
       "        text-align: right;\n",
       "    }\n",
       "</style>\n",
       "<table border=\"1\" class=\"dataframe\">\n",
       "  <thead>\n",
       "    <tr style=\"text-align: right;\">\n",
       "      <th></th>\n",
       "      <th>one</th>\n",
       "      <th>two</th>\n",
       "      <th>three</th>\n",
       "    </tr>\n",
       "  </thead>\n",
       "  <tbody>\n",
       "    <tr>\n",
       "      <th>a</th>\n",
       "      <td>-0.056651</td>\n",
       "      <td>-0.071108</td>\n",
       "      <td>0.529136</td>\n",
       "    </tr>\n",
       "    <tr>\n",
       "      <th>b</th>\n",
       "      <td>0.000000</td>\n",
       "      <td>0.000000</td>\n",
       "      <td>0.000000</td>\n",
       "    </tr>\n",
       "    <tr>\n",
       "      <th>c</th>\n",
       "      <td>-1.305495</td>\n",
       "      <td>0.463116</td>\n",
       "      <td>0.564856</td>\n",
       "    </tr>\n",
       "    <tr>\n",
       "      <th>d</th>\n",
       "      <td>0.000000</td>\n",
       "      <td>0.000000</td>\n",
       "      <td>0.000000</td>\n",
       "    </tr>\n",
       "    <tr>\n",
       "      <th>e</th>\n",
       "      <td>-0.594970</td>\n",
       "      <td>1.230450</td>\n",
       "      <td>-0.954686</td>\n",
       "    </tr>\n",
       "    <tr>\n",
       "      <th>f</th>\n",
       "      <td>-0.370042</td>\n",
       "      <td>0.251874</td>\n",
       "      <td>1.329505</td>\n",
       "    </tr>\n",
       "    <tr>\n",
       "      <th>g</th>\n",
       "      <td>0.000000</td>\n",
       "      <td>0.000000</td>\n",
       "      <td>0.000000</td>\n",
       "    </tr>\n",
       "    <tr>\n",
       "      <th>h</th>\n",
       "      <td>-1.166075</td>\n",
       "      <td>0.926385</td>\n",
       "      <td>0.257301</td>\n",
       "    </tr>\n",
       "  </tbody>\n",
       "</table>\n",
       "</div>"
      ],
      "text/plain": [
       "        one       two     three\n",
       "a -0.056651 -0.071108  0.529136\n",
       "b  0.000000  0.000000  0.000000\n",
       "c -1.305495  0.463116  0.564856\n",
       "d  0.000000  0.000000  0.000000\n",
       "e -0.594970  1.230450 -0.954686\n",
       "f -0.370042  0.251874  1.329505\n",
       "g  0.000000  0.000000  0.000000\n",
       "h -1.166075  0.926385  0.257301"
      ]
     },
     "execution_count": 129,
     "metadata": {},
     "output_type": "execute_result"
    }
   ],
   "source": [
    "df = pd.DataFrame(np.random.randn(5, 3), index=['a', 'c', 'e', 'f', 'h'], columns=['one', 'two', 'three'])\n",
    "df\n",
    "df2 = df.reindex(['a', 'b', 'c', 'd', 'e', 'f', 'g', 'h'])# adding Nan values in the absent index.\n",
    "df2\n",
    "pd.DataFrame.isnull(df2)\n",
    "df3=df2.fillna(0)\n",
    "df3"
   ]
  },
  {
   "cell_type": "markdown",
   "metadata": {},
   "source": [
    "## Hierarchical Indexing\n",
    "Hierarchical indexing is an important feature of pandas that enables you to have multiple (two or more) index levels on an axis. "
   ]
  },
  {
   "cell_type": "code",
   "execution_count": 130,
   "metadata": {},
   "outputs": [
    {
     "data": {
      "text/plain": [
       "a  1   -0.368859\n",
       "   2   -1.274841\n",
       "   3   -0.586258\n",
       "b  1   -0.303304\n",
       "   3   -0.921461\n",
       "c  1   -2.221989\n",
       "   2   -0.936072\n",
       "d  2    0.446936\n",
       "   3   -0.660854\n",
       "dtype: float64"
      ]
     },
     "execution_count": 130,
     "metadata": {},
     "output_type": "execute_result"
    }
   ],
   "source": [
    "data = pd.Series(np.random.randn(9),\n",
    "                 index=[['a', 'a', 'a', 'b', 'b', 'c', 'c', 'd', 'd'],\n",
    "                        [1, 2, 3, 1, 3, 1, 2, 2, 3]])\n",
    "\n",
    "data #The “gaps” in the index display mean “use the label directly above”"
   ]
  },
  {
   "cell_type": "code",
   "execution_count": 131,
   "metadata": {},
   "outputs": [
    {
     "data": {
      "text/plain": [
       "MultiIndex(levels=[['a', 'b', 'c', 'd'], [1, 2, 3]],\n",
       "           labels=[[0, 0, 0, 1, 1, 2, 2, 3, 3], [0, 1, 2, 0, 2, 0, 1, 1, 2]])"
      ]
     },
     "execution_count": 131,
     "metadata": {},
     "output_type": "execute_result"
    }
   ],
   "source": [
    "data.index"
   ]
  },
  {
   "cell_type": "code",
   "execution_count": 132,
   "metadata": {},
   "outputs": [
    {
     "name": "stdout",
     "output_type": "stream",
     "text": [
      "1   -0.303304\n",
      "3   -0.921461\n",
      "dtype: float64\n"
     ]
    }
   ],
   "source": [
    "#With a hierarchically indexed object, so-called partial \n",
    "#indexing is possible, enabling you to concisely select subsets of the data:\n",
    "print (data['b'])"
   ]
  },
  {
   "cell_type": "code",
   "execution_count": 133,
   "metadata": {},
   "outputs": [
    {
     "name": "stdout",
     "output_type": "stream",
     "text": [
      "b  1   -0.303304\n",
      "   3   -0.921461\n",
      "c  1   -2.221989\n",
      "   2   -0.936072\n",
      "dtype: float64\n"
     ]
    }
   ],
   "source": [
    "print (data['b':'c'])"
   ]
  },
  {
   "cell_type": "code",
   "execution_count": 134,
   "metadata": {},
   "outputs": [
    {
     "name": "stdout",
     "output_type": "stream",
     "text": [
      "b  1   -0.303304\n",
      "   3   -0.921461\n",
      "d  2    0.446936\n",
      "   3   -0.660854\n",
      "dtype: float64\n"
     ]
    }
   ],
   "source": [
    "print (data.loc[['b', 'd']])"
   ]
  },
  {
   "cell_type": "code",
   "execution_count": 135,
   "metadata": {},
   "outputs": [
    {
     "name": "stdout",
     "output_type": "stream",
     "text": [
      "a  1   -0.368859\n",
      "   2   -1.274841\n",
      "   3   -0.586258\n",
      "b  1   -0.303304\n",
      "   3   -0.921461\n",
      "c  1   -2.221989\n",
      "   2   -0.936072\n",
      "d  2    0.446936\n",
      "   3   -0.660854\n",
      "dtype: float64\n"
     ]
    },
    {
     "data": {
      "text/plain": [
       "a   -1.274841\n",
       "c   -0.936072\n",
       "d    0.446936\n",
       "dtype: float64"
      ]
     },
     "execution_count": 135,
     "metadata": {},
     "output_type": "execute_result"
    }
   ],
   "source": [
    "print (data)\n",
    "data.loc[:, 2]"
   ]
  },
  {
   "cell_type": "code",
   "execution_count": 136,
   "metadata": {},
   "outputs": [
    {
     "data": {
      "text/html": [
       "<div>\n",
       "<style scoped>\n",
       "    .dataframe tbody tr th:only-of-type {\n",
       "        vertical-align: middle;\n",
       "    }\n",
       "\n",
       "    .dataframe tbody tr th {\n",
       "        vertical-align: top;\n",
       "    }\n",
       "\n",
       "    .dataframe thead th {\n",
       "        text-align: right;\n",
       "    }\n",
       "</style>\n",
       "<table border=\"1\" class=\"dataframe\">\n",
       "  <thead>\n",
       "    <tr style=\"text-align: right;\">\n",
       "      <th></th>\n",
       "      <th>1</th>\n",
       "      <th>2</th>\n",
       "      <th>3</th>\n",
       "    </tr>\n",
       "  </thead>\n",
       "  <tbody>\n",
       "    <tr>\n",
       "      <th>a</th>\n",
       "      <td>-0.368859</td>\n",
       "      <td>-1.274841</td>\n",
       "      <td>-0.586258</td>\n",
       "    </tr>\n",
       "    <tr>\n",
       "      <th>b</th>\n",
       "      <td>-0.303304</td>\n",
       "      <td>NaN</td>\n",
       "      <td>-0.921461</td>\n",
       "    </tr>\n",
       "    <tr>\n",
       "      <th>c</th>\n",
       "      <td>-2.221989</td>\n",
       "      <td>-0.936072</td>\n",
       "      <td>NaN</td>\n",
       "    </tr>\n",
       "    <tr>\n",
       "      <th>d</th>\n",
       "      <td>NaN</td>\n",
       "      <td>0.446936</td>\n",
       "      <td>-0.660854</td>\n",
       "    </tr>\n",
       "  </tbody>\n",
       "</table>\n",
       "</div>"
      ],
      "text/plain": [
       "          1         2         3\n",
       "a -0.368859 -1.274841 -0.586258\n",
       "b -0.303304       NaN -0.921461\n",
       "c -2.221989 -0.936072       NaN\n",
       "d       NaN  0.446936 -0.660854"
      ]
     },
     "execution_count": 136,
     "metadata": {},
     "output_type": "execute_result"
    }
   ],
   "source": [
    "data.unstack()"
   ]
  },
  {
   "cell_type": "code",
   "execution_count": 137,
   "metadata": {},
   "outputs": [
    {
     "data": {
      "text/plain": [
       "a  1   -0.368859\n",
       "   2   -1.274841\n",
       "   3   -0.586258\n",
       "b  1   -0.303304\n",
       "   3   -0.921461\n",
       "c  1   -2.221989\n",
       "   2   -0.936072\n",
       "d  2    0.446936\n",
       "   3   -0.660854\n",
       "dtype: float64"
      ]
     },
     "execution_count": 137,
     "metadata": {},
     "output_type": "execute_result"
    }
   ],
   "source": [
    "data.unstack().stack()"
   ]
  },
  {
   "attachments": {
    "image.png": {
     "image/png": "[encoded data removed]"
    }
   },
   "cell_type": "markdown",
   "metadata": {},
   "source": [
    "Exercise 7: For the hierarchically indexed object as created in the example above:\n",
    "\n",
    "data = pd.Series(np.random.randn(9), index=[['a', 'a', 'a', 'b', 'b', 'c', 'c', 'd', 'd'], [1, 2, 3, 1, 3, 1, 2, 2, 3]])\n",
    "\n",
    "Use unstack function to create a dataframe that looks like this when you print (Hint: Look at the documentation):\n",
    "\n",
    "\n",
    "![image.png](attachment:image.png)\n",
    "\n",
    "Note that the actual  numerical values  may be different from this because we are using random numbers to populate the object. \n"
   ]
  },
  {
   "cell_type": "code",
   "execution_count": 142,
   "metadata": {},
   "outputs": [
    {
     "data": {
      "text/html": [
       "<div>\n",
       "<style scoped>\n",
       "    .dataframe tbody tr th:only-of-type {\n",
       "        vertical-align: middle;\n",
       "    }\n",
       "\n",
       "    .dataframe tbody tr th {\n",
       "        vertical-align: top;\n",
       "    }\n",
       "\n",
       "    .dataframe thead th {\n",
       "        text-align: right;\n",
       "    }\n",
       "</style>\n",
       "<table border=\"1\" class=\"dataframe\">\n",
       "  <thead>\n",
       "    <tr style=\"text-align: right;\">\n",
       "      <th></th>\n",
       "      <th>a</th>\n",
       "      <th>b</th>\n",
       "      <th>c</th>\n",
       "      <th>d</th>\n",
       "    </tr>\n",
       "  </thead>\n",
       "  <tbody>\n",
       "    <tr>\n",
       "      <th>1</th>\n",
       "      <td>1.728194</td>\n",
       "      <td>0.792993</td>\n",
       "      <td>-2.387261</td>\n",
       "      <td>NaN</td>\n",
       "    </tr>\n",
       "    <tr>\n",
       "      <th>2</th>\n",
       "      <td>0.853249</td>\n",
       "      <td>NaN</td>\n",
       "      <td>0.688000</td>\n",
       "      <td>3.197514</td>\n",
       "    </tr>\n",
       "    <tr>\n",
       "      <th>3</th>\n",
       "      <td>-0.193722</td>\n",
       "      <td>-0.303125</td>\n",
       "      <td>NaN</td>\n",
       "      <td>0.518566</td>\n",
       "    </tr>\n",
       "  </tbody>\n",
       "</table>\n",
       "</div>"
      ],
      "text/plain": [
       "          a         b         c         d\n",
       "1  1.728194  0.792993 -2.387261       NaN\n",
       "2  0.853249       NaN  0.688000  3.197514\n",
       "3 -0.193722 -0.303125       NaN  0.518566"
      ]
     },
     "execution_count": 142,
     "metadata": {},
     "output_type": "execute_result"
    }
   ],
   "source": [
    "data = pd.Series(np.random.randn(9), index=[ [1, 2, 3, 1, 3, 1, 2, 2, 3],['a', 'a', 'a', 'b', 'b', 'c', 'c', 'd', 'd']])\n",
    "data\n",
    "data.unstack()"
   ]
  },
  {
   "cell_type": "code",
   "execution_count": null,
   "metadata": {},
   "outputs": [],
   "source": []
  }
 ],
 "metadata": {
  "kernelspec": {
   "display_name": "Python 3",
   "language": "python",
   "name": "python3"
  },
  "language_info": {
   "codemirror_mode": {
    "name": "ipython",
    "version": 3
   },
   "file_extension": ".py",
   "mimetype": "text/x-python",
   "name": "python",
   "nbconvert_exporter": "python",
   "pygments_lexer": "ipython3",
   "version": "3.7.1"
  }
 },
 "nbformat": 4,
 "nbformat_minor": 2
}
